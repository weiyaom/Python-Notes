{
 "cells": [
  {
   "cell_type": "markdown",
   "metadata": {},
   "source": [
    "# Regular Expressions"
   ]
  },
  {
   "cell_type": "markdown",
   "metadata": {},
   "source": [
    "Regular expressions provide a powerful and flexible way to search or match patterns in text, which can be combined with other methods for processing textual data. They are a general concept in computer science, and are not specific to Python (e.g., C, Perl). Regular expressions can be used for tasks such as:\n",
    "\n",
    "* Parsing data in many formats (e.g., unstructured text, CSV, HTML, XML, JSON)\n",
    "* Extracting data elements (e.g., email addresses, URLs, IP addresses, user names)\n",
    "* Text formatting and standardization\n",
    "* Data validation\n",
    "* Syntax highlighting\n",
    "* Natural language processing\n",
    "\n",
    "Today, we will explore the core functionality of regular expressions within the **re** module. However, this is a LARGE topic, and one that we will not be able to cover in totality. For additional information, please refer to the Python documentation for the **re** module:\n",
    "\n",
    "* Tutorial: https://docs.python.org/3/howto/regex.html#regex-howto\n",
    "* Complete: https://docs.python.org/3/library/re.html\n",
    "\n",
    "Next time, we will focus on processing text more generally, which will combine what we know about string methods, regular expressions, plus vectorized string methods in pandas.\n",
    "\n",
    "Friendly Reminders:\n",
    "\n",
    "* Homework #3 due tonight by 11:59 p.m.\n",
    "* Project proposal due March 7 by 11:59 p.m.\n",
    "* Homework #4 released, due March 14 by 11:59 p.m."
   ]
  },
  {
   "cell_type": "code",
   "execution_count": 1,
   "metadata": {},
   "outputs": [],
   "source": [
    "import re"
   ]
  },
  {
   "cell_type": "markdown",
   "metadata": {},
   "source": [
    "## Character Matching"
   ]
  },
  {
   "cell_type": "markdown",
   "metadata": {},
   "source": [
    "A single regular expression--often called a *regex* or a *pattern*--is a string object that contains the pattern of text that you want to match. Oftentimes, there are multiple regexes that work for matching a pattern of a given string. **_However, you must be VERY careful with the syntax of your regex; otherwise, you may not get the match that you are seeking_**. \n",
    "\n",
    "Some examples of patterns could include text such as:\n",
    "\n",
    "* Email addresses (user@domain.com)\n",
    "* IP addresses (172.16.254.1)\n",
    "* URL (http://www.google.com)\n",
    "* Dates and times (6-Mar-2018 12:30:00 P.M.)\n",
    "* Phone numbers (301-555-1234)\n",
    "* And more!\n",
    "\n",
    "The regex itself often contains a mix of regular characters and metacharacters that specify the pattern that you want to match, which can range from very simple to very complex. Regular characters will match the text exactly (i.e., in a literal sense), whereas metacharacters are more flexible and can capture variations in text. Regex metacharacters include:\n",
    "\n",
    "```\n",
    ". ^ $ * + ? { } [ ] \\ | ( )\n",
    "```\n",
    "\n",
    "To match a metacharacter in a literal sense, you must precede the metacharacter with a backslash (e.g., '\\\\\\\\$') or enclose it in brackets (e.g., '[\\$]'). You should also be aware that standard Python string special characters are also recognized (e.g., '\\t', '\\n')."
   ]
  },
  {
   "cell_type": "markdown",
   "metadata": {},
   "source": [
    "Let's begin by defining a function that will check whether or not a regex matches a pattern in a string:"
   ]
  },
  {
   "cell_type": "code",
   "execution_count": 3,
   "metadata": {},
   "outputs": [],
   "source": [
    "def check_re(pat, S):\n",
    "    return bool(re.search(pat, S))\n",
    "# return True or False"
   ]
  },
  {
   "cell_type": "markdown",
   "metadata": {},
   "source": [
    "Now, let's explore the simplest case, for which we want to match a pattern with a specific substring that only contains regular characters. For these cases, if we only want to verify whether a string contains the substring, we can simply use **in**. Regular expressions work as well, but they are not needed for such simple cases."
   ]
  },
  {
   "cell_type": "code",
   "execution_count": 4,
   "metadata": {},
   "outputs": [],
   "source": [
    "S = 'This is a tweet about apples'"
   ]
  },
  {
   "cell_type": "code",
   "execution_count": 5,
   "metadata": {},
   "outputs": [
    {
     "data": {
      "text/plain": [
       "True"
      ]
     },
     "execution_count": 5,
     "metadata": {},
     "output_type": "execute_result"
    }
   ],
   "source": [
    "# Standard string method approach\n",
    "'apple' in S"
   ]
  },
  {
   "cell_type": "code",
   "execution_count": 6,
   "metadata": {},
   "outputs": [
    {
     "data": {
      "text/plain": [
       "True"
      ]
     },
     "execution_count": 6,
     "metadata": {},
     "output_type": "execute_result"
    }
   ],
   "source": [
    "# Check regex for apple\n",
    "check_re('apple', S)"
   ]
  },
  {
   "cell_type": "markdown",
   "metadata": {},
   "source": [
    "Regular expressions become increasingly more useful when there is more potential variation in the text."
   ]
  },
  {
   "cell_type": "code",
   "execution_count": 7,
   "metadata": {},
   "outputs": [],
   "source": [
    "S = 'This is a tweet about Apple'"
   ]
  },
  {
   "cell_type": "code",
   "execution_count": 8,
   "metadata": {},
   "outputs": [
    {
     "data": {
      "text/plain": [
       "False"
      ]
     },
     "execution_count": 8,
     "metadata": {},
     "output_type": "execute_result"
    }
   ],
   "source": [
    "# Case-sensitive string method approach\n",
    "'apple' in S"
   ]
  },
  {
   "cell_type": "code",
   "execution_count": 9,
   "metadata": {},
   "outputs": [
    {
     "data": {
      "text/plain": [
       "True"
      ]
     },
     "execution_count": 9,
     "metadata": {},
     "output_type": "execute_result"
    }
   ],
   "source": [
    "# Case-insenstive string method approach\n",
    "'apple' in S.lower()"
   ]
  },
  {
   "cell_type": "code",
   "execution_count": 10,
   "metadata": {},
   "outputs": [
    {
     "data": {
      "text/plain": [
       "True"
      ]
     },
     "execution_count": 10,
     "metadata": {},
     "output_type": "execute_result"
    }
   ],
   "source": [
    "# Check regex for Apple or apple\n",
    "pat = '[Aa]pple'\n",
    "check_re(pat, S)"
   ]
  },
  {
   "cell_type": "markdown",
   "metadata": {},
   "source": [
    "Let's suppose we want to match text with alternative spellings."
   ]
  },
  {
   "cell_type": "code",
   "execution_count": 11,
   "metadata": {},
   "outputs": [
    {
     "data": {
      "text/plain": [
       "True"
      ]
     },
     "execution_count": 11,
     "metadata": {},
     "output_type": "execute_result"
    }
   ],
   "source": [
    "S = 'Clouds are gray'\n",
    "('gray' in S) or ('grey' in S)"
   ]
  },
  {
   "cell_type": "code",
   "execution_count": 12,
   "metadata": {},
   "outputs": [
    {
     "data": {
      "text/plain": [
       "[True, True]"
      ]
     },
     "execution_count": 12,
     "metadata": {},
     "output_type": "execute_result"
    }
   ],
   "source": [
    "pat = 'gr[ae]y'\n",
    "[check_re(pat, S) for S in ['Clouds are grey in the U.K.', 'Clouds are gray in the U.S.']]"
   ]
  },
  {
   "cell_type": "markdown",
   "metadata": {},
   "source": [
    "As we've seen, we can use square brackets [ ] to enclose a set of characters in our regex that can be used to match a single character in a string. You can also specify a range of characters or digits:\n",
    "\n",
    "* [a-z] will match any lowercase letter (equivalent to string.ascii_lowercase)\n",
    "* [A-Z] will match any uppercase letter (equivalent to string.ascii_uppercase)\n",
    "* [0-9] will match any digit (equivalent to string.digits)\n",
    "\n",
    "Abbreviated and combined ranges also work (e.g., [a-e], [1-4], [a-e1-4])."
   ]
  },
  {
   "cell_type": "code",
   "execution_count": 13,
   "metadata": {},
   "outputs": [
    {
     "data": {
      "text/plain": [
       "True"
      ]
     },
     "execution_count": 13,
     "metadata": {},
     "output_type": "execute_result"
    }
   ],
   "source": [
    "pat = '20[01][0-9]'\n",
    "year = 2000\n",
    "check_re(pat, 'This data was collected in the year %d' % year)"
   ]
  },
  {
   "cell_type": "markdown",
   "metadata": {},
   "source": [
    "We can also use [^ ] to specify characters that we do not want to include when matching a single character in a string (set complement). "
   ]
  },
  {
   "cell_type": "code",
   "execution_count": 14,
   "metadata": {},
   "outputs": [
    {
     "name": "stdout",
     "output_type": "stream",
     "text": [
      "Letters to exclude: ['e', 't', 'a', 'o', 'i', 'n']\n",
      "Letters to include: ['b', 'c', 'd', 'f', 'g', 'h', 'j', 'k', 'l', 'm', 'p', 'q', 'r', 's', 'u', 'v', 'w', 'x', 'y', 'z']\n"
     ]
    },
    {
     "data": {
      "text/plain": [
       "False"
      ]
     },
     "execution_count": 14,
     "metadata": {},
     "output_type": "execute_result"
    }
   ],
   "source": [
    "# Standard string methods approach\n",
    "import string\n",
    "letters_to_exclude = list('etaoin')\n",
    "letters_to_include = [let for let in string.ascii_lowercase if let not in letters_to_exclude]\n",
    "print('Letters to exclude:', letters_to_exclude)\n",
    "print('Letters to include:', letters_to_include)\n",
    "word = 'eat'\n",
    "any([let in word for let in letters_to_include])"
   ]
  },
  {
   "cell_type": "code",
   "execution_count": 15,
   "metadata": {},
   "outputs": [
    {
     "data": {
      "text/plain": [
       "True"
      ]
     },
     "execution_count": 15,
     "metadata": {},
     "output_type": "execute_result"
    }
   ],
   "source": [
    "# Test for word that contains one character outside of the most popular English letters\n",
    "word = 'great'\n",
    "check_re('[^etaoin]', word)"
   ]
  },
  {
   "cell_type": "markdown",
   "metadata": {},
   "source": [
    "In addition, we can use the **or** operator ('|') to specify multiple options for matching text. The **or** operator is much more flexible than specifying a set of characters, as it can more easily capture patterns that differ by more than one or two characters."
   ]
  },
  {
   "cell_type": "code",
   "execution_count": 16,
   "metadata": {},
   "outputs": [
    {
     "data": {
      "text/plain": [
       "[True, True, False]"
      ]
     },
     "execution_count": 16,
     "metadata": {},
     "output_type": "execute_result"
    }
   ],
   "source": [
    "pat = 'gray|grey'\n",
    "[check_re(pat, word) for word in ['grey', 'gray', 'green']]"
   ]
  },
  {
   "cell_type": "code",
   "execution_count": 17,
   "metadata": {},
   "outputs": [
    {
     "data": {
      "text/plain": [
       "[False, True, False, True, False, True]"
      ]
     },
     "execution_count": 17,
     "metadata": {},
     "output_type": "execute_result"
    }
   ],
   "source": [
    "pat = 'blue|yellow|red'\n",
    "[check_re(pat, S) for S in ['green','red','purple','yellow','orange','blue']]"
   ]
  },
  {
   "cell_type": "markdown",
   "metadata": {},
   "source": [
    "Any metacharacters listed inside brackets will be matched literally (e.g., $, \\\\). You do not need to use the escape backslash character as you would need to if specifying a character to match outside of brackets."
   ]
  },
  {
   "cell_type": "code",
   "execution_count": 18,
   "metadata": {},
   "outputs": [
    {
     "data": {
      "text/plain": [
       "True"
      ]
     },
     "execution_count": 18,
     "metadata": {},
     "output_type": "execute_result"
    }
   ],
   "source": [
    "pat = '[$][0-9]\\.[0-9][0-9]'\n",
    "check_re(pat, 'I paid $4.52 for my coffee this morning')"
   ]
  },
  {
   "cell_type": "markdown",
   "metadata": {},
   "source": [
    "In addition to using brackets to specify search patterns for special characters, there are several special sequences that represent specific sets of characters. Most commonly used are:\n",
    "\n",
    "* \\d - Represents all digits, and is equivalent to [0-9]\n",
    "* \\s - Represent all whitespace characters, and is equivalent to [ \\t\\n\\r\\f\\v] (note the space character in the first position)\n",
    "* \\w - Represents all alphanumeric characters, including the underscore ( \\_ ) and is equivalent to [a-zA-Z0-9\\_]\n",
    "\n",
    "There are also complements to these sets, represented by the corresponding capital letter:\n",
    "\n",
    "* \\D - Represents all non-digits, and is equivalent to [^0-9]\n",
    "* \\S - Represents all non-whitespace characters, and is equivalent to [^ \\t\\n\\r\\f\\v]\n",
    "* \\W - Represents all non-alphanumeric characters, and is equivalent to [^a-zA-Z0-9\\_]\n",
    "\n",
    "These character sets can also be specified within square brackets (e.g., [\\s;,.!?]).\n",
    "\n",
    "The **.** metacharacter matches any character, except for a newline character (\\n) (by default), and is especially useful for utilizing regular expressions on unstructured text."
   ]
  },
  {
   "cell_type": "code",
   "execution_count": 19,
   "metadata": {},
   "outputs": [
    {
     "data": {
      "text/plain": [
       "True"
      ]
     },
     "execution_count": 19,
     "metadata": {},
     "output_type": "execute_result"
    }
   ],
   "source": [
    "# Money\n",
    "pat = '[$]\\d[.]\\d\\d'\n",
    "check_re(pat, 'I paid $4.52 for my coffee this morning')"
   ]
  },
  {
   "cell_type": "code",
   "execution_count": 20,
   "metadata": {},
   "outputs": [
    {
     "data": {
      "text/plain": [
       "True"
      ]
     },
     "execution_count": 20,
     "metadata": {},
     "output_type": "execute_result"
    }
   ],
   "source": [
    "# Numbering conventions\n",
    "pat = '[A-Z]\\d\\d'\n",
    "check_re(pat, 'Now serving customer C52 at booth 14')"
   ]
  },
  {
   "cell_type": "code",
   "execution_count": 21,
   "metadata": {},
   "outputs": [
    {
     "data": {
      "text/plain": [
       "True"
      ]
     },
     "execution_count": 21,
     "metadata": {},
     "output_type": "execute_result"
    }
   ],
   "source": [
    "# Washington, DC license plates\n",
    "pat = '[A-Z][A-Z] \\d\\d\\d\\d'\n",
    "check_re(pat, 'In Washington, D.C., I saw a car with a license plate number of AA 1010')"
   ]
  },
  {
   "cell_type": "code",
   "execution_count": 22,
   "metadata": {},
   "outputs": [
    {
     "data": {
      "text/plain": [
       "True"
      ]
     },
     "execution_count": 22,
     "metadata": {},
     "output_type": "execute_result"
    }
   ],
   "source": [
    "# Virginia license plates\n",
    "pat = '[A-Z][A-Z][A-Z]-\\d\\d\\d\\d'\n",
    "check_re(pat, 'In Virginia, I saw a car with a license plate number of ABC-1010')"
   ]
  },
  {
   "cell_type": "code",
   "execution_count": 23,
   "metadata": {},
   "outputs": [
    {
     "data": {
      "text/plain": [
       "True"
      ]
     },
     "execution_count": 23,
     "metadata": {},
     "output_type": "execute_result"
    }
   ],
   "source": [
    "# Dates\n",
    "pat = '\\w\\w\\w \\d'\n",
    "check_re(pat, 'Today, the date is Mar 6.')"
   ]
  },
  {
   "cell_type": "code",
   "execution_count": 24,
   "metadata": {},
   "outputs": [
    {
     "data": {
      "text/plain": [
       "True"
      ]
     },
     "execution_count": 24,
     "metadata": {},
     "output_type": "execute_result"
    }
   ],
   "source": [
    "# Times\n",
    "pat = '[\\s\\d]\\d:\\d\\d [AP]\\.M\\.'\n",
    "check_re(pat, 'Right now, the time is 7:06 P.M.')"
   ]
  },
  {
   "cell_type": "code",
   "execution_count": 25,
   "metadata": {},
   "outputs": [
    {
     "name": "stdout",
     "output_type": "stream",
     "text": [
      "A\t1 5\n",
      "10\n"
     ]
    },
    {
     "data": {
      "text/plain": [
       "True"
      ]
     },
     "execution_count": 25,
     "metadata": {},
     "output_type": "execute_result"
    }
   ],
   "source": [
    "# Space or tab-delimited data\n",
    "pat = '\\w\\s\\d\\s\\d\\s\\d'\n",
    "S = 'A\\t1 5\\n10'\n",
    "print(S)\n",
    "check_re(pat, S)"
   ]
  },
  {
   "cell_type": "markdown",
   "metadata": {},
   "source": [
    "## Quantification"
   ]
  },
  {
   "cell_type": "markdown",
   "metadata": {},
   "source": [
    "Up to this point, we have only been able to perform character-by-character pattern matching on a string. In practice, we do not always have the luxury of processing structured string patterns such as monetary strings, dates, times, or other structured formats. And even for the structured formats, there may still be some variability (e.g. \\\\$12.38 vs. \\\\$8.92).\n",
    "\n",
    "Quantification allows us to specify the number of times that a specific element of a pattern is allowed to be repeated. The most common quantifiers are:\n",
    "\n",
    "* \\* \\- specifies that the previous element can be matched zero or more times (equivalent to {0,})\n",
    "* \\+ \\- specifies that the previous element can be matched one or more times (equivalent to {1,})\n",
    "* ? \\- specifies that the previous element can be matched zero or one time(s) (equivalent to {0,1})\n",
    "* {n} - specifies that the previous element must be matched exactly *n* times\n",
    "* {n,m} - specifies that the previous element must be matched between _n_ and *m* times\n",
    "* {n,} - specifies that the previous element must be matched at least *n* times\n",
    "* {,m} - specifies that the previous element must be matched at most *m* times\n",
    "\n",
    "Quantifiers are greedy by default, which means that they will try to match as many characters as possible (while still getting a match). If this behavior does not match what you want, you can append the '?' character to the end of the quantifier to enforce a conservative approach (e.g., \\*?, \\+?, ??, { }?)."
   ]
  },
  {
   "cell_type": "code",
   "execution_count": 26,
   "metadata": {},
   "outputs": [
    {
     "data": {
      "text/plain": [
       "True"
      ]
     },
     "execution_count": 26,
     "metadata": {},
     "output_type": "execute_result"
    }
   ],
   "source": [
    "# Money\n",
    "pat = '[$]\\d*[.]\\d\\d'\n",
    "check_re(pat, 'I paid $14.52 for my coffee this morning')"
   ]
  },
  {
   "cell_type": "code",
   "execution_count": 27,
   "metadata": {},
   "outputs": [
    {
     "data": {
      "text/plain": [
       "True"
      ]
     },
     "execution_count": 27,
     "metadata": {},
     "output_type": "execute_result"
    }
   ],
   "source": [
    "# Dates\n",
    "pat = '\\w\\w\\w \\d+'\n",
    "check_re(pat, 'Today, the date is Mar 06.')"
   ]
  },
  {
   "cell_type": "code",
   "execution_count": 28,
   "metadata": {},
   "outputs": [
    {
     "data": {
      "text/plain": [
       "True"
      ]
     },
     "execution_count": 28,
     "metadata": {},
     "output_type": "execute_result"
    }
   ],
   "source": [
    "# More dates\n",
    "pat = '\\d?\\d-[A-Za-z]+-\\d{2,4}'\n",
    "check_re(pat, 'Today, the date is 16-March-18')"
   ]
  },
  {
   "cell_type": "markdown",
   "metadata": {},
   "source": [
    "## Regex Methods"
   ]
  },
  {
   "cell_type": "markdown",
   "metadata": {},
   "source": [
    "By combining character matching and quantification, you can create some extremely complex patterns to match various types of text.\n",
    "\n",
    "Given that you have defined an appropriate regex, what can you do with it? The **re** module contains several functions for applying a regex to a string, which are categorized into 3 types:\n",
    "\n",
    "* Pattern matching\n",
    "    - re.search, re.match, re.fullmatch, re.findall, re.finditer\n",
    "* Substitution\n",
    "    - re.sub, re.subn\n",
    "* Splitting\n",
    "    - re.split\n",
    "    \n",
    "All of these functions accept a regex pattern, the string on which to search for the pattern, and an optional set of flags that specify how the pattern matching should be performed (e.g., re.IGNORECASE). Additionally, the substitution functions accept the string object that you want to replace the matched pattern (or a function to apply to each non-overlapping match), and an optional count argument that specifies the maximum number of replacements."
   ]
  },
  {
   "cell_type": "markdown",
   "metadata": {},
   "source": [
    "**re.search** and **re.match** both attempt to match the pattern within a given string object. The difference is that re.match will attempt to match the pattern from the beginning of the string, whereas re.search is more general and will search for the pattern throughout the string until it finds a match (if there is one). Technically, re.search can be used to search at the beginning of a string by placing the '^' character at the beginning of the regex pattern.\n",
    "\n",
    "If processing a consistently structured set of text (e.g., one statement per line), re.match is probably more appropriate, whereas re.search is probably more appropriate for unstructured text. Either function could work for many cases.\n",
    "\n",
    "**re.fullmatch** must match the full string.\n",
    "\n",
    "These pattern matching functions return a **match object** if a match is found; otherwise, they will return None. Oftentimes, you can check whether a match is found by combining a pattern matching attempt with a conditional (e.g., if statement, ternary expression, np.where). The match object has several methods for extracting information about the match:\n",
    "\n",
    "* .group - returns the text that matched the regex pattern\n",
    "* .start - returns the starting index of the text that matched the regex pattern\n",
    "* .end - returns the end index of the text that matched the regex pattern\n",
    "* .span - returns a tuple of (start, end) indices of the text that matched the regex pattern\n",
    "\n",
    "In addition, regexes allow you to specify groups within a given pattern. Any patterns enclosed within parentheses ( ) will be assigned to a group (numbered in order, beginning at 1), and this allows you to extract the specific matched pattern and use it for other purposes (e.g., assign to a variable, append to a list). The above methods accept a group number (if applicable), which returns the associated information about the specific group."
   ]
  },
  {
   "cell_type": "code",
   "execution_count": 29,
   "metadata": {},
   "outputs": [
    {
     "data": {
      "text/plain": [
       "<re.Match object; span=(19, 29), match='6-Mar-2018'>"
      ]
     },
     "execution_count": 29,
     "metadata": {},
     "output_type": "execute_result"
    }
   ],
   "source": [
    "# Extracting dates\n",
    "pat = '\\d?\\d-[A-Za-z]+-\\d{2,4}'\n",
    "S = 'Today, the date is 6-Mar-2018'\n",
    "m = re.search(pat, S)\n",
    "m"
   ]
  },
  {
   "cell_type": "code",
   "execution_count": 30,
   "metadata": {},
   "outputs": [
    {
     "data": {
      "text/plain": [
       "'6-Mar-2018'"
      ]
     },
     "execution_count": 30,
     "metadata": {},
     "output_type": "execute_result"
    }
   ],
   "source": [
    "# .group method\n",
    "m.group()"
   ]
  },
  {
   "cell_type": "code",
   "execution_count": 31,
   "metadata": {},
   "outputs": [
    {
     "data": {
      "text/plain": [
       "'6-Mar-2018'"
      ]
     },
     "execution_count": 31,
     "metadata": {},
     "output_type": "execute_result"
    }
   ],
   "source": [
    "# .start and .end methods\n",
    "S[m.start():m.end()]"
   ]
  },
  {
   "cell_type": "code",
   "execution_count": 32,
   "metadata": {},
   "outputs": [
    {
     "data": {
      "text/plain": [
       "'6-Mar-2018'"
      ]
     },
     "execution_count": 32,
     "metadata": {},
     "output_type": "execute_result"
    }
   ],
   "source": [
    "# .span method\n",
    "start, end = m.span()\n",
    "S[start:end]"
   ]
  },
  {
   "cell_type": "code",
   "execution_count": 33,
   "metadata": {},
   "outputs": [
    {
     "name": "stdout",
     "output_type": "stream",
     "text": [
      "None\n"
     ]
    }
   ],
   "source": [
    "# match function\n",
    "m = re.match(pat,S)\n",
    "print(m)"
   ]
  },
  {
   "cell_type": "code",
   "execution_count": 34,
   "metadata": {},
   "outputs": [
    {
     "name": "stdout",
     "output_type": "stream",
     "text": [
      "<re.Match object; span=(0, 29), match='Today, the date is 6-Mar-2018'>\n"
     ]
    }
   ],
   "source": [
    "# Revised search pattern for match\n",
    "pat = '.*\\d?\\d-[A-Za-z]+-\\d{2,4}'\n",
    "m = re.match(pat,S)\n",
    "print(m)"
   ]
  },
  {
   "cell_type": "code",
   "execution_count": 35,
   "metadata": {},
   "outputs": [
    {
     "name": "stdout",
     "output_type": "stream",
     "text": [
      "<re.Match object; span=(0, 29), match='Today, the date is 6-Mar-2018'>\n"
     ]
    }
   ],
   "source": [
    "# Another revised search pattern for match\n",
    "pat = '.*(\\d?\\d-[A-Za-z]+-\\d{2,4})'\n",
    "m = re.match(pat,S)\n",
    "print(m)"
   ]
  },
  {
   "cell_type": "code",
   "execution_count": 36,
   "metadata": {},
   "outputs": [
    {
     "data": {
      "text/plain": [
       "'6-Mar-2018'"
      ]
     },
     "execution_count": 36,
     "metadata": {},
     "output_type": "execute_result"
    }
   ],
   "source": [
    "# .group method - specify group number\n",
    "m.group(1)"
   ]
  },
  {
   "cell_type": "code",
   "execution_count": 37,
   "metadata": {},
   "outputs": [
    {
     "data": {
      "text/plain": [
       "(19, 29)"
      ]
     },
     "execution_count": 37,
     "metadata": {},
     "output_type": "execute_result"
    }
   ],
   "source": [
    "# .span method - specify group number\n",
    "m.span(1)"
   ]
  },
  {
   "cell_type": "markdown",
   "metadata": {},
   "source": [
    "The **re.findall** and **re.finditer** also match a given string pattern, but rather than match a specific instance (or specific instances) of a pattern, these functions return all matches. The re.findall function returns the result in the form of a list. The re.finditer returns an iterator, which is useful for a process with many potential matches."
   ]
  },
  {
   "cell_type": "code",
   "execution_count": 38,
   "metadata": {},
   "outputs": [
    {
     "data": {
      "text/plain": [
       "['1:00', '7:00', '10:00']"
      ]
     },
     "execution_count": 38,
     "metadata": {},
     "output_type": "execute_result"
    }
   ],
   "source": [
    "# Times\n",
    "pat = '\\d{1,2}:\\d\\d'\n",
    "S = 'The games tomorrow will begin at 1:00, 7:00, and 10:00.'\n",
    "re.findall(pat, S)"
   ]
  },
  {
   "cell_type": "code",
   "execution_count": 39,
   "metadata": {},
   "outputs": [
    {
     "data": {
      "text/plain": [
       "[('1', '00'), ('7', '00'), ('10', '00')]"
      ]
     },
     "execution_count": 39,
     "metadata": {},
     "output_type": "execute_result"
    }
   ],
   "source": [
    "# Times with groups\n",
    "pat = '(\\d{1,2}):(\\d\\d)'\n",
    "S = 'The games tomorrow will begin at 1:00, 7:00, and 10:00.'\n",
    "re.findall(pat, S)"
   ]
  },
  {
   "cell_type": "markdown",
   "metadata": {},
   "source": [
    "The substitution functions--**re.sub** and **re.subn**--are especially useful for data standardization functions. The re.sub function will replace all instances of the matched pattern, whereas re.subn will replace up to *n* occurences."
   ]
  },
  {
   "cell_type": "code",
   "execution_count": 40,
   "metadata": {},
   "outputs": [
    {
     "data": {
      "text/plain": [
       "'My phone number is (301) 555-1234.'"
      ]
     },
     "execution_count": 40,
     "metadata": {},
     "output_type": "execute_result"
    }
   ],
   "source": [
    "# Phone numbers\n",
    "pat = '\\(?(\\d{3})\\)?\\s*(\\d{3})-?(\\d{4})'\n",
    "S = 'My phone number is (301) 555-1234.'\n",
    "repl = lambda m: '(' + m.group(1) + ') ' + m.group(2) + '-' + m.group(3)\n",
    "re.sub(pat, repl, S)"
   ]
  },
  {
   "cell_type": "markdown",
   "metadata": {},
   "source": [
    "The **re.split** function is a more flexible implementation of the standard string split method, which can split a string using regular expression patterns."
   ]
  },
  {
   "cell_type": "code",
   "execution_count": 41,
   "metadata": {},
   "outputs": [
    {
     "data": {
      "text/plain": [
       "['scheme', 'www', 'host', 'com', 'path', 'query', 'fragment']"
      ]
     },
     "execution_count": 41,
     "metadata": {},
     "output_type": "execute_result"
    }
   ],
   "source": [
    "# Parsing URLs\n",
    "pat = '://|\\.|\\?|#|/'\n",
    "S = 'scheme://www.host.com/path?query#fragment'\n",
    "re.split(pat,S)"
   ]
  },
  {
   "cell_type": "markdown",
   "metadata": {},
   "source": [
    "## Compiling Regex Objects"
   ]
  },
  {
   "cell_type": "markdown",
   "metadata": {},
   "source": [
    "Up to this point, we have created a string object that contains the regex pattern, and input this object as the pattern argument into a regex function. For patterns that we expect to use repeatedly (e.g., in a loop), it is more efficient if we compile the object once up front and then utilize the compiled object directly. You can compile regex objects using the **re.compile** function, where you can specify any optional flags similar to the standard **re** functions (see previous section). A combiled **re** object has the same functions as the **re** module, accessed as methods of the compiled object."
   ]
  },
  {
   "cell_type": "code",
   "execution_count": 42,
   "metadata": {},
   "outputs": [
    {
     "data": {
      "text/plain": [
       "re.compile(r'\\d?\\d-[A-Z]+-\\d{2,4}', re.IGNORECASE|re.UNICODE)"
      ]
     },
     "execution_count": 42,
     "metadata": {},
     "output_type": "execute_result"
    }
   ],
   "source": [
    "date_regex = re.compile('\\d?\\d-[A-Z]+-\\d{2,4}', flags=re.IGNORECASE)\n",
    "date_regex"
   ]
  },
  {
   "cell_type": "code",
   "execution_count": 43,
   "metadata": {},
   "outputs": [],
   "source": [
    "date_list = ['5-APR-18', '22-February-2018', '12-august-18', '2/8/2016', 'March, 28, 2018']"
   ]
  },
  {
   "cell_type": "code",
   "execution_count": 44,
   "metadata": {},
   "outputs": [
    {
     "name": "stdout",
     "output_type": "stream",
     "text": [
      "5-APR-18\n",
      "22-February-2018\n",
      "12-august-18\n",
      "No match found, date invalid.\n",
      "No match found, date invalid.\n"
     ]
    }
   ],
   "source": [
    "for dt in date_list:\n",
    "    m = date_regex.search(dt)\n",
    "    if m:\n",
    "        print(m.group())\n",
    "    else:\n",
    "        print('No match found, date invalid.')"
   ]
  },
  {
   "cell_type": "markdown",
   "metadata": {},
   "source": [
    "## Next Time: Text Processing"
   ]
  }
 ],
 "metadata": {
  "anaconda-cloud": {},
  "kernelspec": {
   "display_name": "Python 3",
   "language": "python",
   "name": "python3"
  },
  "language_info": {
   "codemirror_mode": {
    "name": "ipython",
    "version": 3
   },
   "file_extension": ".py",
   "mimetype": "text/x-python",
   "name": "python",
   "nbconvert_exporter": "python",
   "pygments_lexer": "ipython3",
   "version": "3.7.3"
  }
 },
 "nbformat": 4,
 "nbformat_minor": 2
}
