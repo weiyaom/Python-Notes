{
 "cells": [
  {
   "cell_type": "markdown",
   "metadata": {},
   "source": [
    "# Python Essentials I"
   ]
  },
  {
   "cell_type": "markdown",
   "metadata": {},
   "source": [
    "Today, we will begin exploring some foundational Python concepts:\n",
    "\n",
    "* Code Structure and Whitespace\n",
    "* Object-Oriented Programming\n",
    "* Print Statements\n",
    "* Variable Assignment\n",
    "* Importing Modules and Scripts\n",
    "* Scalar Objects\n",
    "* Control Flow\n",
    "\n",
    "Each of these concepts (and ones that follow) form building blocks for more functional work processes in Python. Our (initial) goal is to understand the syntax and purpose behind these individual concepts, but we will build on them as we become more proficient.\n",
    "\n",
    "Friendly reminders:\n",
    "\n",
    "* DataCamp modules for Python Lists, Fundamental Data Types, and Dictionaries are due tonight by 11:59 p.m.\n",
    "* Homework #1 released, due Feb. 12"
   ]
  },
  {
   "cell_type": "markdown",
   "metadata": {},
   "source": [
    "## Code Structure and Whitespace"
   ]
  },
  {
   "cell_type": "markdown",
   "metadata": {},
   "source": [
    "Python code is primarily structured around *whitespace* (i.e., spaces, tabs, and line breaks). This is different than many other programming languages (e.g., C/C++, Java) that require additional punctuation in the code structure (e.g., semicolon at the end of each statement, braces/brackets around nested statements).\n",
    "\n",
    "* Good for readability\n",
    "* Generally, one statment per line, but you can combine multiple statements on a line using the ';' separator"
   ]
  },
  {
   "cell_type": "code",
   "execution_count": 1,
   "metadata": {},
   "outputs": [
    {
     "name": "stdout",
     "output_type": "stream",
     "text": [
      "0\n",
      "1\n",
      "2\n",
      "3\n",
      "4\n"
     ]
    }
   ],
   "source": [
    "# Example of code structure and whitespace\n",
    "# Applies to def, class, if, for, while statements\n",
    "for x in range(5):\n",
    "    print(x)"
   ]
  },
  {
   "cell_type": "code",
   "execution_count": 2,
   "metadata": {},
   "outputs": [
    {
     "name": "stdout",
     "output_type": "stream",
     "text": [
      "5\n",
      "6\n",
      "7\n"
     ]
    }
   ],
   "source": [
    "# Example of multiple statments on a single line\n",
    "print(5); print(6); print(7)"
   ]
  },
  {
   "cell_type": "markdown",
   "metadata": {},
   "source": [
    "### Comments"
   ]
  },
  {
   "cell_type": "markdown",
   "metadata": {},
   "source": [
    "Any text preceded by '#' on a given line of code is ignored by the Python interpreter.\n",
    "\n",
    "Comments are an excellent way to document and communicate what is happening in your code. They can help you remember what each part of your code is trying to accomplish (which you are not likely to remember in detail at a later time), and also help others understand what your code does.\n",
    "\n",
    "Comments are primarily used to explain your code, but they can also be used to ignore code that you want to save for a later time. Or alternatively, you can ignore a part of your code that does not work but potentially test another part.\n",
    "\n",
    "Comments can also be used to help you plan and structure your code. Spell out the steps that you need to complete using comments, then work on each step."
   ]
  },
  {
   "cell_type": "code",
   "execution_count": 3,
   "metadata": {},
   "outputs": [
    {
     "name": "stdout",
     "output_type": "stream",
     "text": [
      "5\n"
     ]
    }
   ],
   "source": [
    "# Typically, comments are listed before a statement (or a set of statements) \n",
    "# or at the beginning of a cell\n",
    "print(5)"
   ]
  },
  {
   "cell_type": "code",
   "execution_count": 4,
   "metadata": {},
   "outputs": [
    {
     "name": "stdout",
     "output_type": "stream",
     "text": [
      "5\n"
     ]
    }
   ],
   "source": [
    "print(5) # Statements can be inline as well"
   ]
  },
  {
   "cell_type": "markdown",
   "metadata": {},
   "source": [
    "## Object-Oriented Programming"
   ]
  },
  {
   "cell_type": "markdown",
   "metadata": {},
   "source": [
    "**Everything** in Python is an object!\n",
    "\n",
    "* Scalars, sequences, dictionaries, DataFrames, etc.\n",
    "* Functions\n",
    "* Modules\n",
    "* Generators\n",
    "* And more!\n",
    "\n",
    "Each type of object has an associated set of:\n",
    "\n",
    "* Attributes - Characteristics of the object\n",
    "* Methods - Functions that can operate on the object and/or other objects\n",
    "\n",
    "Attributes and methods are accessible by:\n",
    "\n",
    "* Attributes: obj.attribute_name or getattr(obj, 'attribute_name')\n",
    "* Methods: obj.method_name(*args*)"
   ]
  },
  {
   "cell_type": "code",
   "execution_count": 5,
   "metadata": {},
   "outputs": [],
   "source": [
    "# Demonstrate attributes and methods using an imported module\n",
    "import pandas as pd"
   ]
  },
  {
   "cell_type": "code",
   "execution_count": 6,
   "metadata": {
    "scrolled": true
   },
   "outputs": [
    {
     "data": {
      "text/plain": [
       "<function pandas.core.arrays.array_.array(data, dtype=None, copy=True)>"
      ]
     },
     "execution_count": 6,
     "metadata": {},
     "output_type": "execute_result"
    }
   ],
   "source": [
    "# Explore attributes and methods using tab completion\n",
    "pd.array"
   ]
  },
  {
   "cell_type": "code",
   "execution_count": 7,
   "metadata": {},
   "outputs": [
    {
     "data": {
      "text/plain": [
       "'pandas'"
      ]
     },
     "execution_count": 7,
     "metadata": {},
     "output_type": "execute_result"
    }
   ],
   "source": [
    "# Extract module name\n",
    "pd.__name__"
   ]
  },
  {
   "cell_type": "code",
   "execution_count": 8,
   "metadata": {},
   "outputs": [
    {
     "data": {
      "text/plain": [
       "'pandas'"
      ]
     },
     "execution_count": 8,
     "metadata": {},
     "output_type": "execute_result"
    }
   ],
   "source": [
    "# Extract module name\n",
    "getattr(pd, '__name__')"
   ]
  },
  {
   "cell_type": "code",
   "execution_count": 9,
   "metadata": {},
   "outputs": [
    {
     "data": {
      "text/plain": [
       "<function pandas.core.reshape.concat.concat(objs, axis=0, join='outer', join_axes=None, ignore_index=False, keys=None, levels=None, names=None, verify_integrity=False, sort=None, copy=True)>"
      ]
     },
     "execution_count": 9,
     "metadata": {},
     "output_type": "execute_result"
    }
   ],
   "source": [
    "# Extract module method\n",
    "pd.concat"
   ]
  },
  {
   "cell_type": "markdown",
   "metadata": {},
   "source": [
    "### Mutable vs. Immutable Objects"
   ]
  },
  {
   "cell_type": "markdown",
   "metadata": {},
   "source": [
    "Mutable objects can be modified via assignment or an appropriate function/method. Examples include lists, sets, dictionaries, NumPy arrays, instances of a class"
   ]
  },
  {
   "cell_type": "code",
   "execution_count": 10,
   "metadata": {},
   "outputs": [
    {
     "data": {
      "text/plain": [
       "[1, 4, 3]"
      ]
     },
     "execution_count": 10,
     "metadata": {},
     "output_type": "execute_result"
    }
   ],
   "source": [
    "# Example of the mutability of a list\n",
    "L = [1,2,3]\n",
    "L[1] = 4\n",
    "L"
   ]
  },
  {
   "cell_type": "code",
   "execution_count": 11,
   "metadata": {},
   "outputs": [
    {
     "data": {
      "text/plain": [
       "{1, 2, 3, 4}"
      ]
     },
     "execution_count": 11,
     "metadata": {},
     "output_type": "execute_result"
    }
   ],
   "source": [
    "# Example of the mutability of a set\n",
    "S = set([1,2,3])\n",
    "S.add(4)\n",
    "S"
   ]
  },
  {
   "cell_type": "markdown",
   "metadata": {},
   "source": [
    "## Immutable objects cannot be modified. Examples include strings and tuples."
   ]
  },
  {
   "cell_type": "code",
   "execution_count": 12,
   "metadata": {},
   "outputs": [
    {
     "ename": "TypeError",
     "evalue": "'str' object does not support item assignment",
     "output_type": "error",
     "traceback": [
      "\u001b[0;31m---------------------------------------------------------------------------\u001b[0m",
      "\u001b[0;31mTypeError\u001b[0m                                 Traceback (most recent call last)",
      "\u001b[0;32m<ipython-input-12-08b85d20eed5>\u001b[0m in \u001b[0;36m<module>\u001b[0;34m\u001b[0m\n\u001b[1;32m      1\u001b[0m \u001b[0;31m# Example of the immutability of a string\u001b[0m\u001b[0;34m\u001b[0m\u001b[0;34m\u001b[0m\u001b[0;34m\u001b[0m\u001b[0m\n\u001b[1;32m      2\u001b[0m \u001b[0ms\u001b[0m \u001b[0;34m=\u001b[0m \u001b[0;34m'this is a string'\u001b[0m\u001b[0;34m\u001b[0m\u001b[0;34m\u001b[0m\u001b[0m\n\u001b[0;32m----> 3\u001b[0;31m \u001b[0ms\u001b[0m\u001b[0;34m[\u001b[0m\u001b[0;36m0\u001b[0m\u001b[0;34m]\u001b[0m \u001b[0;34m=\u001b[0m \u001b[0;34m'T'\u001b[0m\u001b[0;34m\u001b[0m\u001b[0;34m\u001b[0m\u001b[0m\n\u001b[0m",
      "\u001b[0;31mTypeError\u001b[0m: 'str' object does not support item assignment"
     ]
    }
   ],
   "source": [
    "# Example of the immutability of a string\n",
    "s = 'this is a string'\n",
    "s[0] = 'T'"
   ]
  },
  {
   "cell_type": "markdown",
   "metadata": {},
   "source": [
    "## Print Statements"
   ]
  },
  {
   "cell_type": "markdown",
   "metadata": {},
   "source": [
    "Any expression that returns a result will automatically print (if it's the last line in the cell). Examples of expressions include computation; comparisons; or indexing, selecting, or filtering from a data structure (e.g., sequence, collection)."
   ]
  },
  {
   "cell_type": "code",
   "execution_count": null,
   "metadata": {},
   "outputs": [],
   "source": [
    "3 + 5"
   ]
  },
  {
   "cell_type": "code",
   "execution_count": 13,
   "metadata": {},
   "outputs": [],
   "source": [
    "'Hello World'\n",
    "pass"
   ]
  },
  {
   "cell_type": "code",
   "execution_count": 14,
   "metadata": {},
   "outputs": [
    {
     "name": "stdout",
     "output_type": "stream",
     "text": [
      "9\n"
     ]
    }
   ],
   "source": [
    "print(range(10)[9]) # range(0,10)"
   ]
  },
  {
   "cell_type": "markdown",
   "metadata": {},
   "source": [
    "Print statements are typically only needed if you have a more complex statement that you would like to display, or if you have multiple statements to print in a single cell."
   ]
  },
  {
   "cell_type": "code",
   "execution_count": 15,
   "metadata": {},
   "outputs": [
    {
     "name": "stdout",
     "output_type": "stream",
     "text": [
      "The sum of 3 and 5 is: 8\n"
     ]
    }
   ],
   "source": [
    "# Combine string with numerical output\n",
    "print('The sum of 3 and 5 is:', 3 + 5)"
   ]
  },
  {
   "cell_type": "code",
   "execution_count": 16,
   "metadata": {},
   "outputs": [
    {
     "name": "stdout",
     "output_type": "stream",
     "text": [
      "The values are 5, 3.141570, and Monday\n"
     ]
    }
   ],
   "source": [
    "# Formatted output - Method 1\n",
    "# %d int ,%f float, %s text\n",
    "print('The values are %d, %f, and %s' % (5.333333, 3.14157, 'Monday'))"
   ]
  },
  {
   "cell_type": "code",
   "execution_count": 17,
   "metadata": {},
   "outputs": [
    {
     "name": "stdout",
     "output_type": "stream",
     "text": [
      "The values are 5, 3.141570, and 5\n"
     ]
    }
   ],
   "source": [
    "# Formatted output - Method 2\n",
    "print('The values are {0:d}, {1:f}, and {2:s}'.format(5, 3.14157, \"5\"))"
   ]
  },
  {
   "cell_type": "markdown",
   "metadata": {},
   "source": [
    "Print statements also properly format special string characters."
   ]
  },
  {
   "cell_type": "code",
   "execution_count": 18,
   "metadata": {},
   "outputs": [
    {
     "data": {
      "text/plain": [
       "'This is a \\tstring with special \\ncharacters'"
      ]
     },
     "execution_count": 18,
     "metadata": {},
     "output_type": "execute_result"
    }
   ],
   "source": [
    "s = 'This is a \\tstring with special \\ncharacters'\n",
    "s\n",
    "# / Tab /n #$%$^&* shift"
   ]
  },
  {
   "cell_type": "code",
   "execution_count": 19,
   "metadata": {},
   "outputs": [
    {
     "name": "stdout",
     "output_type": "stream",
     "text": [
      "This is a \tstring with special \n",
      "characters\n"
     ]
    }
   ],
   "source": [
    "print(s)"
   ]
  },
  {
   "cell_type": "markdown",
   "metadata": {},
   "source": [
    "## Variable Assignment"
   ]
  },
  {
   "cell_type": "markdown",
   "metadata": {},
   "source": [
    "Variable assignment is a critical task, especially if you need to utilize objects during multiple steps of your process. The Python character for variable assignment is the equal sign (=). Any object can be assigned to a variable."
   ]
  },
  {
   "cell_type": "code",
   "execution_count": 20,
   "metadata": {},
   "outputs": [
    {
     "data": {
      "text/plain": [
       "15"
      ]
     },
     "execution_count": 20,
     "metadata": {},
     "output_type": "execute_result"
    }
   ],
   "source": [
    "# Scalars\n",
    "a = 5\n",
    "b = 10\n",
    "a + b"
   ]
  },
  {
   "cell_type": "code",
   "execution_count": 21,
   "metadata": {},
   "outputs": [
    {
     "data": {
      "text/plain": [
       "<function numpy.sum(a, axis=None, dtype=None, out=None, keepdims=<no value>, initial=<no value>)>"
      ]
     },
     "execution_count": 21,
     "metadata": {},
     "output_type": "execute_result"
    }
   ],
   "source": [
    "# Functions\n",
    "import numpy as np\n",
    "sum_func = np.sum\n",
    "sum_func"
   ]
  },
  {
   "cell_type": "code",
   "execution_count": 22,
   "metadata": {},
   "outputs": [
    {
     "data": {
      "text/plain": [
       "15"
      ]
     },
     "execution_count": 22,
     "metadata": {},
     "output_type": "execute_result"
    }
   ],
   "source": [
    "sum_func([a,b])"
   ]
  },
  {
   "cell_type": "code",
   "execution_count": 23,
   "metadata": {},
   "outputs": [
    {
     "data": {
      "text/plain": [
       "<module 'pandas' from '/anaconda3/lib/python3.7/site-packages/pandas/__init__.py'>"
      ]
     },
     "execution_count": 23,
     "metadata": {},
     "output_type": "execute_result"
    }
   ],
   "source": [
    "# Modules\n",
    "import pandas as pd\n",
    "pd"
   ]
  },
  {
   "cell_type": "markdown",
   "metadata": {},
   "source": [
    "## Importing Modules and Scripts"
   ]
  },
  {
   "cell_type": "markdown",
   "metadata": {},
   "source": [
    "Modules and scripts are both loaded using the **import** statement. Remember, both modules and scripts are written as Python (.py) files, so they are really the same thing. The main difference is semantic, in that modules are often libraries from which we want to load functionality and scripts are often some type of automated process (that often leveragies functionality from other modules).\n",
    "\n",
    "Primary modules for this course (conventions for shorthand names in parentheses):\n",
    "\n",
    "* numpy (np) - Data processing and analysis\n",
    "* pandas (pd) - Data processing and analysis\n",
    "* matplotlib.pyplot (plt) - Data visualization\n",
    "* seaborn (sns) - Data visualization\n",
    "* statsmodels (sm) - Statistical analysis\n",
    "* sklearn - Machine learning\n",
    "* scipy - Scientific computing\n",
    "* nltk - Natural language processing\n",
    "\n",
    "Standard Python library modules that will also be useful:\n",
    "\n",
    "* os - Operating system\n",
    "* re - Regular expression\n",
    "* string - String processing\n",
    "* urllib2 - Processing HTML\n",
    "* glob - File directory\n",
    "* csv - Data import/export for .csv files\n",
    "* copy - Deep object copying\n",
    "* datetime, time - Functionality for working with datetime and time objects"
   ]
  },
  {
   "cell_type": "code",
   "execution_count": 24,
   "metadata": {},
   "outputs": [
    {
     "data": {
      "text/plain": [
       "<module 'pandas' from '/anaconda3/lib/python3.7/site-packages/pandas/__init__.py'>"
      ]
     },
     "execution_count": 24,
     "metadata": {},
     "output_type": "execute_result"
    }
   ],
   "source": [
    "# Load entire module\n",
    "import pandas\n",
    "pandas"
   ]
  },
  {
   "cell_type": "code",
   "execution_count": 25,
   "metadata": {},
   "outputs": [
    {
     "data": {
      "text/plain": [
       "<module 'pandas' from '/anaconda3/lib/python3.7/site-packages/pandas/__init__.py'>"
      ]
     },
     "execution_count": 25,
     "metadata": {},
     "output_type": "execute_result"
    }
   ],
   "source": [
    "# Load module and assign to shorter variable name\n",
    "import pandas as pd\n",
    "pd"
   ]
  },
  {
   "cell_type": "code",
   "execution_count": 26,
   "metadata": {},
   "outputs": [
    {
     "data": {
      "text/plain": [
       "4.0"
      ]
     },
     "execution_count": 26,
     "metadata": {},
     "output_type": "execute_result"
    }
   ],
   "source": [
    "# Load specific functionality from module - Use * for all functions (not recommended)\n",
    "from numpy import floor # import multiple functions via comma separated list\n",
    "floor(4.6)\n",
    "# import math\n",
    "# math.ceil(4.6)\n",
    "# round(4.6)"
   ]
  },
  {
   "cell_type": "markdown",
   "metadata": {},
   "source": [
    "If you are working with a module or script that has been updated since your import, you can reload using the **reload** function (within the importlib module). Be careful! The module object itself will be updated but any variables associated with previous statements are not!"
   ]
  },
  {
   "cell_type": "code",
   "execution_count": 27,
   "metadata": {},
   "outputs": [],
   "source": [
    "import importlib\n",
    "np = importlib.reload(np)"
   ]
  },
  {
   "cell_type": "markdown",
   "metadata": {},
   "source": [
    "## Scalar Objects"
   ]
  },
  {
   "cell_type": "markdown",
   "metadata": {},
   "source": [
    "Scalar objects are basically singluar data structures (i.e., they have a single value). The most common scalar objects are:\n",
    "\n",
    "* Numerical: int, float\n",
    "* Boolean: bool\n",
    "* String: str\n",
    "* Dates and Times (later)\n",
    "\n",
    "There is also the None object, which is technically a singleton object (not a scalar), but also important to know."
   ]
  },
  {
   "cell_type": "markdown",
   "metadata": {},
   "source": [
    "### Numerical Scalars"
   ]
  },
  {
   "cell_type": "markdown",
   "metadata": {},
   "source": [
    "Integer and floating point numbers are the most common numerical scalar types. We typically use integers to represent indivisible (discrete) quanties, whereas floating point numbers are continuous."
   ]
  },
  {
   "cell_type": "code",
   "execution_count": 28,
   "metadata": {},
   "outputs": [
    {
     "data": {
      "text/plain": [
       "int"
      ]
     },
     "execution_count": 28,
     "metadata": {},
     "output_type": "execute_result"
    }
   ],
   "source": [
    "# Integer\n",
    "a = 5\n",
    "type(a)"
   ]
  },
  {
   "cell_type": "code",
   "execution_count": 29,
   "metadata": {},
   "outputs": [
    {
     "data": {
      "text/plain": [
       "float"
      ]
     },
     "execution_count": 29,
     "metadata": {},
     "output_type": "execute_result"
    }
   ],
   "source": [
    "# Float\n",
    "b = 10.\n",
    "type(b)"
   ]
  },
  {
   "cell_type": "code",
   "execution_count": 30,
   "metadata": {},
   "outputs": [
    {
     "name": "stdout",
     "output_type": "stream",
     "text": [
      "10 10\n"
     ]
    }
   ],
   "source": [
    "# Casting to an integer\n",
    "x = int(10.6)\n",
    "y = int(10.2)\n",
    "print(x,y)"
   ]
  },
  {
   "cell_type": "code",
   "execution_count": 31,
   "metadata": {},
   "outputs": [
    {
     "data": {
      "text/plain": [
       "5.0"
      ]
     },
     "execution_count": 31,
     "metadata": {},
     "output_type": "execute_result"
    }
   ],
   "source": [
    "# Casting to a floating point integer\n",
    "float(a)"
   ]
  },
  {
   "cell_type": "code",
   "execution_count": 32,
   "metadata": {},
   "outputs": [
    {
     "data": {
      "text/plain": [
       "1000000.0"
      ]
     },
     "execution_count": 32,
     "metadata": {},
     "output_type": "execute_result"
    }
   ],
   "source": [
    "# Scientific notation\n",
    "1e6"
   ]
  },
  {
   "cell_type": "code",
   "execution_count": 33,
   "metadata": {},
   "outputs": [
    {
     "name": "stdout",
     "output_type": "stream",
     "text": [
      "Expression: 5*10.0\n"
     ]
    },
    {
     "data": {
      "text/plain": [
       "50.0"
      ]
     },
     "execution_count": 33,
     "metadata": {},
     "output_type": "execute_result"
    }
   ],
   "source": [
    "# Basic arithmetic - +, -, /, *, ** (exponential), % (modulo), // (floor division)\n",
    "op = '*'\n",
    "expr = str(a) + op + str(b)\n",
    "print('Expression:', expr)\n",
    "eval(expr)"
   ]
  },
  {
   "cell_type": "code",
   "execution_count": 34,
   "metadata": {},
   "outputs": [
    {
     "data": {
      "text/plain": [
       "15.0"
      ]
     },
     "execution_count": 34,
     "metadata": {},
     "output_type": "execute_result"
    }
   ],
   "source": [
    "# Combine arithmetic with assignment\n",
    "a += b\n",
    "a"
   ]
  },
  {
   "cell_type": "markdown",
   "metadata": {},
   "source": [
    "### Boolean"
   ]
  },
  {
   "cell_type": "markdown",
   "metadata": {},
   "source": [
    "Boolean objects convey truthiness, and can only take one two possible values, **True** or **False**."
   ]
  },
  {
   "cell_type": "code",
   "execution_count": null,
   "metadata": {},
   "outputs": [],
   "source": [
    "True"
   ]
  },
  {
   "cell_type": "code",
   "execution_count": null,
   "metadata": {},
   "outputs": [],
   "source": [
    "False"
   ]
  },
  {
   "cell_type": "code",
   "execution_count": null,
   "metadata": {},
   "outputs": [],
   "source": [
    "not False"
   ]
  },
  {
   "cell_type": "markdown",
   "metadata": {},
   "source": [
    "Boolean objects are most often created via comparison operators or casting (using the **bool** function). Objects that are equivalent to zero or emptiness are cast as False, otherwise they are True."
   ]
  },
  {
   "cell_type": "code",
   "execution_count": 35,
   "metadata": {},
   "outputs": [
    {
     "name": "stdout",
     "output_type": "stream",
     "text": [
      "15.0 10.0\n",
      "False\n",
      "True\n",
      "True\n",
      "False\n",
      "True\n",
      "True\n"
     ]
    }
   ],
   "source": [
    "# Comparison operators - <, >, ==, !=, <=, >=, is, is not\n",
    "print(a, b)\n",
    "print(a < b)\n",
    "print(a != b)\n",
    "print(a >= b)\n",
    "print(a is None)\n",
    "print(type(a) is not str)\n",
    "print(True > False)"
   ]
  },
  {
   "cell_type": "code",
   "execution_count": 36,
   "metadata": {},
   "outputs": [
    {
     "name": "stdout",
     "output_type": "stream",
     "text": [
      "False\n",
      "True\n",
      "True\n"
     ]
    }
   ],
   "source": [
    "# Combine boolean objects\n",
    "print(True & False) # and\n",
    "print(True | False) # or\n",
    "print(False ^ True) # xor"
   ]
  },
  {
   "cell_type": "code",
   "execution_count": 37,
   "metadata": {},
   "outputs": [
    {
     "name": "stdout",
     "output_type": "stream",
     "text": [
      "True\n",
      "True\n",
      "True\n"
     ]
    }
   ],
   "source": [
    "# Chaining comparisons\n",
    "print(5 < 10 and 10 < 25)\n",
    "print(5 < 10 & 10 < 25)\n",
    "print(5 < 10 < 25)"
   ]
  },
  {
   "cell_type": "code",
   "execution_count": 38,
   "metadata": {},
   "outputs": [
    {
     "name": "stdout",
     "output_type": "stream",
     "text": [
      "False\n",
      "True\n",
      "False\n",
      "True\n",
      "False\n",
      "False\n",
      "False\n",
      "False\n",
      "False\n"
     ]
    }
   ],
   "source": [
    "# Casting\n",
    "print(bool(0))\n",
    "print(bool(1))\n",
    "print(bool([]))\n",
    "print(bool([0]))\n",
    "print(bool(\"\"))\n",
    "print(bool({}))\n",
    "print(bool(()))\n",
    "print(bool(set()))\n",
    "print(bool(None))"
   ]
  },
  {
   "cell_type": "markdown",
   "metadata": {},
   "source": [
    "### Strings"
   ]
  },
  {
   "cell_type": "markdown",
   "metadata": {},
   "source": [
    "Strings are essentially sequences of characters (which means that they have length), which allow us to do things with text. You can create strings by enclosing any text within single (''), double(\"\"), or triple ('''''') quotes."
   ]
  },
  {
   "cell_type": "code",
   "execution_count": 39,
   "metadata": {},
   "outputs": [
    {
     "data": {
      "text/plain": [
       "16"
      ]
     },
     "execution_count": 39,
     "metadata": {},
     "output_type": "execute_result"
    }
   ],
   "source": [
    "# Example string\n",
    "s = 'This is a string'\n",
    "len(s)"
   ]
  },
  {
   "cell_type": "code",
   "execution_count": 40,
   "metadata": {},
   "outputs": [
    {
     "data": {
      "text/plain": [
       "'This'"
      ]
     },
     "execution_count": 40,
     "metadata": {},
     "output_type": "execute_result"
    }
   ],
   "source": [
    "# Index substring (from beginning)\n",
    "s[0:4] # Python is zero indexed, indexing stops at one prior to last index"
   ]
  },
  {
   "cell_type": "code",
   "execution_count": 41,
   "metadata": {},
   "outputs": [
    {
     "data": {
      "text/plain": [
       "'string'"
      ]
     },
     "execution_count": 41,
     "metadata": {},
     "output_type": "execute_result"
    }
   ],
   "source": [
    "# Index substring (from end)\n",
    "s[-6:] # negative indices are equivalent to n (length of sequence) - 1"
   ]
  },
  {
   "cell_type": "markdown",
   "metadata": {},
   "source": [
    "Similar to other scalars, there are implementations of addition (concatenation) and multiplication (replication), as well as boolean comparisons."
   ]
  },
  {
   "cell_type": "code",
   "execution_count": 42,
   "metadata": {},
   "outputs": [
    {
     "data": {
      "text/plain": [
       "'This is a string'"
      ]
     },
     "execution_count": 42,
     "metadata": {},
     "output_type": "execute_result"
    }
   ],
   "source": [
    "'This is ' + 'a string'"
   ]
  },
  {
   "cell_type": "code",
   "execution_count": 43,
   "metadata": {},
   "outputs": [
    {
     "data": {
      "text/plain": [
       "'Beetlejuice Beetlejuice Beetlejuice '"
      ]
     },
     "execution_count": 43,
     "metadata": {},
     "output_type": "execute_result"
    }
   ],
   "source": [
    "'Beetlejuice ' * 3"
   ]
  },
  {
   "cell_type": "code",
   "execution_count": 44,
   "metadata": {},
   "outputs": [
    {
     "data": {
      "text/plain": [
       "True"
      ]
     },
     "execution_count": 44,
     "metadata": {},
     "output_type": "execute_result"
    }
   ],
   "source": [
    "'Apple' < 'Ba'"
   ]
  },
  {
   "cell_type": "markdown",
   "metadata": {},
   "source": [
    "You can also cast numeric types to strings (primarily for output purposes) and vice versa (typically, when input data is interpreted as text when it's actually numerical)"
   ]
  },
  {
   "cell_type": "code",
   "execution_count": 45,
   "metadata": {},
   "outputs": [
    {
     "data": {
      "text/plain": [
       "'4.64.6'"
      ]
     },
     "execution_count": 45,
     "metadata": {},
     "output_type": "execute_result"
    }
   ],
   "source": [
    "str(4.6)*2"
   ]
  },
  {
   "cell_type": "code",
   "execution_count": 46,
   "metadata": {},
   "outputs": [
    {
     "data": {
      "text/plain": [
       "9.2"
      ]
     },
     "execution_count": 46,
     "metadata": {},
     "output_type": "execute_result"
    }
   ],
   "source": [
    "float('4.6') * 2"
   ]
  },
  {
   "cell_type": "markdown",
   "metadata": {},
   "source": [
    "There are many built-in methods for manipulating strings:\n",
    "\n",
    "* Case: s.capitalize, s.lower, s.swapcase, s.title, s.upper \n",
    "* Conditions: s.isalnum, s.isalpha, s.isdigit, s.isupper, s.islower, s.istitle, s.isspace\n",
    "* Basic search: s.startswith, s.endswith, s.find, s.index, s.rfind, s.rindex \n",
    "* Format: s.format  \n",
    "* Split: s.split, s.rsplit, s.partition  \n",
    "* Strip: s.strip, s.lstrip, s.rstrip  \n",
    "* Replace: s.replace  \n",
    "* Join: s.join(t) joins the strings in sequence t with s as a separator\n",
    "\n",
    "As strings are immutable, all methods return a new string object (which must be assigned to a new variable, if applicable)"
   ]
  },
  {
   "cell_type": "code",
   "execution_count": 47,
   "metadata": {},
   "outputs": [
    {
     "data": {
      "text/plain": [
       "'THIS IS A STRING'"
      ]
     },
     "execution_count": 47,
     "metadata": {},
     "output_type": "execute_result"
    }
   ],
   "source": [
    "# Example of case\n",
    "s.upper()"
   ]
  },
  {
   "cell_type": "code",
   "execution_count": 48,
   "metadata": {},
   "outputs": [
    {
     "data": {
      "text/plain": [
       "False"
      ]
     },
     "execution_count": 48,
     "metadata": {},
     "output_type": "execute_result"
    }
   ],
   "source": [
    "# Example of conditions\n",
    "s.isupper()"
   ]
  },
  {
   "cell_type": "code",
   "execution_count": 49,
   "metadata": {},
   "outputs": [
    {
     "data": {
      "text/plain": [
       "'This is a string'"
      ]
     },
     "execution_count": 49,
     "metadata": {},
     "output_type": "execute_result"
    }
   ],
   "source": [
    "s"
   ]
  },
  {
   "cell_type": "code",
   "execution_count": 50,
   "metadata": {},
   "outputs": [
    {
     "data": {
      "text/plain": [
       "8"
      ]
     },
     "execution_count": 50,
     "metadata": {},
     "output_type": "execute_result"
    }
   ],
   "source": [
    "# Example of search\n",
    "s.find('a')"
   ]
  },
  {
   "cell_type": "code",
   "execution_count": 51,
   "metadata": {},
   "outputs": [
    {
     "data": {
      "text/plain": [
       "'Today, the temperature is 35.8 degrees Fahrenheit.'"
      ]
     },
     "execution_count": 51,
     "metadata": {},
     "output_type": "execute_result"
    }
   ],
   "source": [
    "# Example of format\n",
    "'Today, the temperature is {0:.1f} degrees Fahrenheit.'.format(35.8)"
   ]
  },
  {
   "cell_type": "code",
   "execution_count": 52,
   "metadata": {},
   "outputs": [
    {
     "data": {
      "text/plain": [
       "['This', 'is', 'a', 'string']"
      ]
     },
     "execution_count": 52,
     "metadata": {},
     "output_type": "execute_result"
    }
   ],
   "source": [
    "# Example of split\n",
    "s.split(' ')"
   ]
  },
  {
   "cell_type": "code",
   "execution_count": 53,
   "metadata": {},
   "outputs": [
    {
     "data": {
      "text/plain": [
       "' is a string'"
      ]
     },
     "execution_count": 53,
     "metadata": {},
     "output_type": "execute_result"
    }
   ],
   "source": [
    "# Example of strip\n",
    "s.strip('This')"
   ]
  },
  {
   "cell_type": "code",
   "execution_count": 54,
   "metadata": {},
   "outputs": [
    {
     "data": {
      "text/plain": [
       "' is a string'"
      ]
     },
     "execution_count": 54,
     "metadata": {},
     "output_type": "execute_result"
    }
   ],
   "source": [
    "# Example of strip\n",
    "s.lstrip('This')"
   ]
  },
  {
   "cell_type": "code",
   "execution_count": 55,
   "metadata": {},
   "outputs": [
    {
     "data": {
      "text/plain": [
       "'This is a new string'"
      ]
     },
     "execution_count": 55,
     "metadata": {},
     "output_type": "execute_result"
    }
   ],
   "source": [
    "# Example of replace\n",
    "s.replace('string', 'new string')"
   ]
  },
  {
   "cell_type": "code",
   "execution_count": 56,
   "metadata": {},
   "outputs": [
    {
     "data": {
      "text/plain": [
       "'Apple@@Banana@@Orange'"
      ]
     },
     "execution_count": 56,
     "metadata": {},
     "output_type": "execute_result"
    }
   ],
   "source": [
    "# Example of join\n",
    "'@@'.join(['Apple', 'Banana', 'Orange'])"
   ]
  },
  {
   "cell_type": "markdown",
   "metadata": {},
   "source": [
    "## Control Flow"
   ]
  },
  {
   "cell_type": "markdown",
   "metadata": {},
   "source": [
    "Control flow describes the order in which code is executed, and allows for more complex tasks to be accomplished than a linear sequence of statements. This functionality allows you to write code that can be used for multiple purposes, under multiple conditions, or on different types of objects. We will focus mostly on two categories of control flow:\n",
    "\n",
    "* Conditionals (if statements)\n",
    "* Loops (for, while statements)"
   ]
  },
  {
   "cell_type": "markdown",
   "metadata": {},
   "source": [
    "### Conditionals"
   ]
  },
  {
   "cell_type": "markdown",
   "metadata": {},
   "source": [
    "**if** statements are the most common type of conditional. They allow you to execute a different set of statements under different conditions (i.e., value of a particular boolean scalar)."
   ]
  },
  {
   "cell_type": "code",
   "execution_count": 57,
   "metadata": {},
   "outputs": [
    {
     "name": "stdout",
     "output_type": "stream",
     "text": [
      "Today is a weekday\n"
     ]
    }
   ],
   "source": [
    "# if-else statement\n",
    "today = 'Monday'\n",
    "if today in ['Monday', 'Tuesday', 'Wednesday', 'Thursday', 'Friday']:\n",
    "    print('Today is a weekday')\n",
    "else:\n",
    "    print('Today is a weekend day')"
   ]
  },
  {
   "cell_type": "code",
   "execution_count": 58,
   "metadata": {},
   "outputs": [
    {
     "name": "stdout",
     "output_type": "stream",
     "text": [
      "Invalid day given\n"
     ]
    }
   ],
   "source": [
    "# if-elif-else statement\n",
    "today = 'Someday'\n",
    "if today in ['Monday', 'Tuesday', 'Wednesday', 'Thursday', 'Friday']:\n",
    "    print('Today is a weekday')\n",
    "elif today in ['Saturday', 'Sunday']:\n",
    "    print('Today is a weekend day')\n",
    "else:\n",
    "    print('Invalid day given')"
   ]
  },
  {
   "cell_type": "code",
   "execution_count": 59,
   "metadata": {},
   "outputs": [
    {
     "name": "stdout",
     "output_type": "stream",
     "text": [
      "Invalid day given\n"
     ]
    }
   ],
   "source": [
    "# Nested if-else statement\n",
    "today = 'Someday'\n",
    "if today in ['Monday', 'Tuesday', 'Wednesday', 'Thursday', 'Friday']:\n",
    "    print('Today is a weekday')\n",
    "else:\n",
    "    if today in ['Saturday', 'Sunday']:\n",
    "        print('Today is a weekend day')\n",
    "    else:\n",
    "        print('Invalid day given')"
   ]
  },
  {
   "cell_type": "code",
   "execution_count": 60,
   "metadata": {},
   "outputs": [],
   "source": [
    "# pass statement\n",
    "b = True\n",
    "if b:\n",
    "    pass\n",
    "else:\n",
    "    print(b)"
   ]
  },
  {
   "cell_type": "markdown",
   "metadata": {},
   "source": [
    "**Ternary expressions** are a nice (Pythonic) construction when you want to return one value under one condition and a different value otherwise:"
   ]
  },
  {
   "cell_type": "code",
   "execution_count": 61,
   "metadata": {},
   "outputs": [
    {
     "data": {
      "text/plain": [
       "1"
      ]
     },
     "execution_count": 61,
     "metadata": {},
     "output_type": "execute_result"
    }
   ],
   "source": [
    "# if statement approach\n",
    "b = True\n",
    "if b:\n",
    "    x = 1\n",
    "else:\n",
    "    x = 0\n",
    "x"
   ]
  },
  {
   "cell_type": "code",
   "execution_count": 62,
   "metadata": {},
   "outputs": [
    {
     "data": {
      "text/plain": [
       "1"
      ]
     },
     "execution_count": 62,
     "metadata": {},
     "output_type": "execute_result"
    }
   ],
   "source": [
    "# Ternary expression\n",
    "b = True\n",
    "x = 1 if b else 0\n",
    "x\n",
    "# if b is ture "
   ]
  },
  {
   "cell_type": "markdown",
   "metadata": {},
   "source": [
    "### Loops"
   ]
  },
  {
   "cell_type": "markdown",
   "metadata": {},
   "source": [
    "Loops are used to perform a series of steps repeatedly. Similar to conditionals, loops can be nested or combined with other control flow constructs. There are two primary constructs for loops:\n",
    "\n",
    "* **for** loops are used to iterate through each element of a sequence\n",
    "* **while** loops are used to repeat a series of steps as long as a particular condition remains True\n",
    "\n",
    "**for** loops in Python are implemented in a more concise way, whereas **while** loops are quite similar to other languages. In general, **for** loops are much more commonly used in Python; **while** loops are not useful very often and while it's possible, you should not use a **while** loop when a **for** loop should be used.\n",
    "\n",
    "**Be wary about whether a loop is the most appropriate approach for a particular task!** Think about whether a particular loop will take a long time to execute or whether it will run forever. We will also discuss comprehensions and vectorization, which are often more efficient approaches for completing many common tasks than a loop. These two constructs play a major role in why Python can be an easier language to process data."
   ]
  },
  {
   "cell_type": "code",
   "execution_count": 63,
   "metadata": {},
   "outputs": [
    {
     "name": "stdout",
     "output_type": "stream",
     "text": [
      "0\n",
      "1\n",
      "2\n",
      "3\n",
      "4\n",
      "5\n",
      "6\n",
      "7\n",
      "8\n",
      "9\n"
     ]
    }
   ],
   "source": [
    "# Standard for loop - Print each element from a list\n",
    "for x in range(10):\n",
    "    print(x)"
   ]
  },
  {
   "cell_type": "code",
   "execution_count": 64,
   "metadata": {},
   "outputs": [
    {
     "name": "stdout",
     "output_type": "stream",
     "text": [
      "0 0\n",
      "1 1\n",
      "2 4\n",
      "3 9\n",
      "4 16\n",
      "5 25\n",
      "6 36\n",
      "7 49\n",
      "8 64\n",
      "9 81\n"
     ]
    }
   ],
   "source": [
    "# for loop - Enumerate each element from a list\n",
    "for i, x in enumerate(range(10)):\n",
    "    print(i, x ** 2)"
   ]
  },
  {
   "cell_type": "code",
   "execution_count": 65,
   "metadata": {},
   "outputs": [
    {
     "name": "stdout",
     "output_type": "stream",
     "text": [
      "0\n",
      "0\n",
      "0\n",
      "0\n",
      "0\n",
      "0\n",
      "1\n",
      "2\n",
      "3\n",
      "4\n",
      "0\n",
      "2\n",
      "4\n",
      "6\n",
      "8\n",
      "0\n",
      "3\n",
      "6\n",
      "9\n",
      "12\n",
      "0\n",
      "4\n",
      "8\n",
      "12\n",
      "16\n"
     ]
    }
   ],
   "source": [
    "# Nested for loop\n",
    "for x in range(5):\n",
    "    for y in range(5):\n",
    "        print(x * y)"
   ]
  },
  {
   "cell_type": "code",
   "execution_count": 66,
   "metadata": {},
   "outputs": [
    {
     "name": "stdout",
     "output_type": "stream",
     "text": [
      "0 0 0\n",
      "1 1 1\n",
      "2 2 4\n",
      "3 3 9\n",
      "4 4 16\n"
     ]
    }
   ],
   "source": [
    "# for loop over tuples - Leave elements packed\n",
    "for pair in zip(range(5), range(5)):\n",
    "    print(pair[0],pair[1],pair[0]*pair[1])"
   ]
  },
  {
   "cell_type": "code",
   "execution_count": null,
   "metadata": {},
   "outputs": [],
   "source": [
    "# for loop over tuples - Unpack each element\n",
    "for x, y in zip(range(5), range(5)):\n",
    "    print(x * y)"
   ]
  },
  {
   "cell_type": "code",
   "execution_count": null,
   "metadata": {},
   "outputs": [],
   "source": [
    "# break statement\n",
    "for x in range(10):\n",
    "    if x > 5:\n",
    "        break\n",
    "    else:\n",
    "        print(x)"
   ]
  },
  {
   "cell_type": "code",
   "execution_count": null,
   "metadata": {},
   "outputs": [],
   "source": [
    "# while loop as a for loop\n",
    "i = 0\n",
    "L = 'abcde'\n",
    "while i < len(L):\n",
    "    print(L[i])\n",
    "    i += 1"
   ]
  },
  {
   "cell_type": "code",
   "execution_count": null,
   "metadata": {},
   "outputs": [],
   "source": [
    "# More appropriate while loop\n",
    "x = 5\n",
    "factorial = 1\n",
    "while x > 0:\n",
    "    factorial *= x\n",
    "    x -= 1\n",
    "factorial"
   ]
  },
  {
   "cell_type": "markdown",
   "metadata": {},
   "source": [
    "## Next Time: Python Essentials II"
   ]
  }
 ],
 "metadata": {
  "kernelspec": {
   "display_name": "Python 3",
   "language": "python",
   "name": "python3"
  },
  "language_info": {
   "codemirror_mode": {
    "name": "ipython",
    "version": 3
   },
   "file_extension": ".py",
   "mimetype": "text/x-python",
   "name": "python",
   "nbconvert_exporter": "python",
   "pygments_lexer": "ipython3",
   "version": "3.7.3"
  }
 },
 "nbformat": 4,
 "nbformat_minor": 2
}
