{
 "cells": [
  {
   "cell_type": "markdown",
   "metadata": {},
   "source": [
    "# Efficient Coding Practices"
   ]
  },
  {
   "cell_type": "markdown",
   "metadata": {},
   "source": [
    "Today, we will discuss some techniques for working efficiently in Python:\n",
    "\n",
    "* Help Features\n",
    "* Edit vs. Command Mode and Keyboard Shortcuts\n",
    "* Syntax Highlighting, Auto Indent, Enclosure Matching\n",
    "* Tab Completion\n",
    "* Object Introspection\n",
    "* Magic Commands\n",
    "* Shell Commands\n",
    "* Testing and Debugging\n",
    "\n",
    "Most of these techniques will take time to incorporate into your work flow, but you’ll get better with use.\n",
    "\n",
    "Other features, such as those related to command history (e.g., up/down arrows, %hist, exec, input/ouput caching, recall, etc.), are important when working within an IPython command line environment, but not so much in a Jupyter Notebook environment. We will not discuss these features in detail.\n",
    "\n",
    "**Friendly reminders:**\n",
    "\n",
    "* DataCamp module for Default Arguments, Variable-Length Arguments, and Scope due tonight by 11:59 p.m."
   ]
  },
  {
   "cell_type": "markdown",
   "metadata": {},
   "source": [
    "## Help Features"
   ]
  },
  {
   "cell_type": "code",
   "execution_count": 1,
   "metadata": {},
   "outputs": [],
   "source": [
    "# Overview of IPython environment\n",
    "?"
   ]
  },
  {
   "cell_type": "code",
   "execution_count": 2,
   "metadata": {
    "scrolled": false
   },
   "outputs": [
    {
     "name": "stdout",
     "output_type": "stream",
     "text": [
      "\n",
      "Welcome to Python 3.7's help utility!\n",
      "\n",
      "If this is your first time using Python, you should definitely check out\n",
      "the tutorial on the Internet at https://docs.python.org/3.7/tutorial/.\n",
      "\n",
      "Enter the name of any module, keyword, or topic to get help on writing\n",
      "Python programs and using Python modules.  To quit this help utility and\n",
      "return to the interpreter, just type \"quit\".\n",
      "\n",
      "To get a list of available modules, keywords, symbols, or topics, type\n",
      "\"modules\", \"keywords\", \"symbols\", or \"topics\".  Each module also comes\n",
      "with a one-line summary of what it does; to list the modules whose name\n",
      "or summary contain a given string such as \"spam\", type \"modules spam\".\n",
      "\n",
      "\n",
      "You are now leaving help and returning to the Python interpreter.\n",
      "If you want to ask for help on a particular object directly from the\n",
      "interpreter, you can type \"help(object)\".  Executing \"help('string')\"\n",
      "has the same effect as typing a particular string at the help> prompt.\n"
     ]
    }
   ],
   "source": [
    "# Help - Input specific function or execute with no input to enter interactive help utility (exit using quit command)\n",
    "help()"
   ]
  },
  {
   "cell_type": "markdown",
   "metadata": {},
   "source": [
    "## Edit vs. Command Mode and Keyboard Shortcuts"
   ]
  },
  {
   "cell_type": "markdown",
   "metadata": {},
   "source": [
    "There are two operating modes within the Jupyter Notebook environment:\n",
    "\n",
    "* Edit mode is indicated by a green cell border and enables editing of the cell content (i.e., code, Markdown cells)\n",
    "* Command mode is indicated by a gray cell border with a blue left margine and primarily enables keyboard shortcuts\n",
    "\n",
    "When in edit mode, press the Esc key to enter command mode (or click outside of cell). When in command mode, press the Enter key to enter Edit mode (or click inside cell). Be careful not to try to type into a cell while in command mode, or you may accidentally enter keyboard shortcuts.\n",
    "\n",
    "Common command mode shortcuts:\n",
    "\n",
    "* Navigation - up/down arrows\n",
    "* Execution - Shift+Enter, Ctrl+Enter, Alt+Enter (these work in edit mode as well)\n",
    "* Save - s\n",
    "* Change cell types: y (Code), m (Markdown)\n",
    "* Insert new cell: a (above), b (below)\n",
    "* Edit cell: c (copy), x (cut), v (paste), dd (delete), z (undo)\n",
    "* Kernel operations: ii (interrupt), 00 (restart)"
   ]
  },
  {
   "cell_type": "code",
   "execution_count": 3,
   "metadata": {},
   "outputs": [],
   "source": [
    "# Play!!"
   ]
  },
  {
   "cell_type": "markdown",
   "metadata": {},
   "source": [
    "## Syntax Highlighting, Auto Indent, Enclosure Matching"
   ]
  },
  {
   "cell_type": "markdown",
   "metadata": {},
   "source": [
    "These are features that we have already encountered, but make it easier to write and test code. These features are often the core functionality of enhanced text editors or IDEs over a basic text editor."
   ]
  },
  {
   "cell_type": "code",
   "execution_count": 4,
   "metadata": {},
   "outputs": [
    {
     "name": "stdout",
     "output_type": "stream",
     "text": [
      "Item 0: 0\n",
      "Item 1: 1\n",
      "Item 2: 2\n",
      "Item 3: 3\n",
      "Item 4: 4\n",
      "Item 5: 5\n",
      "Item 6: 6\n",
      "Item 7: 7\n",
      "Item 8: 8\n",
      "Item 9: 9\n"
     ]
    }
   ],
   "source": [
    "for i, x in enumerate(range(10)):\n",
    "    print('Item %d: %d' % (i,x))"
   ]
  },
  {
   "cell_type": "markdown",
   "metadata": {},
   "source": [
    "## Tab Completion"
   ]
  },
  {
   "cell_type": "markdown",
   "metadata": {},
   "source": [
    "We have encountered tab completion on a couple of examples as well, but in general, it is a very convenient feature to use for variable names, function and magic command names, object attributes and methods, and file directories and names. Use often!!\n",
    "\n",
    "When applying tab completion to an object assigned to a variable, you must execute the code defining the variable before tab completion can be applied to the object referenced by the variable. This requirement must be similarly applied for objects associated with module imports."
   ]
  },
  {
   "cell_type": "code",
   "execution_count": 5,
   "metadata": {},
   "outputs": [],
   "source": [
    "# Variable names\n",
    "really_long_variable_name = None"
   ]
  },
  {
   "cell_type": "code",
   "execution_count": 9,
   "metadata": {},
   "outputs": [],
   "source": [
    "# Test tab completion\n",
    "really_"
   ]
  },
  {
   "cell_type": "code",
   "execution_count": 6,
   "metadata": {},
   "outputs": [],
   "source": [
    "# Function and magic function names\n",
    "%magic"
   ]
  },
  {
   "cell_type": "code",
   "execution_count": 7,
   "metadata": {},
   "outputs": [
    {
     "data": {
      "text/plain": [
       "{1: 'a', 2: 'b', 3: 'c', 4: 'd', 5: 'e'}"
      ]
     },
     "execution_count": 7,
     "metadata": {},
     "output_type": "execute_result"
    }
   ],
   "source": [
    "# Object attributes and methods\n",
    "D = dict(zip(range(1,6), 'abcde'))\n",
    "D"
   ]
  },
  {
   "cell_type": "code",
   "execution_count": null,
   "metadata": {},
   "outputs": [],
   "source": [
    "# Test tab completion\n",
    "D."
   ]
  },
  {
   "cell_type": "code",
   "execution_count": 13,
   "metadata": {},
   "outputs": [
    {
     "ename": "SyntaxError",
     "evalue": "invalid syntax (<ipython-input-13-537ad229dfed>, line 2)",
     "output_type": "error",
     "traceback": [
      "\u001b[0;36m  File \u001b[0;32m\"<ipython-input-13-537ad229dfed>\"\u001b[0;36m, line \u001b[0;32m2\u001b[0m\n\u001b[0;31m    from numpy import\u001b[0m\n\u001b[0m                     ^\u001b[0m\n\u001b[0;31mSyntaxError\u001b[0m\u001b[0;31m:\u001b[0m invalid syntax\n"
     ]
    }
   ],
   "source": [
    "# Importing specific functions from modules\n",
    "from numpy import #XXX"
   ]
  },
  {
   "cell_type": "code",
   "execution_count": null,
   "metadata": {},
   "outputs": [],
   "source": [
    "# File directories and names\n",
    "'~/'"
   ]
  },
  {
   "cell_type": "markdown",
   "metadata": {},
   "source": [
    "## Object Introspection"
   ]
  },
  {
   "cell_type": "markdown",
   "metadata": {},
   "source": [
    "Object introspection is essentially a task associated with learning more information about a particular object. The most common introspection tasks include:\n",
    "\n",
    "* Inquiring about methods and attributes (similar to tab completion) - **dir** function\n",
    "* Inquiring about the type of an object - **type** function\n",
    "* Detailed inquiry about an object - '?'"
   ]
  },
  {
   "cell_type": "code",
   "execution_count": 14,
   "metadata": {},
   "outputs": [
    {
     "data": {
      "text/plain": [
       "['__add__',\n",
       " '__class__',\n",
       " '__contains__',\n",
       " '__delattr__',\n",
       " '__delitem__',\n",
       " '__dir__',\n",
       " '__doc__',\n",
       " '__eq__',\n",
       " '__format__',\n",
       " '__ge__',\n",
       " '__getattribute__',\n",
       " '__getitem__',\n",
       " '__gt__',\n",
       " '__hash__',\n",
       " '__iadd__',\n",
       " '__imul__',\n",
       " '__init__',\n",
       " '__init_subclass__',\n",
       " '__iter__',\n",
       " '__le__',\n",
       " '__len__',\n",
       " '__lt__',\n",
       " '__mul__',\n",
       " '__ne__',\n",
       " '__new__',\n",
       " '__reduce__',\n",
       " '__reduce_ex__',\n",
       " '__repr__',\n",
       " '__reversed__',\n",
       " '__rmul__',\n",
       " '__setattr__',\n",
       " '__setitem__',\n",
       " '__sizeof__',\n",
       " '__str__',\n",
       " '__subclasshook__',\n",
       " 'append',\n",
       " 'clear',\n",
       " 'copy',\n",
       " 'count',\n",
       " 'extend',\n",
       " 'index',\n",
       " 'insert',\n",
       " 'pop',\n",
       " 'remove',\n",
       " 'reverse',\n",
       " 'sort']"
      ]
     },
     "execution_count": 14,
     "metadata": {},
     "output_type": "execute_result"
    }
   ],
   "source": [
    "# Inquiring about methods and attributes - dir function\n",
    "obj = list # example of list, can change obj to any other Python object, e.g., scalar, dictionary, function\n",
    "dir(obj)"
   ]
  },
  {
   "cell_type": "code",
   "execution_count": 8,
   "metadata": {},
   "outputs": [
    {
     "data": {
      "text/plain": [
       "int"
      ]
     },
     "execution_count": 8,
     "metadata": {},
     "output_type": "execute_result"
    }
   ],
   "source": [
    "# Type introspection\n",
    "obj = 5 # example of a scalar, can change obj to any other Python object, e.g., scalar, dictionary, function\n",
    "type(obj)"
   ]
  },
  {
   "cell_type": "code",
   "execution_count": 9,
   "metadata": {},
   "outputs": [],
   "source": [
    "# Detailed introspection - Functions\n",
    "sorted?"
   ]
  },
  {
   "cell_type": "markdown",
   "metadata": {},
   "source": [
    "## Magic Commands"
   ]
  },
  {
   "cell_type": "markdown",
   "metadata": {},
   "source": [
    "Magic commands are convenience functions that are built into the IPython environment. They will not work in a standard (non-IPython) Python environment. They are intended primarily for interactive use.\n",
    "\n",
    "Magic functions are preceded by '%' for line commands and '%%' for cell commands. Cell commands must be entered in the first line of a cell, even above a comment."
   ]
  },
  {
   "cell_type": "code",
   "execution_count": 17,
   "metadata": {},
   "outputs": [],
   "source": [
    "%magic"
   ]
  },
  {
   "cell_type": "code",
   "execution_count": 18,
   "metadata": {},
   "outputs": [
    {
     "data": {
      "application/json": {
       "cell": {
        "!": "OSMagics",
        "HTML": "Other",
        "SVG": "Other",
        "bash": "Other",
        "capture": "ExecutionMagics",
        "debug": "ExecutionMagics",
        "file": "Other",
        "html": "DisplayMagics",
        "javascript": "DisplayMagics",
        "js": "DisplayMagics",
        "latex": "DisplayMagics",
        "markdown": "DisplayMagics",
        "perl": "Other",
        "prun": "ExecutionMagics",
        "pypy": "Other",
        "python": "Other",
        "python2": "Other",
        "python3": "Other",
        "ruby": "Other",
        "script": "ScriptMagics",
        "sh": "Other",
        "svg": "DisplayMagics",
        "sx": "OSMagics",
        "system": "OSMagics",
        "time": "ExecutionMagics",
        "timeit": "ExecutionMagics",
        "writefile": "OSMagics"
       },
       "line": {
        "alias": "OSMagics",
        "alias_magic": "BasicMagics",
        "autoawait": "AsyncMagics",
        "autocall": "AutoMagics",
        "automagic": "AutoMagics",
        "autosave": "KernelMagics",
        "bookmark": "OSMagics",
        "cat": "Other",
        "cd": "OSMagics",
        "clear": "KernelMagics",
        "colors": "BasicMagics",
        "config": "ConfigMagics",
        "connect_info": "KernelMagics",
        "cp": "Other",
        "debug": "ExecutionMagics",
        "dhist": "OSMagics",
        "dirs": "OSMagics",
        "doctest_mode": "BasicMagics",
        "ed": "Other",
        "edit": "KernelMagics",
        "env": "OSMagics",
        "gui": "BasicMagics",
        "hist": "Other",
        "history": "HistoryMagics",
        "killbgscripts": "ScriptMagics",
        "ldir": "Other",
        "less": "KernelMagics",
        "lf": "Other",
        "lk": "Other",
        "ll": "Other",
        "load": "CodeMagics",
        "load_ext": "ExtensionMagics",
        "loadpy": "CodeMagics",
        "logoff": "LoggingMagics",
        "logon": "LoggingMagics",
        "logstart": "LoggingMagics",
        "logstate": "LoggingMagics",
        "logstop": "LoggingMagics",
        "ls": "Other",
        "lsmagic": "BasicMagics",
        "lx": "Other",
        "macro": "ExecutionMagics",
        "magic": "BasicMagics",
        "man": "KernelMagics",
        "matplotlib": "PylabMagics",
        "mkdir": "Other",
        "more": "KernelMagics",
        "mv": "Other",
        "notebook": "BasicMagics",
        "page": "BasicMagics",
        "pastebin": "CodeMagics",
        "pdb": "ExecutionMagics",
        "pdef": "NamespaceMagics",
        "pdoc": "NamespaceMagics",
        "pfile": "NamespaceMagics",
        "pinfo": "NamespaceMagics",
        "pinfo2": "NamespaceMagics",
        "pip": "BasicMagics",
        "popd": "OSMagics",
        "pprint": "BasicMagics",
        "precision": "BasicMagics",
        "prun": "ExecutionMagics",
        "psearch": "NamespaceMagics",
        "psource": "NamespaceMagics",
        "pushd": "OSMagics",
        "pwd": "OSMagics",
        "pycat": "OSMagics",
        "pylab": "PylabMagics",
        "qtconsole": "KernelMagics",
        "quickref": "BasicMagics",
        "recall": "HistoryMagics",
        "rehashx": "OSMagics",
        "reload_ext": "ExtensionMagics",
        "rep": "Other",
        "rerun": "HistoryMagics",
        "reset": "NamespaceMagics",
        "reset_selective": "NamespaceMagics",
        "rm": "Other",
        "rmdir": "Other",
        "run": "ExecutionMagics",
        "save": "CodeMagics",
        "sc": "OSMagics",
        "set_env": "OSMagics",
        "store": "StoreMagics",
        "sx": "OSMagics",
        "system": "OSMagics",
        "tb": "ExecutionMagics",
        "time": "ExecutionMagics",
        "timeit": "ExecutionMagics",
        "unalias": "OSMagics",
        "unload_ext": "ExtensionMagics",
        "who": "NamespaceMagics",
        "who_ls": "NamespaceMagics",
        "whos": "NamespaceMagics",
        "xdel": "NamespaceMagics",
        "xmode": "BasicMagics"
       }
      },
      "text/plain": [
       "Available line magics:\n",
       "%alias  %alias_magic  %autoawait  %autocall  %automagic  %autosave  %bookmark  %cat  %cd  %clear  %colors  %config  %connect_info  %cp  %debug  %dhist  %dirs  %doctest_mode  %ed  %edit  %env  %gui  %hist  %history  %killbgscripts  %ldir  %less  %lf  %lk  %ll  %load  %load_ext  %loadpy  %logoff  %logon  %logstart  %logstate  %logstop  %ls  %lsmagic  %lx  %macro  %magic  %man  %matplotlib  %mkdir  %more  %mv  %notebook  %page  %pastebin  %pdb  %pdef  %pdoc  %pfile  %pinfo  %pinfo2  %popd  %pprint  %precision  %prun  %psearch  %psource  %pushd  %pwd  %pycat  %pylab  %qtconsole  %quickref  %recall  %rehashx  %reload_ext  %rep  %rerun  %reset  %reset_selective  %rm  %rmdir  %run  %save  %sc  %set_env  %store  %sx  %system  %tb  %time  %timeit  %unalias  %unload_ext  %who  %who_ls  %whos  %xdel  %xmode\n",
       "\n",
       "Available cell magics:\n",
       "%%!  %%HTML  %%SVG  %%bash  %%capture  %%debug  %%file  %%html  %%javascript  %%js  %%latex  %%markdown  %%perl  %%prun  %%pypy  %%python  %%python2  %%python3  %%ruby  %%script  %%sh  %%svg  %%sx  %%system  %%time  %%timeit  %%writefile\n",
       "\n",
       "Automagic is ON, % prefix IS NOT needed for line magics."
      ]
     },
     "execution_count": 18,
     "metadata": {},
     "output_type": "execute_result"
    }
   ],
   "source": [
    "%lsmagic"
   ]
  },
  {
   "cell_type": "code",
   "execution_count": 10,
   "metadata": {},
   "outputs": [],
   "source": [
    "%page?"
   ]
  },
  {
   "cell_type": "markdown",
   "metadata": {},
   "source": [
    "### Interacting with System Directories"
   ]
  },
  {
   "cell_type": "code",
   "execution_count": 11,
   "metadata": {},
   "outputs": [
    {
     "data": {
      "text/plain": [
       "'/Users/weiyaoma/Desktop/X jupyter notebook'"
      ]
     },
     "execution_count": 11,
     "metadata": {},
     "output_type": "execute_result"
    }
   ],
   "source": [
    "# Print working directory\n",
    "%pwd"
   ]
  },
  {
   "cell_type": "code",
   "execution_count": 12,
   "metadata": {
    "scrolled": true
   },
   "outputs": [
    {
     "name": "stdout",
     "output_type": "stream",
     "text": [
      "/Users/weiyaoma/Desktop\n"
     ]
    }
   ],
   "source": [
    "# Change directory - Magic command\n",
    "%cd ~/Desktop/"
   ]
  },
  {
   "cell_type": "code",
   "execution_count": 13,
   "metadata": {},
   "outputs": [
    {
     "ename": "FileNotFoundError",
     "evalue": "[Errno 2] No such file or directory: '/Desktop/'",
     "output_type": "error",
     "traceback": [
      "\u001b[0;31m---------------------------------------------------------------------------\u001b[0m",
      "\u001b[0;31mFileNotFoundError\u001b[0m                         Traceback (most recent call last)",
      "\u001b[0;32m<ipython-input-13-9d1abebfe204>\u001b[0m in \u001b[0;36m<module>\u001b[0;34m\u001b[0m\n\u001b[1;32m      1\u001b[0m \u001b[0;31m# Change directory - os command\u001b[0m\u001b[0;34m\u001b[0m\u001b[0;34m\u001b[0m\u001b[0;34m\u001b[0m\u001b[0m\n\u001b[1;32m      2\u001b[0m \u001b[0;32mimport\u001b[0m \u001b[0mos\u001b[0m\u001b[0;34m\u001b[0m\u001b[0;34m\u001b[0m\u001b[0m\n\u001b[0;32m----> 3\u001b[0;31m \u001b[0mos\u001b[0m\u001b[0;34m.\u001b[0m\u001b[0mchdir\u001b[0m\u001b[0;34m(\u001b[0m\u001b[0;34m'/Desktop/'\u001b[0m\u001b[0;34m)\u001b[0m\u001b[0;34m\u001b[0m\u001b[0;34m\u001b[0m\u001b[0m\n\u001b[0m\u001b[1;32m      4\u001b[0m \u001b[0mget_ipython\u001b[0m\u001b[0;34m(\u001b[0m\u001b[0;34m)\u001b[0m\u001b[0;34m.\u001b[0m\u001b[0mrun_line_magic\u001b[0m\u001b[0;34m(\u001b[0m\u001b[0;34m'pwd'\u001b[0m\u001b[0;34m,\u001b[0m \u001b[0;34m''\u001b[0m\u001b[0;34m)\u001b[0m\u001b[0;34m\u001b[0m\u001b[0;34m\u001b[0m\u001b[0m\n",
      "\u001b[0;31mFileNotFoundError\u001b[0m: [Errno 2] No such file or directory: '/Desktop/'"
     ]
    }
   ],
   "source": [
    "# Change directory - os command\n",
    "import os\n",
    "os.chdir('/Desktop/')\n",
    "%pwd"
   ]
  },
  {
   "cell_type": "markdown",
   "metadata": {},
   "source": [
    "### Namespace and Variable Storage"
   ]
  },
  {
   "cell_type": "code",
   "execution_count": 14,
   "metadata": {},
   "outputs": [
    {
     "name": "stdout",
     "output_type": "stream",
     "text": [
      "D\t i\t json\t obj\t os\t really_long_variable_name\t x\t yapf_reformat\t \n"
     ]
    }
   ],
   "source": [
    "# List variables\n",
    "%who"
   ]
  },
  {
   "cell_type": "code",
   "execution_count": 15,
   "metadata": {},
   "outputs": [
    {
     "name": "stdout",
     "output_type": "stream",
     "text": [
      "Stored 'x' (int)\n"
     ]
    },
    {
     "ename": "NameError",
     "evalue": "name 'x' is not defined",
     "output_type": "error",
     "traceback": [
      "\u001b[0;31m---------------------------------------------------------------------------\u001b[0m",
      "\u001b[0;31mNameError\u001b[0m                                 Traceback (most recent call last)",
      "\u001b[0;32m<ipython-input-15-bb0c0c5b39f1>\u001b[0m in \u001b[0;36m<module>\u001b[0;34m\u001b[0m\n\u001b[1;32m      3\u001b[0m \u001b[0mget_ipython\u001b[0m\u001b[0;34m(\u001b[0m\u001b[0;34m)\u001b[0m\u001b[0;34m.\u001b[0m\u001b[0mrun_line_magic\u001b[0m\u001b[0;34m(\u001b[0m\u001b[0;34m'store'\u001b[0m\u001b[0;34m,\u001b[0m \u001b[0;34m'x'\u001b[0m\u001b[0;34m)\u001b[0m\u001b[0;34m\u001b[0m\u001b[0;34m\u001b[0m\u001b[0m\n\u001b[1;32m      4\u001b[0m \u001b[0;32mdel\u001b[0m \u001b[0mx\u001b[0m\u001b[0;34m\u001b[0m\u001b[0;34m\u001b[0m\u001b[0m\n\u001b[0;32m----> 5\u001b[0;31m \u001b[0mx\u001b[0m\u001b[0;34m\u001b[0m\u001b[0;34m\u001b[0m\u001b[0m\n\u001b[0m",
      "\u001b[0;31mNameError\u001b[0m: name 'x' is not defined"
     ]
    }
   ],
   "source": [
    "# Store variable\n",
    "x = 5\n",
    "%store x\n",
    "del x\n",
    "x"
   ]
  },
  {
   "cell_type": "code",
   "execution_count": 16,
   "metadata": {},
   "outputs": [
    {
     "data": {
      "text/plain": [
       "5"
      ]
     },
     "execution_count": 16,
     "metadata": {},
     "output_type": "execute_result"
    }
   ],
   "source": [
    "# Restore variable\n",
    "%store -r x\n",
    "x"
   ]
  },
  {
   "cell_type": "code",
   "execution_count": null,
   "metadata": {},
   "outputs": [],
   "source": [
    "%store?"
   ]
  },
  {
   "cell_type": "markdown",
   "metadata": {},
   "source": [
    "### Timing and Profiling"
   ]
  },
  {
   "cell_type": "code",
   "execution_count": 17,
   "metadata": {},
   "outputs": [
    {
     "name": "stdout",
     "output_type": "stream",
     "text": [
      "CPU times: user 415 µs, sys: 9 µs, total: 424 µs\n",
      "Wall time: 429 µs\n"
     ]
    }
   ],
   "source": [
    "# Time line command\n",
    "%time long_list = [x for x in range(10000)] # also %%time as a cell magic command, must be placed at beginning of cell"
   ]
  },
  {
   "cell_type": "code",
   "execution_count": 18,
   "metadata": {},
   "outputs": [
    {
     "name": "stdout",
     "output_type": "stream",
     "text": [
      "452 µs ± 12.7 µs per loop (mean ± std. dev. of 7 runs, 1000 loops each)\n"
     ]
    }
   ],
   "source": [
    "# Timeit line command\n",
    "%timeit long_list = [x for x in range(10000)] # also %%time as a cell magic command, must be placed at beginning of cell"
   ]
  },
  {
   "cell_type": "code",
   "execution_count": 19,
   "metadata": {},
   "outputs": [
    {
     "name": "stdout",
     "output_type": "stream",
     "text": [
      " "
     ]
    }
   ],
   "source": [
    "# Profile command\n",
    "%prun [x for x in map(lambda num: num ** 2, long_list)]"
   ]
  },
  {
   "cell_type": "markdown",
   "metadata": {},
   "source": [
    "### matplotlib and pylab"
   ]
  },
  {
   "cell_type": "code",
   "execution_count": 20,
   "metadata": {},
   "outputs": [
    {
     "data": {
      "image/png": "[encoded data removed]",
      "text/plain": [
       "<Figure size 432x288 with 1 Axes>"
      ]
     },
     "metadata": {
      "needs_background": "light"
     },
     "output_type": "display_data"
    }
   ],
   "source": [
    "# matplotlib - Enables inline plotting, does not import matplotlib module\n",
    "%matplotlib inline\n",
    "import matplotlib.pyplot as plt\n",
    "plt.plot(range(10)); # suppress matplotlib output with ';'"
   ]
  },
  {
   "cell_type": "code",
   "execution_count": 21,
   "metadata": {},
   "outputs": [
    {
     "name": "stdout",
     "output_type": "stream",
     "text": [
      "Populating the interactive namespace from numpy and matplotlib\n"
     ]
    },
    {
     "data": {
      "image/png": "[encoded data removed]",
      "text/plain": [
       "<Figure size 432x288 with 1 Axes>"
      ]
     },
     "metadata": {
      "needs_background": "light"
     },
     "output_type": "display_data"
    }
   ],
   "source": [
    "# pylab - Imports numpy as np, matplotlib.pyplot as plt and enables inline plotting\n",
    "%pylab inline\n",
    "plt.plot(range(10)); # suppress matplotlib output with ';'"
   ]
  },
  {
   "cell_type": "markdown",
   "metadata": {},
   "source": [
    "## Shell Commands"
   ]
  },
  {
   "cell_type": "markdown",
   "metadata": {},
   "source": [
    "Shell (Unix) commands can be executed from within the IPython environment, taking advantage of the extensive operating system functionality that exists. This is one example of how easily Python can interactive with other programming languages."
   ]
  },
  {
   "cell_type": "code",
   "execution_count": 22,
   "metadata": {},
   "outputs": [
    {
     "name": "stdout",
     "output_type": "stream",
     "text": [
      "/Users/weiyaoma/Desktop\r\n"
     ]
    }
   ],
   "source": [
    "# Basic shell commands\n",
    "!pwd"
   ]
  },
  {
   "cell_type": "code",
   "execution_count": 23,
   "metadata": {},
   "outputs": [
    {
     "name": "stdout",
     "output_type": "stream",
     "text": [
      "Test\r\n"
     ]
    }
   ],
   "source": [
    "# Outputting variables to shell\n",
    "var = 'Test'\n",
    "!echo $var"
   ]
  },
  {
   "cell_type": "code",
   "execution_count": 35,
   "metadata": {},
   "outputs": [
    {
     "name": "stdout",
     "output_type": "stream",
     "text": [
      "\u001b[34m2019.1-5 UMD\u001b[m\u001b[m                       \u001b[34mlalala\u001b[m\u001b[m\r\n",
      "\u001b[34mB Project\u001b[m\u001b[m                          preventive-care-services.pdf\r\n",
      "COVER letter.docx                  \u001b[34mproject gua\u001b[m\u001b[m\r\n",
      "DL-180.pdf                         ~$ 4 - SQL DML.Weiyao Madocx.docx\r\n",
      "HW#4 data Wrangling.ipynb          ~$ 5 - Tableau.docx\r\n",
      "\u001b[34mMS-PCC\u001b[m\u001b[m                             ~$2_Ma_Weiyao.docx. 2.docx\r\n",
      "Miya Cover Letter.pdf              ~$HM5 Weiyao Ma.xlsx\r\n",
      "Miya(Weiyao) Ma CV.pdf             ~$Happiness MDM .pptx\r\n",
      "\u001b[34mPython Project\u001b[m\u001b[m                     ~$Lab_2.docx\r\n",
      "\u001b[34mPython 萧\u001b[m\u001b[m                          ~$commercial.xlsx\r\n",
      "\u001b[34mR Project Files\u001b[m\u001b[m                    ~$esentation Reflection 2.docx\r\n",
      "\u001b[34mResume\u001b[m\u001b[m                             ~$oject0502-03_DesignProposal.docx\r\n",
      "Review Qs.ipynb                    ~$r.docx\r\n",
      "inc5000_2017.csv                   ~$signment 2_S19 Miya.docx\r\n",
      "\u001b[34mjpynb\u001b[m\u001b[m\r\n"
     ]
    }
   ],
   "source": [
    "!ls"
   ]
  },
  {
   "cell_type": "code",
   "execution_count": 24,
   "metadata": {},
   "outputs": [
    {
     "data": {
      "text/plain": [
       "['2019.1-5 UMD',\n",
       " 'A#6',\n",
       " 'AWSLabManual.docx',\n",
       " 'B Project',\n",
       " 'Essentials of the VM environment and Linux.pdf',\n",
       " 'Hive',\n",
       " 'Issue Logs.docx',\n",
       " 'LectureSlides_ExamReview_Apr.pdf',\n",
       " 'MS-PCC',\n",
       " 'Practice-Problems-for-midterm-2019.pdf',\n",
       " 'Python Project',\n",
       " 'Python 萧',\n",
       " 'R Project Files',\n",
       " 'Resume',\n",
       " 'Review V.docx',\n",
       " 'Screen Shot 2019-04-20 at 6.09.32 PM.png',\n",
       " 'X jupyter notebook',\n",
       " 'assignment-hive Weiyao Ma.docx',\n",
       " 'jpynb',\n",
       " 'lab4',\n",
       " 'lab5',\n",
       " 'lalala',\n",
       " '~$ 4 - SQL DML.Weiyao Madocx.docx',\n",
       " '~$ 5 - Tableau.docx',\n",
       " '~$2_Ma_Weiyao.docx. 2.docx',\n",
       " '~$DC.docx',\n",
       " '~$HM5 Weiyao Ma.xlsx',\n",
       " '~$Happiness MDM .pptx',\n",
       " '~$Lab_2.docx',\n",
       " '~$actice Quiz 2_Version 1.docx',\n",
       " '~$commercial.xlsx',\n",
       " '~$esentation Reflection 2.docx',\n",
       " '~$oject0502-03_DesignProposal.docx',\n",
       " '~$r.docx',\n",
       " '~$signment 2_S19 Miya.docx']"
      ]
     },
     "execution_count": 24,
     "metadata": {},
     "output_type": "execute_result"
    }
   ],
   "source": [
    "# Shell command - Capture shell output\n",
    "!!ls"
   ]
  },
  {
   "cell_type": "code",
   "execution_count": 37,
   "metadata": {},
   "outputs": [
    {
     "data": {
      "text/plain": [
       "['2019.1-5 UMD',\n",
       " 'B Project',\n",
       " 'COVER letter.docx',\n",
       " 'DL-180.pdf',\n",
       " 'HW#4 data Wrangling.ipynb',\n",
       " 'MS-PCC',\n",
       " 'Miya Cover Letter.pdf',\n",
       " 'Miya(Weiyao) Ma CV.pdf',\n",
       " 'Python Project',\n",
       " 'Python 萧',\n",
       " 'R Project Files',\n",
       " 'Resume',\n",
       " 'Review Qs.ipynb',\n",
       " 'inc5000_2017.csv',\n",
       " 'jpynb',\n",
       " 'lalala',\n",
       " 'preventive-care-services.pdf',\n",
       " 'project gua',\n",
       " '~$ 4 - SQL DML.Weiyao Madocx.docx',\n",
       " '~$ 5 - Tableau.docx',\n",
       " '~$2_Ma_Weiyao.docx. 2.docx',\n",
       " '~$HM5 Weiyao Ma.xlsx',\n",
       " '~$Happiness MDM .pptx',\n",
       " '~$Lab_2.docx',\n",
       " '~$commercial.xlsx',\n",
       " '~$esentation Reflection 2.docx',\n",
       " '~$oject0502-03_DesignProposal.docx',\n",
       " '~$r.docx',\n",
       " '~$signment 2_S19 Miya.docx']"
      ]
     },
     "execution_count": 37,
     "metadata": {},
     "output_type": "execute_result"
    }
   ],
   "source": [
    "# Assign previous results to variable\n",
    "files = _ # special variable name for most recent output\n",
    "files"
   ]
  },
  {
   "cell_type": "markdown",
   "metadata": {},
   "source": [
    "## Testing and Debugging"
   ]
  },
  {
   "cell_type": "markdown",
   "metadata": {},
   "source": [
    "Testing and debugging form a critical part of the code development process. Testing involves making sure that your code performs as you intend over the full range of use cases. Debugging is the process of correcting errors in your code. The most common errors are:\n",
    "\n",
    "* Syntax errors\n",
    "* Exceptions\n",
    "* Logical errors\n",
    "\n",
    "Syntax errors occur when the parser for the code detects an error that prevents the code from executing, and occur most often in the following cases:\n",
    "\n",
    "* Missing colons for code blocks (e.g., def, if, for, while, class)\n",
    "* Indentation errors for code blocks (e.g., def, if, for, while, class)\n",
    "* Missing parenthesis for function calls (unless %autocall is enabled)\n",
    "* Mismatched enclosurse (e.g., parentheses, brackets, braces, quotes)\n",
    "* Missing commas when defining sequence or collection\n",
    "* Using = (assignment) instead of == (conditional)\n",
    "\n",
    "Exceptions occur when the syntax is technically correct, but an error occurs during the execution of the code. Common exceptions include:\n",
    "\n",
    "* Name errors (e.g., misspelling/case, undefined, not imported, out of scope)\n",
    "* Index or key errors (e.g., index out-of-range, non-integer index, key error)\n",
    "* Type errors (i.e., applying operation or function to wrong type of object)\n",
    "* Value errors (i.e., apply operation or function to right type but inappropriate value)\n",
    "* Zero division errors\n",
    "* Import and module not found errors\n",
    "* File not found errors\n",
    "\n",
    "A complete list of built-in exceptions can be found at:\n",
    "\n",
    "https://docs.python.org/3/library/exceptions.html#bltin-exceptions (See 5.2 Concrete Exceptions)\n",
    "\n",
    "When an exception occurs, Python will report the *(stack) traceback*, which provides the hierarchical structure of how the error occurred. The traceback can help you figure out how to correct the problem. Learning how to recognize the different types of exceptions and how to navigate the traceback are important skills for debugging your code.\n",
    "\n",
    "In addition to errors that cause exceptions, there are many types of logical errors that are more subtle to detect. Generally, these errors encompass cases when the code executes to completion, but the objective was not satisfied.\n",
    "\n",
    "We will discuss three approaches for investigating, correcting, and managing errors:\n",
    "\n",
    "* **print** statements\n",
    "* Interactive debugging - %debug magic command\n",
    "* Exception Handling"
   ]
  },
  {
   "cell_type": "code",
   "execution_count": 38,
   "metadata": {},
   "outputs": [
    {
     "ename": "SyntaxError",
     "evalue": "invalid syntax (<ipython-input-38-629dbf1c54f7>, line 2)",
     "output_type": "error",
     "traceback": [
      "\u001b[0;36m  File \u001b[0;32m\"<ipython-input-38-629dbf1c54f7>\"\u001b[0;36m, line \u001b[0;32m2\u001b[0m\n\u001b[0;31m    if True\u001b[0m\n\u001b[0m           ^\u001b[0m\n\u001b[0;31mSyntaxError\u001b[0m\u001b[0;31m:\u001b[0m invalid syntax\n"
     ]
    }
   ],
   "source": [
    "# Syntax error - Missing colon\n",
    "if True\n",
    "    print(True)"
   ]
  },
  {
   "cell_type": "code",
   "execution_count": 39,
   "metadata": {},
   "outputs": [
    {
     "ename": "TypeError",
     "evalue": "unsupported operand type(s) for +: 'int' and 'str'",
     "output_type": "error",
     "traceback": [
      "\u001b[0;31m---------------------------------------------------------------------------\u001b[0m",
      "\u001b[0;31mTypeError\u001b[0m                                 Traceback (most recent call last)",
      "\u001b[0;32m<ipython-input-39-df3748cb2830>\u001b[0m in \u001b[0;36m<module>\u001b[0;34m\u001b[0m\n\u001b[1;32m      1\u001b[0m \u001b[0;31m# Exception - Type error\u001b[0m\u001b[0;34m\u001b[0m\u001b[0;34m\u001b[0m\u001b[0;34m\u001b[0m\u001b[0m\n\u001b[0;32m----> 2\u001b[0;31m \u001b[0;36m5\u001b[0m \u001b[0;34m+\u001b[0m \u001b[0;34m'6'\u001b[0m\u001b[0;34m\u001b[0m\u001b[0;34m\u001b[0m\u001b[0m\n\u001b[0m",
      "\u001b[0;31mTypeError\u001b[0m: unsupported operand type(s) for +: 'int' and 'str'"
     ]
    }
   ],
   "source": [
    "# Exception - Type error\n",
    "5 + '6'"
   ]
  },
  {
   "cell_type": "code",
   "execution_count": 40,
   "metadata": {},
   "outputs": [
    {
     "data": {
      "text/plain": [
       "[[1, 2, 3], [4, 5], [6, 7, 8, 9, 10]]"
      ]
     },
     "execution_count": 40,
     "metadata": {},
     "output_type": "execute_result"
    }
   ],
   "source": [
    "# Logical error - Flatten list of lists\n",
    "L1 = [[1,2,3],[4,5],[6,7,8,9,10]]\n",
    "L2 = []\n",
    "for L in L1:\n",
    "    L2.append(L)\n",
    "L2"
   ]
  },
  {
   "cell_type": "code",
   "execution_count": 43,
   "metadata": {},
   "outputs": [
    {
     "data": {
      "text/plain": [
       "[1, 2, 3, 4, 5, 6, 7, 8, 9, 10]"
      ]
     },
     "execution_count": 43,
     "metadata": {},
     "output_type": "execute_result"
    }
   ],
   "source": [
    "L1 = [[1,2,3],[4,5],[6,7,8,9,10]]\n",
    "L2 = []\n",
    "for L in L1:\n",
    "    for i in L:\n",
    "        L2.append(i)\n",
    "L2"
   ]
  },
  {
   "cell_type": "markdown",
   "metadata": {},
   "source": [
    "### **print** statements"
   ]
  },
  {
   "cell_type": "markdown",
   "metadata": {},
   "source": [
    "The use of **print** statements is the simplest approach to debugging your code. Essentially, the strategy is to insert **print** statements at strategic locations within your code so as to find where the error occurs."
   ]
  },
  {
   "cell_type": "code",
   "execution_count": 44,
   "metadata": {},
   "outputs": [
    {
     "name": "stdout",
     "output_type": "stream",
     "text": [
      "[1, 2, 3]\n",
      "[4, 5]\n",
      "[6, 7, 8, 9, 10]\n"
     ]
    },
    {
     "data": {
      "text/plain": [
       "[[1, 2, 3], [4, 5], [6, 7, 8, 9, 10]]"
      ]
     },
     "execution_count": 44,
     "metadata": {},
     "output_type": "execute_result"
    }
   ],
   "source": [
    "# Logical error - Flatten list of lists\n",
    "L1 = [[1,2,3],[4,5],[6,7,8,9,10]]\n",
    "L2 = []\n",
    "for L in L1:\n",
    "    print(L)\n",
    "    L2.append(L)\n",
    "L2"
   ]
  },
  {
   "cell_type": "code",
   "execution_count": 45,
   "metadata": {},
   "outputs": [],
   "source": [
    "# Function example\n",
    "def add(x=0, y=0):\n",
    "    print(x, y)\n",
    "    return x + y"
   ]
  },
  {
   "cell_type": "code",
   "execution_count": 46,
   "metadata": {},
   "outputs": [
    {
     "name": "stdout",
     "output_type": "stream",
     "text": [
      "0 0\n",
      "5 0\n",
      "0 5\n",
      "5 10\n"
     ]
    },
    {
     "data": {
      "text/plain": [
       "15"
      ]
     },
     "execution_count": 46,
     "metadata": {},
     "output_type": "execute_result"
    }
   ],
   "source": [
    "add()\n",
    "add(5)\n",
    "add(y=5)\n",
    "add(y=10, x=5)"
   ]
  },
  {
   "cell_type": "markdown",
   "metadata": {},
   "source": [
    "### %debug magic command"
   ]
  },
  {
   "cell_type": "markdown",
   "metadata": {},
   "source": [
    "The %debug magic command invokes a command line debugger that you can use interactively to find the error that raised the exception. When you execute the %debug magic command, the debugger will revisit the most recent exception.\n",
    "\n",
    "The most common commands from within the debugger environment are:\n",
    "\n",
    "* **u** to move up a level in the code hierarchy\n",
    "* **d** to move down a level in the code hierarchy\n",
    "* **h** for help\n",
    "* **q** to quit the debugger\n",
    "\n",
    "You can toggle automatic execution of the debuger with the %pdb magic command."
   ]
  },
  {
   "cell_type": "code",
   "execution_count": 47,
   "metadata": {},
   "outputs": [
    {
     "name": "stdout",
     "output_type": "stream",
     "text": [
      "5 6\n"
     ]
    },
    {
     "ename": "TypeError",
     "evalue": "unsupported operand type(s) for +: 'int' and 'str'",
     "output_type": "error",
     "traceback": [
      "\u001b[0;31m---------------------------------------------------------------------------\u001b[0m",
      "\u001b[0;31mTypeError\u001b[0m                                 Traceback (most recent call last)",
      "\u001b[0;32m<ipython-input-47-f0af8483638e>\u001b[0m in \u001b[0;36m<module>\u001b[0;34m\u001b[0m\n\u001b[0;32m----> 1\u001b[0;31m \u001b[0madd\u001b[0m\u001b[0;34m(\u001b[0m\u001b[0;36m5\u001b[0m\u001b[0;34m,\u001b[0m\u001b[0;34m'6'\u001b[0m\u001b[0;34m)\u001b[0m\u001b[0;34m\u001b[0m\u001b[0;34m\u001b[0m\u001b[0m\n\u001b[0m",
      "\u001b[0;32m<ipython-input-45-f58c2a1524f4>\u001b[0m in \u001b[0;36madd\u001b[0;34m(x, y)\u001b[0m\n\u001b[1;32m      2\u001b[0m \u001b[0;32mdef\u001b[0m \u001b[0madd\u001b[0m\u001b[0;34m(\u001b[0m\u001b[0mx\u001b[0m\u001b[0;34m=\u001b[0m\u001b[0;36m0\u001b[0m\u001b[0;34m,\u001b[0m \u001b[0my\u001b[0m\u001b[0;34m=\u001b[0m\u001b[0;36m0\u001b[0m\u001b[0;34m)\u001b[0m\u001b[0;34m:\u001b[0m\u001b[0;34m\u001b[0m\u001b[0;34m\u001b[0m\u001b[0m\n\u001b[1;32m      3\u001b[0m     \u001b[0mprint\u001b[0m\u001b[0;34m(\u001b[0m\u001b[0mx\u001b[0m\u001b[0;34m,\u001b[0m \u001b[0my\u001b[0m\u001b[0;34m)\u001b[0m\u001b[0;34m\u001b[0m\u001b[0;34m\u001b[0m\u001b[0m\n\u001b[0;32m----> 4\u001b[0;31m     \u001b[0;32mreturn\u001b[0m \u001b[0mx\u001b[0m \u001b[0;34m+\u001b[0m \u001b[0my\u001b[0m\u001b[0;34m\u001b[0m\u001b[0;34m\u001b[0m\u001b[0m\n\u001b[0m",
      "\u001b[0;31mTypeError\u001b[0m: unsupported operand type(s) for +: 'int' and 'str'"
     ]
    }
   ],
   "source": [
    "add(5,'6')"
   ]
  },
  {
   "cell_type": "code",
   "execution_count": null,
   "metadata": {},
   "outputs": [],
   "source": [
    "%debug"
   ]
  },
  {
   "cell_type": "markdown",
   "metadata": {},
   "source": [
    "### Exception Handling"
   ]
  },
  {
   "cell_type": "markdown",
   "metadata": {},
   "source": [
    "The primary mechanism for handling exceptions is the **try** statement. Essentially, the idea is to try a particular statement, and if that statement raises an exception, try another statement, and so on. There can be multiple exception statements."
   ]
  },
  {
   "cell_type": "code",
   "execution_count": 25,
   "metadata": {},
   "outputs": [],
   "source": [
    "def add(obj1, obj2):\n",
    "    try:\n",
    "        return obj1 + obj2\n",
    "    except TypeError:\n",
    "        print('Objects must be of the same type for the \\'+\\' operator to be valid')\n",
    "    except:\n",
    "        print('Something else is wrong')"
   ]
  },
  {
   "cell_type": "code",
   "execution_count": 28,
   "metadata": {},
   "outputs": [
    {
     "name": "stdout",
     "output_type": "stream",
     "text": [
      "Objects must be of the same type for the '+' operator to be valid\n"
     ]
    }
   ],
   "source": [
    "add([5],'5')"
   ]
  },
  {
   "cell_type": "markdown",
   "metadata": {},
   "source": [
    "## Next Time: NumPy"
   ]
  }
 ],
 "metadata": {
  "kernelspec": {
   "display_name": "Python 3",
   "language": "python",
   "name": "python3"
  },
  "language_info": {
   "codemirror_mode": {
    "name": "ipython",
    "version": 3
   },
   "file_extension": ".py",
   "mimetype": "text/x-python",
   "name": "python",
   "nbconvert_exporter": "python",
   "pygments_lexer": "ipython3",
   "version": "3.7.3"
  }
 },
 "nbformat": 4,
 "nbformat_minor": 2
}
