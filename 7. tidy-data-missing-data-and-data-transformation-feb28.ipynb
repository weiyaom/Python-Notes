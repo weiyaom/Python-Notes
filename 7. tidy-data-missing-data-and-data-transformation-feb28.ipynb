{
 "cells": [
  {
   "cell_type": "markdown",
   "metadata": {},
   "source": [
    "# Tidy Data, Missing Data, and Data Transformation"
   ]
  },
  {
   "cell_type": "markdown",
   "metadata": {},
   "source": [
    "Now that we are comfortable importing data into Series and DataFrame data structures, our next several classes are focused on how to process that data for analysis:\n",
    "\n",
    "* Today: Tidy Data, Missing Data, and Data Transformation\n",
    "* Next Week: Text Processing\n",
    "* Then: Merging and Reshaping Data\n",
    "\n",
    "Friendly Reminders:\n",
    "\n",
    "* List Comprehension and Generators DataCamp module due tonight by 11:59 p.m.\n",
    "* Homework #3 due March 5 by 11:59 p.m.\n",
    "* Project proposal due March 7 by 11:59 p.m."
   ]
  },
  {
   "cell_type": "code",
   "execution_count": 1,
   "metadata": {},
   "outputs": [],
   "source": [
    "import numpy as np\n",
    "from numpy import nan as NA\n",
    "import pandas as pd\n",
    "from pandas import Series, DataFrame"
   ]
  },
  {
   "cell_type": "markdown",
   "metadata": {},
   "source": [
    "## Tidy Data"
   ]
  },
  {
   "cell_type": "markdown",
   "metadata": {},
   "source": [
    "In the article on tidy data, Hadley Wickham defines *data tidying* as \"structuring datasets to facilitate analysis\", which is one of the primary goals of this course.\n",
    "\n",
    "He defines a *data set* as being a collection of *values*, which are typically numerical (e.g., int, float) or textual (e.g., string). Each value belongs to an *observation* and a *variable*. An observation contains all variable values for a given unit of analysis. A variable includes all measurements of that variable across the observations. \n",
    "\n",
    "He defines tidy data as having the following structure:\n",
    "\n",
    "* Each variable forms a column\n",
    "* Each observation forms a row\n",
    "* Each type of observational unit forms a table"
   ]
  },
  {
   "cell_type": "markdown",
   "metadata": {},
   "source": [
    "In the video game data from the pandas lab, the observations are games and the variables include the game title, platform, release year, genre, publisher, and sales data."
   ]
  },
  {
   "cell_type": "code",
   "execution_count": 2,
   "metadata": {},
   "outputs": [
    {
     "data": {
      "text/html": [
       "<div>\n",
       "<style scoped>\n",
       "    .dataframe tbody tr th:only-of-type {\n",
       "        vertical-align: middle;\n",
       "    }\n",
       "\n",
       "    .dataframe tbody tr th {\n",
       "        vertical-align: top;\n",
       "    }\n",
       "\n",
       "    .dataframe thead th {\n",
       "        text-align: right;\n",
       "    }\n",
       "</style>\n",
       "<table border=\"1\" class=\"dataframe\">\n",
       "  <thead>\n",
       "    <tr style=\"text-align: right;\">\n",
       "      <th></th>\n",
       "      <th>Name</th>\n",
       "      <th>Platform</th>\n",
       "      <th>Year</th>\n",
       "      <th>Genre</th>\n",
       "      <th>Publisher</th>\n",
       "      <th>NA_Sales</th>\n",
       "      <th>EU_Sales</th>\n",
       "      <th>JP_Sales</th>\n",
       "      <th>Other_Sales</th>\n",
       "      <th>Global_Sales</th>\n",
       "    </tr>\n",
       "    <tr>\n",
       "      <th>Rank</th>\n",
       "      <th></th>\n",
       "      <th></th>\n",
       "      <th></th>\n",
       "      <th></th>\n",
       "      <th></th>\n",
       "      <th></th>\n",
       "      <th></th>\n",
       "      <th></th>\n",
       "      <th></th>\n",
       "      <th></th>\n",
       "    </tr>\n",
       "  </thead>\n",
       "  <tbody>\n",
       "    <tr>\n",
       "      <th>1</th>\n",
       "      <td>Wii Sports</td>\n",
       "      <td>Wii</td>\n",
       "      <td>2006.0</td>\n",
       "      <td>Sports</td>\n",
       "      <td>Nintendo</td>\n",
       "      <td>41.49</td>\n",
       "      <td>29.02</td>\n",
       "      <td>3.77</td>\n",
       "      <td>8.46</td>\n",
       "      <td>82.74</td>\n",
       "    </tr>\n",
       "    <tr>\n",
       "      <th>2</th>\n",
       "      <td>Super Mario Bros.</td>\n",
       "      <td>NES</td>\n",
       "      <td>1985.0</td>\n",
       "      <td>Platform</td>\n",
       "      <td>Nintendo</td>\n",
       "      <td>29.08</td>\n",
       "      <td>3.58</td>\n",
       "      <td>6.81</td>\n",
       "      <td>0.77</td>\n",
       "      <td>40.24</td>\n",
       "    </tr>\n",
       "    <tr>\n",
       "      <th>3</th>\n",
       "      <td>Mario Kart Wii</td>\n",
       "      <td>Wii</td>\n",
       "      <td>2008.0</td>\n",
       "      <td>Racing</td>\n",
       "      <td>Nintendo</td>\n",
       "      <td>15.85</td>\n",
       "      <td>12.88</td>\n",
       "      <td>3.79</td>\n",
       "      <td>3.31</td>\n",
       "      <td>35.82</td>\n",
       "    </tr>\n",
       "    <tr>\n",
       "      <th>4</th>\n",
       "      <td>Wii Sports Resort</td>\n",
       "      <td>Wii</td>\n",
       "      <td>2009.0</td>\n",
       "      <td>Sports</td>\n",
       "      <td>Nintendo</td>\n",
       "      <td>15.75</td>\n",
       "      <td>11.01</td>\n",
       "      <td>3.28</td>\n",
       "      <td>2.96</td>\n",
       "      <td>33.00</td>\n",
       "    </tr>\n",
       "    <tr>\n",
       "      <th>5</th>\n",
       "      <td>Pokemon Red/Pokemon Blue</td>\n",
       "      <td>GB</td>\n",
       "      <td>1996.0</td>\n",
       "      <td>Role-Playing</td>\n",
       "      <td>Nintendo</td>\n",
       "      <td>11.27</td>\n",
       "      <td>8.89</td>\n",
       "      <td>10.22</td>\n",
       "      <td>1.00</td>\n",
       "      <td>31.37</td>\n",
       "    </tr>\n",
       "  </tbody>\n",
       "</table>\n",
       "</div>"
      ],
      "text/plain": [
       "                          Name Platform    Year         Genre Publisher  \\\n",
       "Rank                                                                      \n",
       "1                   Wii Sports      Wii  2006.0        Sports  Nintendo   \n",
       "2            Super Mario Bros.      NES  1985.0      Platform  Nintendo   \n",
       "3               Mario Kart Wii      Wii  2008.0        Racing  Nintendo   \n",
       "4            Wii Sports Resort      Wii  2009.0        Sports  Nintendo   \n",
       "5     Pokemon Red/Pokemon Blue       GB  1996.0  Role-Playing  Nintendo   \n",
       "\n",
       "      NA_Sales  EU_Sales  JP_Sales  Other_Sales  Global_Sales  \n",
       "Rank                                                           \n",
       "1        41.49     29.02      3.77         8.46         82.74  \n",
       "2        29.08      3.58      6.81         0.77         40.24  \n",
       "3        15.85     12.88      3.79         3.31         35.82  \n",
       "4        15.75     11.01      3.28         2.96         33.00  \n",
       "5        11.27      8.89     10.22         1.00         31.37  "
      ]
     },
     "execution_count": 2,
     "metadata": {},
     "output_type": "execute_result"
    }
   ],
   "source": [
    "# Import video game data\n",
    "# path = '/Users/seanbarnes/Dropbox/Teaching/Courses/BUDT758X/data/'\n",
    "data = pd.read_csv('vgsales.csv', index_col = 0)\n",
    "data.head()"
   ]
  },
  {
   "cell_type": "code",
   "execution_count": 3,
   "metadata": {},
   "outputs": [
    {
     "data": {
      "text/plain": [
       "count    16327.000000\n",
       "mean      2006.406443\n",
       "std          5.828981\n",
       "min       1980.000000\n",
       "25%       2003.000000\n",
       "50%       2007.000000\n",
       "75%       2010.000000\n",
       "max       2020.000000\n",
       "Name: Year, dtype: float64"
      ]
     },
     "execution_count": 3,
     "metadata": {},
     "output_type": "execute_result"
    }
   ],
   "source": [
    "data['Year'].describe()"
   ]
  },
  {
   "cell_type": "markdown",
   "metadata": {},
   "source": [
    "## Missing Data"
   ]
  },
  {
   "cell_type": "markdown",
   "metadata": {},
   "source": [
    "Most data sets will not come fully populated with complete information for each observation, either because the data does not exist or it exists but was not observed. Missing data may be represented in many ways in the raw data, for example:\n",
    "\n",
    "* NA, N/A, etc.\n",
    "* Blank ('')\n",
    "* Dashes (-, --)\n",
    "* Explicit text (e.g., blank, missing)\n",
    "\n",
    "In Python, missing data is not necessarily equivalent to the False boolean (e.g., 0 is False but not missing):\n",
    "\n",
    "* None\n",
    "* np.nan (not a number, imported as NA above)\n",
    "* pd.NaT (empty datetime object, later)"
   ]
  },
  {
   "cell_type": "code",
   "execution_count": 4,
   "metadata": {},
   "outputs": [
    {
     "name": "stdout",
     "output_type": "stream",
     "text": [
      "None nan NaT\n"
     ]
    }
   ],
   "source": [
    "# Null objects object\n",
    "print(None, NA, pd.NaT)"
   ]
  },
  {
   "cell_type": "markdown",
   "metadata": {},
   "source": [
    "There are two primary approaches for processing missing data:\n",
    "\n",
    "1. Filter observations with missing data\n",
    "2. Impute observations with missing data (i.e., estimate or substitute in a value for the missing observations)\n",
    "\n",
    "The primary tradeoff between filtering and imputing is that when filtering missing data, you lose some of your sample data, which could affect the power of your analysis. If you filter a small proportion of your data, that is probably OK, but if filtering missing data causes you to lose a significant proportion of your data, you should consider imputation techniques.\n",
    "\n",
    "The challenging with imputing missing data is that you are intentionally fabricating data. However, if done in a reasonable way, imputing missing data can help preserve your sample size without significantly affecting your analysis."
   ]
  },
  {
   "cell_type": "markdown",
   "metadata": {},
   "source": [
    "pandas has built in methods for handling missing data in a Series or DataFrame object:\n",
    "\n",
    "* .dropna - Filter missing observations\n",
    "* .fillna - Impute missing data\n",
    "* .isnull - Returns True for each element that is equivalent to missing data, False otherwise\n",
    "* .notnull - Returns True for each element that is not equivalent to missing data, False otherwise\n",
    "\n",
    "Similar to many other pandas methods, .dropna and .fillna have inplace arguments to apply the method in place, as opposed to returning a new object (default)."
   ]
  },
  {
   "cell_type": "markdown",
   "metadata": {},
   "source": [
    "### Missing Data for Series Objects"
   ]
  },
  {
   "cell_type": "markdown",
   "metadata": {},
   "source": [
    "Handling missing data for Series objects is pretty straightforward, as there is only one set of values."
   ]
  },
  {
   "cell_type": "code",
   "execution_count": 5,
   "metadata": {},
   "outputs": [
    {
     "data": {
      "text/plain": [
       "0    1.0\n",
       "1    2.0\n",
       "2    NaN\n",
       "3   -4.0\n",
       "4    NaN\n",
       "dtype: float64"
      ]
     },
     "execution_count": 5,
     "metadata": {},
     "output_type": "execute_result"
    }
   ],
   "source": [
    "# Define Series with missing values\n",
    "ser = Series([1,2,np.nan,-4,np.nan])\n",
    "ser"
   ]
  },
  {
   "cell_type": "code",
   "execution_count": 6,
   "metadata": {},
   "outputs": [
    {
     "data": {
      "text/plain": [
       "0    False\n",
       "1    False\n",
       "2     True\n",
       "3    False\n",
       "4     True\n",
       "dtype: bool"
      ]
     },
     "execution_count": 6,
     "metadata": {},
     "output_type": "execute_result"
    }
   ],
   "source": [
    "# .isnull, .notnull methods\n",
    "ser.isnull()"
   ]
  },
  {
   "cell_type": "code",
   "execution_count": 7,
   "metadata": {},
   "outputs": [
    {
     "data": {
      "text/plain": [
       "0    1.0\n",
       "1    2.0\n",
       "3   -4.0\n",
       "dtype: float64"
      ]
     },
     "execution_count": 7,
     "metadata": {},
     "output_type": "execute_result"
    }
   ],
   "source": [
    "# Filter missing values - .dropna method\n",
    "ser.dropna()"
   ]
  },
  {
   "cell_type": "code",
   "execution_count": 8,
   "metadata": {},
   "outputs": [
    {
     "data": {
      "text/plain": [
       "0    1.0\n",
       "1    2.0\n",
       "3   -4.0\n",
       "dtype: float64"
      ]
     },
     "execution_count": 8,
     "metadata": {},
     "output_type": "execute_result"
    }
   ],
   "source": [
    "# Filter missing values - Boolean indexing\n",
    "ser[ser.notnull()]"
   ]
  },
  {
   "cell_type": "code",
   "execution_count": 9,
   "metadata": {},
   "outputs": [
    {
     "data": {
      "text/plain": [
       "0    1.000000\n",
       "1    2.000000\n",
       "2   -0.333333\n",
       "3   -4.000000\n",
       "4   -0.333333\n",
       "dtype: float64"
      ]
     },
     "execution_count": 9,
     "metadata": {},
     "output_type": "execute_result"
    }
   ],
   "source": [
    "# Fill missing values with constant, e.g., centrality measure\n",
    "ser.fillna(ser.mean())"
   ]
  },
  {
   "cell_type": "code",
   "execution_count": 10,
   "metadata": {},
   "outputs": [
    {
     "data": {
      "text/plain": [
       "0    1.0\n",
       "1    2.0\n",
       "2    2.0\n",
       "3   -4.0\n",
       "4   -4.0\n",
       "dtype: float64"
      ]
     },
     "execution_count": 10,
     "metadata": {},
     "output_type": "execute_result"
    }
   ],
   "source": [
    "# Fill missing values via ffill or bfill - Appropriate for time series data\n",
    "ser.fillna(method='ffill')\n",
    "# print(ser.fillna(method='bfill'))  # back fill\n",
    "# # for time series"
   ]
  },
  {
   "cell_type": "markdown",
   "metadata": {},
   "source": [
    "### Missing Data for DataFrames"
   ]
  },
  {
   "cell_type": "markdown",
   "metadata": {},
   "source": [
    "Missing data for DataFrames is a little more complex, because you may want to process missing data based on a single column or multiple columns."
   ]
  },
  {
   "cell_type": "code",
   "execution_count": 11,
   "metadata": {},
   "outputs": [
    {
     "data": {
      "text/html": [
       "<div>\n",
       "<style scoped>\n",
       "    .dataframe tbody tr th:only-of-type {\n",
       "        vertical-align: middle;\n",
       "    }\n",
       "\n",
       "    .dataframe tbody tr th {\n",
       "        vertical-align: top;\n",
       "    }\n",
       "\n",
       "    .dataframe thead th {\n",
       "        text-align: right;\n",
       "    }\n",
       "</style>\n",
       "<table border=\"1\" class=\"dataframe\">\n",
       "  <thead>\n",
       "    <tr style=\"text-align: right;\">\n",
       "      <th></th>\n",
       "      <th>0</th>\n",
       "      <th>1</th>\n",
       "      <th>2</th>\n",
       "    </tr>\n",
       "  </thead>\n",
       "  <tbody>\n",
       "    <tr>\n",
       "      <th>0</th>\n",
       "      <td>1.0</td>\n",
       "      <td>6.5</td>\n",
       "      <td>3.0</td>\n",
       "    </tr>\n",
       "    <tr>\n",
       "      <th>1</th>\n",
       "      <td>1.0</td>\n",
       "      <td>NaN</td>\n",
       "      <td>NaN</td>\n",
       "    </tr>\n",
       "    <tr>\n",
       "      <th>2</th>\n",
       "      <td>NaN</td>\n",
       "      <td>NaN</td>\n",
       "      <td>NaN</td>\n",
       "    </tr>\n",
       "    <tr>\n",
       "      <th>3</th>\n",
       "      <td>NaN</td>\n",
       "      <td>6.5</td>\n",
       "      <td>3.0</td>\n",
       "    </tr>\n",
       "  </tbody>\n",
       "</table>\n",
       "</div>"
      ],
      "text/plain": [
       "     0    1    2\n",
       "0  1.0  6.5  3.0\n",
       "1  1.0  NaN  NaN\n",
       "2  NaN  NaN  NaN\n",
       "3  NaN  6.5  3.0"
      ]
     },
     "execution_count": 11,
     "metadata": {},
     "output_type": "execute_result"
    }
   ],
   "source": [
    "# Define example DataFrame\n",
    "df = pd.DataFrame([[1., 6.5, 3.], [1., NA, NA], [NA, NA, NA], [NA, 6.5, 3.]])\n",
    "df"
   ]
  },
  {
   "cell_type": "code",
   "execution_count": 12,
   "metadata": {},
   "outputs": [
    {
     "data": {
      "text/plain": [
       "0    2\n",
       "1    2\n",
       "2    2\n",
       "dtype: int64"
      ]
     },
     "execution_count": 12,
     "metadata": {},
     "output_type": "execute_result"
    }
   ],
   "source": [
    "# Evaluate missing data\n",
    "df.isnull().sum()"
   ]
  },
  {
   "cell_type": "code",
   "execution_count": 13,
   "metadata": {},
   "outputs": [
    {
     "data": {
      "text/html": [
       "<div>\n",
       "<style scoped>\n",
       "    .dataframe tbody tr th:only-of-type {\n",
       "        vertical-align: middle;\n",
       "    }\n",
       "\n",
       "    .dataframe tbody tr th {\n",
       "        vertical-align: top;\n",
       "    }\n",
       "\n",
       "    .dataframe thead th {\n",
       "        text-align: right;\n",
       "    }\n",
       "</style>\n",
       "<table border=\"1\" class=\"dataframe\">\n",
       "  <thead>\n",
       "    <tr style=\"text-align: right;\">\n",
       "      <th></th>\n",
       "      <th>0</th>\n",
       "      <th>1</th>\n",
       "      <th>2</th>\n",
       "    </tr>\n",
       "  </thead>\n",
       "  <tbody>\n",
       "    <tr>\n",
       "      <th>0</th>\n",
       "      <td>1.0</td>\n",
       "      <td>6.5</td>\n",
       "      <td>3.0</td>\n",
       "    </tr>\n",
       "  </tbody>\n",
       "</table>\n",
       "</div>"
      ],
      "text/plain": [
       "     0    1    2\n",
       "0  1.0  6.5  3.0"
      ]
     },
     "execution_count": 13,
     "metadata": {},
     "output_type": "execute_result"
    }
   ],
   "source": [
    "# Filtering missing data - .dropna method\n",
    "df.dropna() # drops rows with any missing values by default"
   ]
  },
  {
   "cell_type": "code",
   "execution_count": 14,
   "metadata": {},
   "outputs": [
    {
     "data": {
      "text/html": [
       "<div>\n",
       "<style scoped>\n",
       "    .dataframe tbody tr th:only-of-type {\n",
       "        vertical-align: middle;\n",
       "    }\n",
       "\n",
       "    .dataframe tbody tr th {\n",
       "        vertical-align: top;\n",
       "    }\n",
       "\n",
       "    .dataframe thead th {\n",
       "        text-align: right;\n",
       "    }\n",
       "</style>\n",
       "<table border=\"1\" class=\"dataframe\">\n",
       "  <thead>\n",
       "    <tr style=\"text-align: right;\">\n",
       "      <th></th>\n",
       "      <th>0</th>\n",
       "      <th>1</th>\n",
       "      <th>2</th>\n",
       "    </tr>\n",
       "  </thead>\n",
       "  <tbody>\n",
       "    <tr>\n",
       "      <th>0</th>\n",
       "      <td>1.0</td>\n",
       "      <td>6.5</td>\n",
       "      <td>3.0</td>\n",
       "    </tr>\n",
       "    <tr>\n",
       "      <th>1</th>\n",
       "      <td>1.0</td>\n",
       "      <td>NaN</td>\n",
       "      <td>NaN</td>\n",
       "    </tr>\n",
       "    <tr>\n",
       "      <th>3</th>\n",
       "      <td>NaN</td>\n",
       "      <td>6.5</td>\n",
       "      <td>3.0</td>\n",
       "    </tr>\n",
       "  </tbody>\n",
       "</table>\n",
       "</div>"
      ],
      "text/plain": [
       "     0    1    2\n",
       "0  1.0  6.5  3.0\n",
       "1  1.0  NaN  NaN\n",
       "3  NaN  6.5  3.0"
      ]
     },
     "execution_count": 14,
     "metadata": {},
     "output_type": "execute_result"
    }
   ],
   "source": [
    "# Filtering missing data - .dropna method\n",
    "df.dropna(how='all')"
   ]
  },
  {
   "cell_type": "code",
   "execution_count": 16,
   "metadata": {},
   "outputs": [
    {
     "data": {
      "text/html": [
       "<div>\n",
       "<style scoped>\n",
       "    .dataframe tbody tr th:only-of-type {\n",
       "        vertical-align: middle;\n",
       "    }\n",
       "\n",
       "    .dataframe tbody tr th {\n",
       "        vertical-align: top;\n",
       "    }\n",
       "\n",
       "    .dataframe thead th {\n",
       "        text-align: right;\n",
       "    }\n",
       "</style>\n",
       "<table border=\"1\" class=\"dataframe\">\n",
       "  <thead>\n",
       "    <tr style=\"text-align: right;\">\n",
       "      <th></th>\n",
       "      <th>0</th>\n",
       "      <th>1</th>\n",
       "      <th>2</th>\n",
       "    </tr>\n",
       "  </thead>\n",
       "  <tbody>\n",
       "    <tr>\n",
       "      <th>0</th>\n",
       "      <td>1.0</td>\n",
       "      <td>6.5</td>\n",
       "      <td>3.0</td>\n",
       "    </tr>\n",
       "    <tr>\n",
       "      <th>1</th>\n",
       "      <td>1.0</td>\n",
       "      <td>NaN</td>\n",
       "      <td>NaN</td>\n",
       "    </tr>\n",
       "    <tr>\n",
       "      <th>3</th>\n",
       "      <td>NaN</td>\n",
       "      <td>6.5</td>\n",
       "      <td>3.0</td>\n",
       "    </tr>\n",
       "  </tbody>\n",
       "</table>\n",
       "</div>"
      ],
      "text/plain": [
       "     0    1    2\n",
       "0  1.0  6.5  3.0\n",
       "1  1.0  NaN  NaN\n",
       "3  NaN  6.5  3.0"
      ]
     },
     "execution_count": 16,
     "metadata": {},
     "output_type": "execute_result"
    }
   ],
   "source": [
    "# Filtering missing data - .dropna method\n",
    "df.dropna(thresh=1)\n",
    " # df.dropna(thresh=2)\n",
    "# # at least 1 not NaN value"
   ]
  },
  {
   "cell_type": "code",
   "execution_count": 17,
   "metadata": {},
   "outputs": [
    {
     "data": {
      "text/html": [
       "<div>\n",
       "<style scoped>\n",
       "    .dataframe tbody tr th:only-of-type {\n",
       "        vertical-align: middle;\n",
       "    }\n",
       "\n",
       "    .dataframe tbody tr th {\n",
       "        vertical-align: top;\n",
       "    }\n",
       "\n",
       "    .dataframe thead th {\n",
       "        text-align: right;\n",
       "    }\n",
       "</style>\n",
       "<table border=\"1\" class=\"dataframe\">\n",
       "  <thead>\n",
       "    <tr style=\"text-align: right;\">\n",
       "      <th></th>\n",
       "      <th>0</th>\n",
       "      <th>1</th>\n",
       "      <th>2</th>\n",
       "    </tr>\n",
       "  </thead>\n",
       "  <tbody>\n",
       "    <tr>\n",
       "      <th>0</th>\n",
       "      <td>1.0</td>\n",
       "      <td>6.5</td>\n",
       "      <td>3.0</td>\n",
       "    </tr>\n",
       "    <tr>\n",
       "      <th>1</th>\n",
       "      <td>1.0</td>\n",
       "      <td>NaN</td>\n",
       "      <td>NaN</td>\n",
       "    </tr>\n",
       "  </tbody>\n",
       "</table>\n",
       "</div>"
      ],
      "text/plain": [
       "     0    1    2\n",
       "0  1.0  6.5  3.0\n",
       "1  1.0  NaN  NaN"
      ]
     },
     "execution_count": 17,
     "metadata": {},
     "output_type": "execute_result"
    }
   ],
   "source": [
    "# Filtering missing data - Boolean indexing\n",
    "df[df[0].notnull()]"
   ]
  },
  {
   "cell_type": "code",
   "execution_count": 18,
   "metadata": {},
   "outputs": [
    {
     "data": {
      "text/html": [
       "<div>\n",
       "<style scoped>\n",
       "    .dataframe tbody tr th:only-of-type {\n",
       "        vertical-align: middle;\n",
       "    }\n",
       "\n",
       "    .dataframe tbody tr th {\n",
       "        vertical-align: top;\n",
       "    }\n",
       "\n",
       "    .dataframe thead th {\n",
       "        text-align: right;\n",
       "    }\n",
       "</style>\n",
       "<table border=\"1\" class=\"dataframe\">\n",
       "  <thead>\n",
       "    <tr style=\"text-align: right;\">\n",
       "      <th></th>\n",
       "      <th>0</th>\n",
       "      <th>1</th>\n",
       "      <th>2</th>\n",
       "    </tr>\n",
       "  </thead>\n",
       "  <tbody>\n",
       "    <tr>\n",
       "      <th>0</th>\n",
       "      <td>1.0</td>\n",
       "      <td>6.5</td>\n",
       "      <td>3.0</td>\n",
       "    </tr>\n",
       "    <tr>\n",
       "      <th>1</th>\n",
       "      <td>1.0</td>\n",
       "      <td>0.0</td>\n",
       "      <td>0.0</td>\n",
       "    </tr>\n",
       "    <tr>\n",
       "      <th>2</th>\n",
       "      <td>0.0</td>\n",
       "      <td>0.0</td>\n",
       "      <td>0.0</td>\n",
       "    </tr>\n",
       "    <tr>\n",
       "      <th>3</th>\n",
       "      <td>0.0</td>\n",
       "      <td>6.5</td>\n",
       "      <td>3.0</td>\n",
       "    </tr>\n",
       "  </tbody>\n",
       "</table>\n",
       "</div>"
      ],
      "text/plain": [
       "     0    1    2\n",
       "0  1.0  6.5  3.0\n",
       "1  1.0  0.0  0.0\n",
       "2  0.0  0.0  0.0\n",
       "3  0.0  6.5  3.0"
      ]
     },
     "execution_count": 18,
     "metadata": {},
     "output_type": "execute_result"
    }
   ],
   "source": [
    "# Fill missing values with a constant\n",
    "df.fillna(0)"
   ]
  },
  {
   "cell_type": "code",
   "execution_count": 19,
   "metadata": {},
   "outputs": [
    {
     "data": {
      "text/html": [
       "<div>\n",
       "<style scoped>\n",
       "    .dataframe tbody tr th:only-of-type {\n",
       "        vertical-align: middle;\n",
       "    }\n",
       "\n",
       "    .dataframe tbody tr th {\n",
       "        vertical-align: top;\n",
       "    }\n",
       "\n",
       "    .dataframe thead th {\n",
       "        text-align: right;\n",
       "    }\n",
       "</style>\n",
       "<table border=\"1\" class=\"dataframe\">\n",
       "  <thead>\n",
       "    <tr style=\"text-align: right;\">\n",
       "      <th></th>\n",
       "      <th>0</th>\n",
       "      <th>1</th>\n",
       "      <th>2</th>\n",
       "    </tr>\n",
       "  </thead>\n",
       "  <tbody>\n",
       "    <tr>\n",
       "      <th>0</th>\n",
       "      <td>1.0</td>\n",
       "      <td>6.5</td>\n",
       "      <td>3.0</td>\n",
       "    </tr>\n",
       "    <tr>\n",
       "      <th>1</th>\n",
       "      <td>1.0</td>\n",
       "      <td>-1.0</td>\n",
       "      <td>-2.0</td>\n",
       "    </tr>\n",
       "    <tr>\n",
       "      <th>2</th>\n",
       "      <td>0.0</td>\n",
       "      <td>-1.0</td>\n",
       "      <td>-2.0</td>\n",
       "    </tr>\n",
       "    <tr>\n",
       "      <th>3</th>\n",
       "      <td>0.0</td>\n",
       "      <td>6.5</td>\n",
       "      <td>3.0</td>\n",
       "    </tr>\n",
       "  </tbody>\n",
       "</table>\n",
       "</div>"
      ],
      "text/plain": [
       "     0    1    2\n",
       "0  1.0  6.5  3.0\n",
       "1  1.0 -1.0 -2.0\n",
       "2  0.0 -1.0 -2.0\n",
       "3  0.0  6.5  3.0"
      ]
     },
     "execution_count": 19,
     "metadata": {},
     "output_type": "execute_result"
    }
   ],
   "source": [
    "# Fill missing values for each column\n",
    "df.fillna({0: 0, 1: -1, 2: -2})"
   ]
  },
  {
   "cell_type": "markdown",
   "metadata": {},
   "source": [
    "## Data Transformation"
   ]
  },
  {
   "cell_type": "markdown",
   "metadata": {},
   "source": [
    "Data transformation is a general category of data processing that involves subsetting data, creating new variables (from existing variables), or modifying existing variables in some way. We have already encountered several methods for transforming data:\n",
    "\n",
    "* Indexing and slicing\n",
    "* Filtering (via boolean arrays)\n",
    "* Arithmetic operations and comparisons\n",
    "* Function application and mapping (.map, .apply, .applymap)\n",
    "* Sorting and ranking\n",
    "\n",
    "Today, we will explore several additional methods, including:\n",
    "\n",
    "* Identifying and removing duplicates\n",
    "* Replacing values\n",
    "* Renaming axis indexes\n",
    "* Random sampling\n",
    "* Discretization and binning\n",
    "* Computing dummy variables"
   ]
  },
  {
   "cell_type": "markdown",
   "metadata": {},
   "source": [
    "### Identifying and Removing Duplicates"
   ]
  },
  {
   "cell_type": "markdown",
   "metadata": {},
   "source": [
    "pandas offers two methods for processing data with duplicate observations:\n",
    "\n",
    "* The .duplicated method returns a boolean Series with True values that represent duplicate observations\n",
    "* The .drop_duplicates method filters duplicate observations from Series or DataFrame object\n",
    "\n",
    "The DataFrame methods have a *subset* argument that you can use to specify the column(s) that you want to be considered for duplicate observations."
   ]
  },
  {
   "cell_type": "code",
   "execution_count": 20,
   "metadata": {},
   "outputs": [
    {
     "data": {
      "text/html": [
       "<div>\n",
       "<style scoped>\n",
       "    .dataframe tbody tr th:only-of-type {\n",
       "        vertical-align: middle;\n",
       "    }\n",
       "\n",
       "    .dataframe tbody tr th {\n",
       "        vertical-align: top;\n",
       "    }\n",
       "\n",
       "    .dataframe thead th {\n",
       "        text-align: right;\n",
       "    }\n",
       "</style>\n",
       "<table border=\"1\" class=\"dataframe\">\n",
       "  <thead>\n",
       "    <tr style=\"text-align: right;\">\n",
       "      <th></th>\n",
       "      <th>Player</th>\n",
       "      <th>Nickname</th>\n",
       "    </tr>\n",
       "  </thead>\n",
       "  <tbody>\n",
       "    <tr>\n",
       "      <th>0</th>\n",
       "      <td>Allen Iverson</td>\n",
       "      <td>The Answer</td>\n",
       "    </tr>\n",
       "    <tr>\n",
       "      <th>1</th>\n",
       "      <td>Earvin Johnson</td>\n",
       "      <td>Magic</td>\n",
       "    </tr>\n",
       "    <tr>\n",
       "      <th>2</th>\n",
       "      <td>Michael Jordan</td>\n",
       "      <td>Air Jordan</td>\n",
       "    </tr>\n",
       "    <tr>\n",
       "      <th>3</th>\n",
       "      <td>Rodney Hundley</td>\n",
       "      <td>Hot Rod</td>\n",
       "    </tr>\n",
       "    <tr>\n",
       "      <th>4</th>\n",
       "      <td>John Williams</td>\n",
       "      <td>Hot Rod</td>\n",
       "    </tr>\n",
       "    <tr>\n",
       "      <th>5</th>\n",
       "      <td>George Gervin</td>\n",
       "      <td>Iceman</td>\n",
       "    </tr>\n",
       "    <tr>\n",
       "      <th>6</th>\n",
       "      <td>Michael Jordan</td>\n",
       "      <td>Air Jordan</td>\n",
       "    </tr>\n",
       "    <tr>\n",
       "      <th>7</th>\n",
       "      <td>John Salley</td>\n",
       "      <td>Spider</td>\n",
       "    </tr>\n",
       "    <tr>\n",
       "      <th>8</th>\n",
       "      <td>Jerry Sloan</td>\n",
       "      <td>Spider</td>\n",
       "    </tr>\n",
       "    <tr>\n",
       "      <th>9</th>\n",
       "      <td>Charles Barkley</td>\n",
       "      <td>The Chuckster</td>\n",
       "    </tr>\n",
       "  </tbody>\n",
       "</table>\n",
       "</div>"
      ],
      "text/plain": [
       "            Player       Nickname\n",
       "0    Allen Iverson     The Answer\n",
       "1   Earvin Johnson          Magic\n",
       "2   Michael Jordan     Air Jordan\n",
       "3   Rodney Hundley        Hot Rod\n",
       "4    John Williams        Hot Rod\n",
       "5    George Gervin         Iceman\n",
       "6   Michael Jordan     Air Jordan\n",
       "7      John Salley         Spider\n",
       "8      Jerry Sloan         Spider\n",
       "9  Charles Barkley  The Chuckster"
      ]
     },
     "execution_count": 20,
     "metadata": {},
     "output_type": "execute_result"
    }
   ],
   "source": [
    "# Example DataFrame - NBA Player Nicknames\n",
    "df = pd.DataFrame([('Allen Iverson', 'The Answer'), ('Earvin Johnson', 'Magic'), ('Michael Jordan', 'Air Jordan'),\n",
    "                 ('Rodney Hundley', 'Hot Rod'), ('John Williams', 'Hot Rod'), ('George Gervin', 'Iceman'),\n",
    "                  ('Michael Jordan', 'Air Jordan'), ('John Salley', 'Spider'), ('Jerry Sloan', 'Spider'),\n",
    "                  ('Charles Barkley', 'The Chuckster')],\n",
    "                  columns = ['Player', 'Nickname'])\n",
    "df"
   ]
  },
  {
   "cell_type": "code",
   "execution_count": 21,
   "metadata": {},
   "outputs": [
    {
     "data": {
      "text/plain": [
       "0    False\n",
       "1    False\n",
       "2    False\n",
       "3    False\n",
       "4    False\n",
       "5    False\n",
       "6     True\n",
       "7    False\n",
       "8    False\n",
       "9    False\n",
       "dtype: bool"
      ]
     },
     "execution_count": 21,
     "metadata": {},
     "output_type": "execute_result"
    }
   ],
   "source": [
    "# .duplicated method - Checks for all-column duplicates by default\n",
    "df.duplicated()"
   ]
  },
  {
   "cell_type": "code",
   "execution_count": 22,
   "metadata": {},
   "outputs": [
    {
     "data": {
      "text/plain": [
       "0    False\n",
       "1    False\n",
       "2    False\n",
       "3    False\n",
       "4     True\n",
       "5    False\n",
       "6     True\n",
       "7    False\n",
       "8     True\n",
       "9    False\n",
       "dtype: bool"
      ]
     },
     "execution_count": 22,
     "metadata": {},
     "output_type": "execute_result"
    }
   ],
   "source": [
    "# .duplicated method - Specific column\n",
    "df.duplicated(subset='Nickname')"
   ]
  },
  {
   "cell_type": "code",
   "execution_count": 23,
   "metadata": {},
   "outputs": [
    {
     "data": {
      "text/html": [
       "<div>\n",
       "<style scoped>\n",
       "    .dataframe tbody tr th:only-of-type {\n",
       "        vertical-align: middle;\n",
       "    }\n",
       "\n",
       "    .dataframe tbody tr th {\n",
       "        vertical-align: top;\n",
       "    }\n",
       "\n",
       "    .dataframe thead th {\n",
       "        text-align: right;\n",
       "    }\n",
       "</style>\n",
       "<table border=\"1\" class=\"dataframe\">\n",
       "  <thead>\n",
       "    <tr style=\"text-align: right;\">\n",
       "      <th></th>\n",
       "      <th>Player</th>\n",
       "      <th>Nickname</th>\n",
       "    </tr>\n",
       "  </thead>\n",
       "  <tbody>\n",
       "    <tr>\n",
       "      <th>0</th>\n",
       "      <td>Allen Iverson</td>\n",
       "      <td>The Answer</td>\n",
       "    </tr>\n",
       "    <tr>\n",
       "      <th>1</th>\n",
       "      <td>Earvin Johnson</td>\n",
       "      <td>Magic</td>\n",
       "    </tr>\n",
       "    <tr>\n",
       "      <th>4</th>\n",
       "      <td>John Williams</td>\n",
       "      <td>Hot Rod</td>\n",
       "    </tr>\n",
       "    <tr>\n",
       "      <th>5</th>\n",
       "      <td>George Gervin</td>\n",
       "      <td>Iceman</td>\n",
       "    </tr>\n",
       "    <tr>\n",
       "      <th>6</th>\n",
       "      <td>Michael Jordan</td>\n",
       "      <td>Air Jordan</td>\n",
       "    </tr>\n",
       "    <tr>\n",
       "      <th>8</th>\n",
       "      <td>Jerry Sloan</td>\n",
       "      <td>Spider</td>\n",
       "    </tr>\n",
       "    <tr>\n",
       "      <th>9</th>\n",
       "      <td>Charles Barkley</td>\n",
       "      <td>The Chuckster</td>\n",
       "    </tr>\n",
       "  </tbody>\n",
       "</table>\n",
       "</div>"
      ],
      "text/plain": [
       "            Player       Nickname\n",
       "0    Allen Iverson     The Answer\n",
       "1   Earvin Johnson          Magic\n",
       "4    John Williams        Hot Rod\n",
       "5    George Gervin         Iceman\n",
       "6   Michael Jordan     Air Jordan\n",
       "8      Jerry Sloan         Spider\n",
       "9  Charles Barkley  The Chuckster"
      ]
     },
     "execution_count": 23,
     "metadata": {},
     "output_type": "execute_result"
    }
   ],
   "source": [
    "# .drop_duplicates method\n",
    "df.drop_duplicates(subset='Nickname', keep='last') # default for keep is 'first'"
   ]
  },
  {
   "cell_type": "markdown",
   "metadata": {},
   "source": [
    "### Replacing Values"
   ]
  },
  {
   "cell_type": "markdown",
   "metadata": {},
   "source": [
    "Replacement is the general task of substituting one specific value (or a set of specific values) with another value. Imputing missing values is one example (using .fillna), but the .replace method is more general."
   ]
  },
  {
   "cell_type": "code",
   "execution_count": 24,
   "metadata": {},
   "outputs": [
    {
     "data": {
      "text/html": [
       "<div>\n",
       "<style scoped>\n",
       "    .dataframe tbody tr th:only-of-type {\n",
       "        vertical-align: middle;\n",
       "    }\n",
       "\n",
       "    .dataframe tbody tr th {\n",
       "        vertical-align: top;\n",
       "    }\n",
       "\n",
       "    .dataframe thead th {\n",
       "        text-align: right;\n",
       "    }\n",
       "</style>\n",
       "<table border=\"1\" class=\"dataframe\">\n",
       "  <thead>\n",
       "    <tr style=\"text-align: right;\">\n",
       "      <th></th>\n",
       "      <th>Player</th>\n",
       "      <th>Nickname</th>\n",
       "    </tr>\n",
       "  </thead>\n",
       "  <tbody>\n",
       "    <tr>\n",
       "      <th>0</th>\n",
       "      <td>Allen Iverson</td>\n",
       "      <td>The Answer</td>\n",
       "    </tr>\n",
       "    <tr>\n",
       "      <th>1</th>\n",
       "      <td>Earvin Johnson</td>\n",
       "      <td>Magic</td>\n",
       "    </tr>\n",
       "    <tr>\n",
       "      <th>2</th>\n",
       "      <td>Michael Jordan</td>\n",
       "      <td>Air Jordan</td>\n",
       "    </tr>\n",
       "    <tr>\n",
       "      <th>3</th>\n",
       "      <td>Rodney Hundley</td>\n",
       "      <td>Hot Rod</td>\n",
       "    </tr>\n",
       "    <tr>\n",
       "      <th>4</th>\n",
       "      <td>John Williams</td>\n",
       "      <td>Hot Rod</td>\n",
       "    </tr>\n",
       "    <tr>\n",
       "      <th>5</th>\n",
       "      <td>George Gervin</td>\n",
       "      <td>Iceman</td>\n",
       "    </tr>\n",
       "    <tr>\n",
       "      <th>6</th>\n",
       "      <td>Michael Jordan</td>\n",
       "      <td>Air Jordan</td>\n",
       "    </tr>\n",
       "    <tr>\n",
       "      <th>7</th>\n",
       "      <td>John Salley</td>\n",
       "      <td>Spider</td>\n",
       "    </tr>\n",
       "    <tr>\n",
       "      <th>8</th>\n",
       "      <td>Jerry Sloan</td>\n",
       "      <td>Spider</td>\n",
       "    </tr>\n",
       "    <tr>\n",
       "      <th>9</th>\n",
       "      <td>Charles Barkley</td>\n",
       "      <td>The Round Mound of Rebound</td>\n",
       "    </tr>\n",
       "  </tbody>\n",
       "</table>\n",
       "</div>"
      ],
      "text/plain": [
       "            Player                    Nickname\n",
       "0    Allen Iverson                  The Answer\n",
       "1   Earvin Johnson                       Magic\n",
       "2   Michael Jordan                  Air Jordan\n",
       "3   Rodney Hundley                     Hot Rod\n",
       "4    John Williams                     Hot Rod\n",
       "5    George Gervin                      Iceman\n",
       "6   Michael Jordan                  Air Jordan\n",
       "7      John Salley                      Spider\n",
       "8      Jerry Sloan                      Spider\n",
       "9  Charles Barkley  The Round Mound of Rebound"
      ]
     },
     "execution_count": 24,
     "metadata": {},
     "output_type": "execute_result"
    }
   ],
   "source": [
    "# Single replacement\n",
    "df.replace('The Chuckster', 'The Round Mound of Rebound')"
   ]
  },
  {
   "cell_type": "code",
   "execution_count": 25,
   "metadata": {},
   "outputs": [
    {
     "data": {
      "text/html": [
       "<div>\n",
       "<style scoped>\n",
       "    .dataframe tbody tr th:only-of-type {\n",
       "        vertical-align: middle;\n",
       "    }\n",
       "\n",
       "    .dataframe tbody tr th {\n",
       "        vertical-align: top;\n",
       "    }\n",
       "\n",
       "    .dataframe thead th {\n",
       "        text-align: right;\n",
       "    }\n",
       "</style>\n",
       "<table border=\"1\" class=\"dataframe\">\n",
       "  <thead>\n",
       "    <tr style=\"text-align: right;\">\n",
       "      <th></th>\n",
       "      <th>Player</th>\n",
       "      <th>Nickname</th>\n",
       "    </tr>\n",
       "  </thead>\n",
       "  <tbody>\n",
       "    <tr>\n",
       "      <th>0</th>\n",
       "      <td>Allen Iverson</td>\n",
       "      <td>The Answer</td>\n",
       "    </tr>\n",
       "    <tr>\n",
       "      <th>1</th>\n",
       "      <td>Earvin Johnson</td>\n",
       "      <td>Magic</td>\n",
       "    </tr>\n",
       "    <tr>\n",
       "      <th>2</th>\n",
       "      <td>Michael Jordan</td>\n",
       "      <td>Air Jordan</td>\n",
       "    </tr>\n",
       "    <tr>\n",
       "      <th>3</th>\n",
       "      <td>Rodney Hundley</td>\n",
       "      <td>Duplicated</td>\n",
       "    </tr>\n",
       "    <tr>\n",
       "      <th>4</th>\n",
       "      <td>John Williams</td>\n",
       "      <td>Duplicated</td>\n",
       "    </tr>\n",
       "    <tr>\n",
       "      <th>5</th>\n",
       "      <td>George Gervin</td>\n",
       "      <td>Iceman</td>\n",
       "    </tr>\n",
       "    <tr>\n",
       "      <th>6</th>\n",
       "      <td>Michael Jordan</td>\n",
       "      <td>Air Jordan</td>\n",
       "    </tr>\n",
       "    <tr>\n",
       "      <th>7</th>\n",
       "      <td>John Salley</td>\n",
       "      <td>Duplicated</td>\n",
       "    </tr>\n",
       "    <tr>\n",
       "      <th>8</th>\n",
       "      <td>Jerry Sloan</td>\n",
       "      <td>Duplicated</td>\n",
       "    </tr>\n",
       "    <tr>\n",
       "      <th>9</th>\n",
       "      <td>Charles Barkley</td>\n",
       "      <td>The Chuckster</td>\n",
       "    </tr>\n",
       "  </tbody>\n",
       "</table>\n",
       "</div>"
      ],
      "text/plain": [
       "            Player       Nickname\n",
       "0    Allen Iverson     The Answer\n",
       "1   Earvin Johnson          Magic\n",
       "2   Michael Jordan     Air Jordan\n",
       "3   Rodney Hundley     Duplicated\n",
       "4    John Williams     Duplicated\n",
       "5    George Gervin         Iceman\n",
       "6   Michael Jordan     Air Jordan\n",
       "7      John Salley     Duplicated\n",
       "8      Jerry Sloan     Duplicated\n",
       "9  Charles Barkley  The Chuckster"
      ]
     },
     "execution_count": 25,
     "metadata": {},
     "output_type": "execute_result"
    }
   ],
   "source": [
    "# Multiple replacements, single value\n",
    "df.replace(['Hot Rod', 'Spider'], 'Duplicated')"
   ]
  },
  {
   "cell_type": "code",
   "execution_count": 26,
   "metadata": {},
   "outputs": [
    {
     "data": {
      "text/html": [
       "<div>\n",
       "<style scoped>\n",
       "    .dataframe tbody tr th:only-of-type {\n",
       "        vertical-align: middle;\n",
       "    }\n",
       "\n",
       "    .dataframe tbody tr th {\n",
       "        vertical-align: top;\n",
       "    }\n",
       "\n",
       "    .dataframe thead th {\n",
       "        text-align: right;\n",
       "    }\n",
       "</style>\n",
       "<table border=\"1\" class=\"dataframe\">\n",
       "  <thead>\n",
       "    <tr style=\"text-align: right;\">\n",
       "      <th></th>\n",
       "      <th>Player</th>\n",
       "      <th>Nickname</th>\n",
       "    </tr>\n",
       "  </thead>\n",
       "  <tbody>\n",
       "    <tr>\n",
       "      <th>0</th>\n",
       "      <td>Allen Iverson</td>\n",
       "      <td>AI</td>\n",
       "    </tr>\n",
       "    <tr>\n",
       "      <th>1</th>\n",
       "      <td>Earvin Johnson</td>\n",
       "      <td>Magic</td>\n",
       "    </tr>\n",
       "    <tr>\n",
       "      <th>2</th>\n",
       "      <td>Michael Jordan</td>\n",
       "      <td>MJ</td>\n",
       "    </tr>\n",
       "    <tr>\n",
       "      <th>3</th>\n",
       "      <td>Rodney Hundley</td>\n",
       "      <td>Hot Rod</td>\n",
       "    </tr>\n",
       "    <tr>\n",
       "      <th>4</th>\n",
       "      <td>John Williams</td>\n",
       "      <td>Hot Rod</td>\n",
       "    </tr>\n",
       "    <tr>\n",
       "      <th>5</th>\n",
       "      <td>George Gervin</td>\n",
       "      <td>Iceman</td>\n",
       "    </tr>\n",
       "    <tr>\n",
       "      <th>6</th>\n",
       "      <td>Michael Jordan</td>\n",
       "      <td>MJ</td>\n",
       "    </tr>\n",
       "    <tr>\n",
       "      <th>7</th>\n",
       "      <td>John Salley</td>\n",
       "      <td>Spider</td>\n",
       "    </tr>\n",
       "    <tr>\n",
       "      <th>8</th>\n",
       "      <td>Jerry Sloan</td>\n",
       "      <td>Spider</td>\n",
       "    </tr>\n",
       "    <tr>\n",
       "      <th>9</th>\n",
       "      <td>Charles Barkley</td>\n",
       "      <td>The Round Mound of Rebound</td>\n",
       "    </tr>\n",
       "  </tbody>\n",
       "</table>\n",
       "</div>"
      ],
      "text/plain": [
       "            Player                    Nickname\n",
       "0    Allen Iverson                          AI\n",
       "1   Earvin Johnson                       Magic\n",
       "2   Michael Jordan                          MJ\n",
       "3   Rodney Hundley                     Hot Rod\n",
       "4    John Williams                     Hot Rod\n",
       "5    George Gervin                      Iceman\n",
       "6   Michael Jordan                          MJ\n",
       "7      John Salley                      Spider\n",
       "8      Jerry Sloan                      Spider\n",
       "9  Charles Barkley  The Round Mound of Rebound"
      ]
     },
     "execution_count": 26,
     "metadata": {},
     "output_type": "execute_result"
    }
   ],
   "source": [
    "# Case-by-case replacements\n",
    "M = {'The Answer': 'AI', 'Air Jordan': 'MJ', 'The Chuckster': 'The Round Mound of Rebound'}\n",
    "df.replace(M)"
   ]
  },
  {
   "cell_type": "code",
   "execution_count": 29,
   "metadata": {},
   "outputs": [
    {
     "data": {
      "text/plain": [
       "0                            AI\n",
       "1                         Magic\n",
       "2                            MJ\n",
       "3                       Hot Rod\n",
       "4                       Hot Rod\n",
       "5                        Iceman\n",
       "6                            MJ\n",
       "7                        Spider\n",
       "8                        Spider\n",
       "9    The Round Mound of Rebound\n",
       "Name: Nickname, dtype: object"
      ]
     },
     "execution_count": 29,
     "metadata": {},
     "output_type": "execute_result"
    }
   ],
   "source": [
    "# Map approach\n",
    "df['Nickname'].map(lambda name: M.get(name, name))\n",
    "# get method to avoid a key value error for a dictionary"
   ]
  },
  {
   "cell_type": "markdown",
   "metadata": {},
   "source": [
    "### Renaming Axis Indexes"
   ]
  },
  {
   "cell_type": "markdown",
   "metadata": {},
   "source": [
    "Similar to the values in a Series or DataFrame, the indexes (row index, column names) can also be transformed:\n",
    "\n",
    "* The row index can be updated by assigning to the .index attribute\n",
    "* The column index can be updated by assigning to the .columns attribute\n",
    "\n",
    "Alternatively, you can use the .rename method (inplace or not)."
   ]
  },
  {
   "cell_type": "code",
   "execution_count": 30,
   "metadata": {},
   "outputs": [
    {
     "data": {
      "text/html": [
       "<div>\n",
       "<style scoped>\n",
       "    .dataframe tbody tr th:only-of-type {\n",
       "        vertical-align: middle;\n",
       "    }\n",
       "\n",
       "    .dataframe tbody tr th {\n",
       "        vertical-align: top;\n",
       "    }\n",
       "\n",
       "    .dataframe thead th {\n",
       "        text-align: right;\n",
       "    }\n",
       "</style>\n",
       "<table border=\"1\" class=\"dataframe\">\n",
       "  <thead>\n",
       "    <tr style=\"text-align: right;\">\n",
       "      <th></th>\n",
       "      <th>Player</th>\n",
       "      <th>Nickname</th>\n",
       "    </tr>\n",
       "    <tr>\n",
       "      <th>Last Name</th>\n",
       "      <th></th>\n",
       "      <th></th>\n",
       "    </tr>\n",
       "  </thead>\n",
       "  <tbody>\n",
       "    <tr>\n",
       "      <th>Iverson</th>\n",
       "      <td>Allen Iverson</td>\n",
       "      <td>The Answer</td>\n",
       "    </tr>\n",
       "    <tr>\n",
       "      <th>Johnson</th>\n",
       "      <td>Earvin Johnson</td>\n",
       "      <td>Magic</td>\n",
       "    </tr>\n",
       "    <tr>\n",
       "      <th>Jordan</th>\n",
       "      <td>Michael Jordan</td>\n",
       "      <td>Air Jordan</td>\n",
       "    </tr>\n",
       "    <tr>\n",
       "      <th>Hundley</th>\n",
       "      <td>Rodney Hundley</td>\n",
       "      <td>Hot Rod</td>\n",
       "    </tr>\n",
       "    <tr>\n",
       "      <th>Williams</th>\n",
       "      <td>John Williams</td>\n",
       "      <td>Hot Rod</td>\n",
       "    </tr>\n",
       "    <tr>\n",
       "      <th>Gervin</th>\n",
       "      <td>George Gervin</td>\n",
       "      <td>Iceman</td>\n",
       "    </tr>\n",
       "    <tr>\n",
       "      <th>Jordan</th>\n",
       "      <td>Michael Jordan</td>\n",
       "      <td>Air Jordan</td>\n",
       "    </tr>\n",
       "    <tr>\n",
       "      <th>Salley</th>\n",
       "      <td>John Salley</td>\n",
       "      <td>Spider</td>\n",
       "    </tr>\n",
       "    <tr>\n",
       "      <th>Sloan</th>\n",
       "      <td>Jerry Sloan</td>\n",
       "      <td>Spider</td>\n",
       "    </tr>\n",
       "    <tr>\n",
       "      <th>Barkley</th>\n",
       "      <td>Charles Barkley</td>\n",
       "      <td>The Chuckster</td>\n",
       "    </tr>\n",
       "  </tbody>\n",
       "</table>\n",
       "</div>"
      ],
      "text/plain": [
       "                    Player       Nickname\n",
       "Last Name                                \n",
       "Iverson      Allen Iverson     The Answer\n",
       "Johnson     Earvin Johnson          Magic\n",
       "Jordan      Michael Jordan     Air Jordan\n",
       "Hundley     Rodney Hundley        Hot Rod\n",
       "Williams     John Williams        Hot Rod\n",
       "Gervin       George Gervin         Iceman\n",
       "Jordan      Michael Jordan     Air Jordan\n",
       "Salley         John Salley         Spider\n",
       "Sloan          Jerry Sloan         Spider\n",
       "Barkley    Charles Barkley  The Chuckster"
      ]
     },
     "execution_count": 30,
     "metadata": {},
     "output_type": "execute_result"
    }
   ],
   "source": [
    "# Update nickname DataFrame index via assignment\n",
    "df.index = df['Player'].map(lambda name: name.split()[1]) # extract last name\n",
    "df.index.name = 'Last Name'\n",
    "df"
   ]
  },
  {
   "cell_type": "code",
   "execution_count": 31,
   "metadata": {},
   "outputs": [
    {
     "data": {
      "text/html": [
       "<div>\n",
       "<style scoped>\n",
       "    .dataframe tbody tr th:only-of-type {\n",
       "        vertical-align: middle;\n",
       "    }\n",
       "\n",
       "    .dataframe tbody tr th {\n",
       "        vertical-align: top;\n",
       "    }\n",
       "\n",
       "    .dataframe thead th {\n",
       "        text-align: right;\n",
       "    }\n",
       "</style>\n",
       "<table border=\"1\" class=\"dataframe\">\n",
       "  <thead>\n",
       "    <tr style=\"text-align: right;\">\n",
       "      <th></th>\n",
       "      <th>Full Name</th>\n",
       "      <th>Nickname</th>\n",
       "    </tr>\n",
       "    <tr>\n",
       "      <th>Last Name</th>\n",
       "      <th></th>\n",
       "      <th></th>\n",
       "    </tr>\n",
       "  </thead>\n",
       "  <tbody>\n",
       "    <tr>\n",
       "      <th>IVERSON</th>\n",
       "      <td>Allen Iverson</td>\n",
       "      <td>The Answer</td>\n",
       "    </tr>\n",
       "    <tr>\n",
       "      <th>JOHNSON</th>\n",
       "      <td>Earvin Johnson</td>\n",
       "      <td>Magic</td>\n",
       "    </tr>\n",
       "    <tr>\n",
       "      <th>JORDAN</th>\n",
       "      <td>Michael Jordan</td>\n",
       "      <td>Air Jordan</td>\n",
       "    </tr>\n",
       "    <tr>\n",
       "      <th>HUNDLEY</th>\n",
       "      <td>Rodney Hundley</td>\n",
       "      <td>Hot Rod</td>\n",
       "    </tr>\n",
       "    <tr>\n",
       "      <th>WILLIAMS</th>\n",
       "      <td>John Williams</td>\n",
       "      <td>Hot Rod</td>\n",
       "    </tr>\n",
       "    <tr>\n",
       "      <th>GERVIN</th>\n",
       "      <td>George Gervin</td>\n",
       "      <td>Iceman</td>\n",
       "    </tr>\n",
       "    <tr>\n",
       "      <th>JORDAN</th>\n",
       "      <td>Michael Jordan</td>\n",
       "      <td>Air Jordan</td>\n",
       "    </tr>\n",
       "    <tr>\n",
       "      <th>SALLEY</th>\n",
       "      <td>John Salley</td>\n",
       "      <td>Spider</td>\n",
       "    </tr>\n",
       "    <tr>\n",
       "      <th>SLOAN</th>\n",
       "      <td>Jerry Sloan</td>\n",
       "      <td>Spider</td>\n",
       "    </tr>\n",
       "    <tr>\n",
       "      <th>BARKLEY</th>\n",
       "      <td>Charles Barkley</td>\n",
       "      <td>The Chuckster</td>\n",
       "    </tr>\n",
       "  </tbody>\n",
       "</table>\n",
       "</div>"
      ],
      "text/plain": [
       "                 Full Name       Nickname\n",
       "Last Name                                \n",
       "IVERSON      Allen Iverson     The Answer\n",
       "JOHNSON     Earvin Johnson          Magic\n",
       "JORDAN      Michael Jordan     Air Jordan\n",
       "HUNDLEY     Rodney Hundley        Hot Rod\n",
       "WILLIAMS     John Williams        Hot Rod\n",
       "GERVIN       George Gervin         Iceman\n",
       "JORDAN      Michael Jordan     Air Jordan\n",
       "SALLEY         John Salley         Spider\n",
       "SLOAN          Jerry Sloan         Spider\n",
       "BARKLEY    Charles Barkley  The Chuckster"
      ]
     },
     "execution_count": 31,
     "metadata": {},
     "output_type": "execute_result"
    }
   ],
   "source": [
    "# Update nickname DataFrame index via .rename method\n",
    "df.rename(index=lambda name: name.upper(), columns={'Player': 'Full Name'})"
   ]
  },
  {
   "cell_type": "markdown",
   "metadata": {},
   "source": [
    "### Random Sampling"
   ]
  },
  {
   "cell_type": "markdown",
   "metadata": {},
   "source": [
    "In most cases, you will likely work with your entire data set, but there may be cases when it would be useful to take a sample (with or without replacement). For example:\n",
    "\n",
    "* You are working with a large data set, and you want to develop and test a prediction model on a small (but representative) subset of the data before executing the (much longer) run on the full data set\n",
    "* You have a data set of observations that you want to feed into a simulation model"
   ]
  },
  {
   "cell_type": "code",
   "execution_count": 32,
   "metadata": {},
   "outputs": [
    {
     "data": {
      "text/html": [
       "<div>\n",
       "<style scoped>\n",
       "    .dataframe tbody tr th:only-of-type {\n",
       "        vertical-align: middle;\n",
       "    }\n",
       "\n",
       "    .dataframe tbody tr th {\n",
       "        vertical-align: top;\n",
       "    }\n",
       "\n",
       "    .dataframe thead th {\n",
       "        text-align: right;\n",
       "    }\n",
       "</style>\n",
       "<table border=\"1\" class=\"dataframe\">\n",
       "  <thead>\n",
       "    <tr style=\"text-align: right;\">\n",
       "      <th></th>\n",
       "      <th>Player</th>\n",
       "      <th>Nickname</th>\n",
       "    </tr>\n",
       "    <tr>\n",
       "      <th>Last Name</th>\n",
       "      <th></th>\n",
       "      <th></th>\n",
       "    </tr>\n",
       "  </thead>\n",
       "  <tbody>\n",
       "    <tr>\n",
       "      <th>Sloan</th>\n",
       "      <td>Jerry Sloan</td>\n",
       "      <td>Spider</td>\n",
       "    </tr>\n",
       "    <tr>\n",
       "      <th>Hundley</th>\n",
       "      <td>Rodney Hundley</td>\n",
       "      <td>Hot Rod</td>\n",
       "    </tr>\n",
       "    <tr>\n",
       "      <th>Johnson</th>\n",
       "      <td>Earvin Johnson</td>\n",
       "      <td>Magic</td>\n",
       "    </tr>\n",
       "    <tr>\n",
       "      <th>Jordan</th>\n",
       "      <td>Michael Jordan</td>\n",
       "      <td>Air Jordan</td>\n",
       "    </tr>\n",
       "    <tr>\n",
       "      <th>Gervin</th>\n",
       "      <td>George Gervin</td>\n",
       "      <td>Iceman</td>\n",
       "    </tr>\n",
       "  </tbody>\n",
       "</table>\n",
       "</div>"
      ],
      "text/plain": [
       "                   Player    Nickname\n",
       "Last Name                            \n",
       "Sloan         Jerry Sloan      Spider\n",
       "Hundley    Rodney Hundley     Hot Rod\n",
       "Johnson    Earvin Johnson       Magic\n",
       "Jordan     Michael Jordan  Air Jordan\n",
       "Gervin      George Gervin      Iceman"
      ]
     },
     "execution_count": 32,
     "metadata": {},
     "output_type": "execute_result"
    }
   ],
   "source": [
    "# Sampling without replacement\n",
    "df.sample(n=5, replace=False)\n",
    "# without replacement. If there is duplicated value it means \n",
    "# there is duplicated value exists in the orignal dataset"
   ]
  },
  {
   "cell_type": "code",
   "execution_count": 33,
   "metadata": {},
   "outputs": [
    {
     "data": {
      "text/html": [
       "<div>\n",
       "<style scoped>\n",
       "    .dataframe tbody tr th:only-of-type {\n",
       "        vertical-align: middle;\n",
       "    }\n",
       "\n",
       "    .dataframe tbody tr th {\n",
       "        vertical-align: top;\n",
       "    }\n",
       "\n",
       "    .dataframe thead th {\n",
       "        text-align: right;\n",
       "    }\n",
       "</style>\n",
       "<table border=\"1\" class=\"dataframe\">\n",
       "  <thead>\n",
       "    <tr style=\"text-align: right;\">\n",
       "      <th></th>\n",
       "      <th>Player</th>\n",
       "      <th>Nickname</th>\n",
       "    </tr>\n",
       "    <tr>\n",
       "      <th>Last Name</th>\n",
       "      <th></th>\n",
       "      <th></th>\n",
       "    </tr>\n",
       "  </thead>\n",
       "  <tbody>\n",
       "    <tr>\n",
       "      <th>Johnson</th>\n",
       "      <td>Earvin Johnson</td>\n",
       "      <td>Magic</td>\n",
       "    </tr>\n",
       "    <tr>\n",
       "      <th>Hundley</th>\n",
       "      <td>Rodney Hundley</td>\n",
       "      <td>Hot Rod</td>\n",
       "    </tr>\n",
       "    <tr>\n",
       "      <th>Gervin</th>\n",
       "      <td>George Gervin</td>\n",
       "      <td>Iceman</td>\n",
       "    </tr>\n",
       "    <tr>\n",
       "      <th>Barkley</th>\n",
       "      <td>Charles Barkley</td>\n",
       "      <td>The Chuckster</td>\n",
       "    </tr>\n",
       "    <tr>\n",
       "      <th>Williams</th>\n",
       "      <td>John Williams</td>\n",
       "      <td>Hot Rod</td>\n",
       "    </tr>\n",
       "  </tbody>\n",
       "</table>\n",
       "</div>"
      ],
      "text/plain": [
       "                    Player       Nickname\n",
       "Last Name                                \n",
       "Johnson     Earvin Johnson          Magic\n",
       "Hundley     Rodney Hundley        Hot Rod\n",
       "Gervin       George Gervin         Iceman\n",
       "Barkley    Charles Barkley  The Chuckster\n",
       "Williams     John Williams        Hot Rod"
      ]
     },
     "execution_count": 33,
     "metadata": {},
     "output_type": "execute_result"
    }
   ],
   "source": [
    "# Sampling with replacement\n",
    "df.sample(n=5, replace=True)"
   ]
  },
  {
   "cell_type": "markdown",
   "metadata": {},
   "source": [
    "### Discretization and Binning"
   ]
  },
  {
   "cell_type": "markdown",
   "metadata": {},
   "source": [
    "Sometimes, we have numerical data that we would like to discretize into range-based categories. Some common examples of discretization:\n",
    "\n",
    "* Age ranges\n",
    "* Time/Date ranges\n",
    "* Tax income brackets\n",
    "* Market capitalization\n",
    "* Normal/Abnormal physiological measurements\n",
    "\n",
    "pandas offers two functions for discretizing numerical data:\n",
    "\n",
    "* pd.cut determines the ranges based on specific values (bin edges)\n",
    "* pd.qcut determines the ranges based on quantiles"
   ]
  },
  {
   "cell_type": "markdown",
   "metadata": {},
   "source": [
    "Let's discretize the release year column for the video game data:"
   ]
  },
  {
   "cell_type": "code",
   "execution_count": 34,
   "metadata": {},
   "outputs": [
    {
     "data": {
      "text/plain": [
       "count    16327.000000\n",
       "mean      2006.406443\n",
       "std          5.828981\n",
       "min       1980.000000\n",
       "25%       2003.000000\n",
       "50%       2007.000000\n",
       "75%       2010.000000\n",
       "max       2020.000000\n",
       "Name: Year, dtype: float64"
      ]
     },
     "execution_count": 34,
     "metadata": {},
     "output_type": "execute_result"
    }
   ],
   "source": [
    "# Explore distribution of the release year\n",
    "data['Year'].describe()"
   ]
  },
  {
   "cell_type": "code",
   "execution_count": 35,
   "metadata": {},
   "outputs": [
    {
     "data": {
      "text/plain": [
       "array([1980., 1985., 1990., 1995., 2000., 2005., 2010., 2015., 2020.])"
      ]
     },
     "execution_count": 35,
     "metadata": {},
     "output_type": "execute_result"
    }
   ],
   "source": [
    "# Create linearly space bins\n",
    "bins = np.linspace(start=1980, stop=2020, num=9)\n",
    "bins"
   ]
  },
  {
   "cell_type": "code",
   "execution_count": 36,
   "metadata": {},
   "outputs": [
    {
     "data": {
      "text/html": [
       "<div>\n",
       "<style scoped>\n",
       "    .dataframe tbody tr th:only-of-type {\n",
       "        vertical-align: middle;\n",
       "    }\n",
       "\n",
       "    .dataframe tbody tr th {\n",
       "        vertical-align: top;\n",
       "    }\n",
       "\n",
       "    .dataframe thead th {\n",
       "        text-align: right;\n",
       "    }\n",
       "</style>\n",
       "<table border=\"1\" class=\"dataframe\">\n",
       "  <thead>\n",
       "    <tr style=\"text-align: right;\">\n",
       "      <th></th>\n",
       "      <th>Name</th>\n",
       "      <th>Platform</th>\n",
       "      <th>Year</th>\n",
       "      <th>Year Bin</th>\n",
       "    </tr>\n",
       "    <tr>\n",
       "      <th>Rank</th>\n",
       "      <th></th>\n",
       "      <th></th>\n",
       "      <th></th>\n",
       "      <th></th>\n",
       "    </tr>\n",
       "  </thead>\n",
       "  <tbody>\n",
       "    <tr>\n",
       "      <th>1</th>\n",
       "      <td>Wii Sports</td>\n",
       "      <td>Wii</td>\n",
       "      <td>2006.0</td>\n",
       "      <td>(2005.0, 2010.0]</td>\n",
       "    </tr>\n",
       "    <tr>\n",
       "      <th>2</th>\n",
       "      <td>Super Mario Bros.</td>\n",
       "      <td>NES</td>\n",
       "      <td>1985.0</td>\n",
       "      <td>(1980.0, 1985.0]</td>\n",
       "    </tr>\n",
       "    <tr>\n",
       "      <th>3</th>\n",
       "      <td>Mario Kart Wii</td>\n",
       "      <td>Wii</td>\n",
       "      <td>2008.0</td>\n",
       "      <td>(2005.0, 2010.0]</td>\n",
       "    </tr>\n",
       "    <tr>\n",
       "      <th>4</th>\n",
       "      <td>Wii Sports Resort</td>\n",
       "      <td>Wii</td>\n",
       "      <td>2009.0</td>\n",
       "      <td>(2005.0, 2010.0]</td>\n",
       "    </tr>\n",
       "    <tr>\n",
       "      <th>5</th>\n",
       "      <td>Pokemon Red/Pokemon Blue</td>\n",
       "      <td>GB</td>\n",
       "      <td>1996.0</td>\n",
       "      <td>(1995.0, 2000.0]</td>\n",
       "    </tr>\n",
       "    <tr>\n",
       "      <th>6</th>\n",
       "      <td>Tetris</td>\n",
       "      <td>GB</td>\n",
       "      <td>1989.0</td>\n",
       "      <td>(1985.0, 1990.0]</td>\n",
       "    </tr>\n",
       "    <tr>\n",
       "      <th>7</th>\n",
       "      <td>New Super Mario Bros.</td>\n",
       "      <td>DS</td>\n",
       "      <td>2006.0</td>\n",
       "      <td>(2005.0, 2010.0]</td>\n",
       "    </tr>\n",
       "    <tr>\n",
       "      <th>8</th>\n",
       "      <td>Wii Play</td>\n",
       "      <td>Wii</td>\n",
       "      <td>2006.0</td>\n",
       "      <td>(2005.0, 2010.0]</td>\n",
       "    </tr>\n",
       "    <tr>\n",
       "      <th>9</th>\n",
       "      <td>New Super Mario Bros. Wii</td>\n",
       "      <td>Wii</td>\n",
       "      <td>2009.0</td>\n",
       "      <td>(2005.0, 2010.0]</td>\n",
       "    </tr>\n",
       "    <tr>\n",
       "      <th>10</th>\n",
       "      <td>Duck Hunt</td>\n",
       "      <td>NES</td>\n",
       "      <td>1984.0</td>\n",
       "      <td>(1980.0, 1985.0]</td>\n",
       "    </tr>\n",
       "  </tbody>\n",
       "</table>\n",
       "</div>"
      ],
      "text/plain": [
       "                           Name Platform    Year          Year Bin\n",
       "Rank                                                              \n",
       "1                    Wii Sports      Wii  2006.0  (2005.0, 2010.0]\n",
       "2             Super Mario Bros.      NES  1985.0  (1980.0, 1985.0]\n",
       "3                Mario Kart Wii      Wii  2008.0  (2005.0, 2010.0]\n",
       "4             Wii Sports Resort      Wii  2009.0  (2005.0, 2010.0]\n",
       "5      Pokemon Red/Pokemon Blue       GB  1996.0  (1995.0, 2000.0]\n",
       "6                        Tetris       GB  1989.0  (1985.0, 1990.0]\n",
       "7         New Super Mario Bros.       DS  2006.0  (2005.0, 2010.0]\n",
       "8                      Wii Play      Wii  2006.0  (2005.0, 2010.0]\n",
       "9     New Super Mario Bros. Wii      Wii  2009.0  (2005.0, 2010.0]\n",
       "10                    Duck Hunt      NES  1984.0  (1980.0, 1985.0]"
      ]
     },
     "execution_count": 36,
     "metadata": {},
     "output_type": "execute_result"
    }
   ],
   "source": [
    "# Add discretized workers to DataFrame and preview results\n",
    "data['Year Bin'] = pd.cut(data['Year'], bins)\n",
    "data[['Name', 'Platform', 'Year', 'Year Bin']].head(10)"
   ]
  },
  {
   "cell_type": "code",
   "execution_count": 37,
   "metadata": {},
   "outputs": [
    {
     "data": {
      "text/plain": [
       "(1980.0, 1985.0]     127\n",
       "(1985.0, 1990.0]      85\n",
       "(1990.0, 1995.0]     484\n",
       "(1995.0, 2000.0]    1618\n",
       "(2000.0, 2005.0]    3790\n",
       "(2005.0, 2010.0]    6328\n",
       "(2010.0, 2015.0]    3538\n",
       "(2015.0, 2020.0]     348\n",
       "Name: Year Bin, dtype: int64"
      ]
     },
     "execution_count": 37,
     "metadata": {},
     "output_type": "execute_result"
    }
   ],
   "source": [
    "# Summarize frequency of worker bins\n",
    "data['Year Bin'].value_counts().sort_index()"
   ]
  },
  {
   "cell_type": "code",
   "execution_count": 38,
   "metadata": {},
   "outputs": [
    {
     "data": {
      "text/plain": [
       "count    16598.000000\n",
       "mean         0.537441\n",
       "std          1.555028\n",
       "min          0.010000\n",
       "25%          0.060000\n",
       "50%          0.170000\n",
       "75%          0.470000\n",
       "max         82.740000\n",
       "Name: Global_Sales, dtype: float64"
      ]
     },
     "execution_count": 38,
     "metadata": {},
     "output_type": "execute_result"
    }
   ],
   "source": [
    "# Explore distribution of the release year\n",
    "data['Global_Sales'].describe()"
   ]
  },
  {
   "cell_type": "code",
   "execution_count": 39,
   "metadata": {},
   "outputs": [
    {
     "data": {
      "text/plain": [
       "(0.009000000000000001, 0.02]    1689\n",
       "(0.02, 0.05]                    2088\n",
       "(0.05, 0.08]                    1570\n",
       "(0.08, 0.12]                    1593\n",
       "(0.12, 0.17]                    1452\n",
       "(0.17, 0.25]                    1599\n",
       "(0.25, 0.38]                    1633\n",
       "(0.38, 0.61]                    1692\n",
       "(0.61, 1.21]                    1631\n",
       "(1.21, 82.74]                   1651\n",
       "Name: Global_Sales, dtype: int64"
      ]
     },
     "execution_count": 39,
     "metadata": {},
     "output_type": "execute_result"
    }
   ],
   "source": [
    "# Summarize frequency of decile bins\n",
    "pd.qcut(data['Global_Sales'], 10).value_counts().sort_index()"
   ]
  },
  {
   "cell_type": "code",
   "execution_count": 40,
   "metadata": {},
   "outputs": [
    {
     "data": {
      "text/plain": [
       "(0.009000000000000001, 0.02]    1689\n",
       "(0.02, 0.06]                    2665\n",
       "(0.06, 0.17]                    4038\n",
       "(0.17, 0.47]                    4060\n",
       "(0.47, 1.21]                    2495\n",
       "(1.21, 2.04]                     822\n",
       "(2.04, 5.431]                    663\n",
       "(5.431, 82.74]                   166\n",
       "Name: Global_Sales, dtype: int64"
      ]
     },
     "execution_count": 40,
     "metadata": {},
     "output_type": "execute_result"
    }
   ],
   "source": [
    "# Summarize frequncy of non-uniform quantile bins\n",
    "pd.qcut(data['Global_Sales'], [0., 0.1, 0.25, 0.5, 0.75, 0.9, 0.95, 0.99, 1.]).value_counts().sort_index()"
   ]
  },
  {
   "cell_type": "markdown",
   "metadata": {},
   "source": [
    "### Dummy Variables"
   ]
  },
  {
   "cell_type": "markdown",
   "metadata": {},
   "source": [
    "Converting categorical variables into dummy variables is a common approach for statistical analysis; pandas offers the pd.get_dummies function for this task. The function can be applied to an ndarray, Series, or DataFrame object, and returns a DataFrame that contains each dummy variable in a separate column."
   ]
  },
  {
   "cell_type": "code",
   "execution_count": 41,
   "metadata": {},
   "outputs": [
    {
     "data": {
      "text/plain": [
       "      (1980.0, 1985.0]  (1985.0, 1990.0]  (1990.0, 1995.0]  (1995.0, 2000.0]  \\\n",
       "Rank                                                                           \n",
       "1                    0                 0                 0                 0   \n",
       "2                    1                 0                 0                 0   \n",
       "3                    0                 0                 0                 0   \n",
       "4                    0                 0                 0                 0   \n",
       "5                    0                 0                 0                 1   \n",
       "\n",
       "      (2000.0, 2005.0]  (2005.0, 2010.0]  (2010.0, 2015.0]  (2015.0, 2020.0]  \n",
       "Rank                                                                          \n",
       "1                    0                 1                 0                 0  \n",
       "2                    0                 0                 0                 0  \n",
       "3                    0                 1                 0                 0  \n",
       "4                    0                 1                 0                 0  \n",
       "5                    0                 0                 0                 0  "
      ]
     },
     "execution_count": 41,
     "metadata": {},
     "output_type": "execute_result"
    }
   ],
   "source": [
    "# Apply pd.get_dummies to Series (DataFrame column)\n",
    "pd.get_dummies(data['Year Bin']).head()"
   ]
  },
  {
   "cell_type": "code",
   "execution_count": 42,
   "metadata": {},
   "outputs": [
    {
     "data": {
      "text/html": [
       "<div>\n",
       "<style scoped>\n",
       "    .dataframe tbody tr th:only-of-type {\n",
       "        vertical-align: middle;\n",
       "    }\n",
       "\n",
       "    .dataframe tbody tr th {\n",
       "        vertical-align: top;\n",
       "    }\n",
       "\n",
       "    .dataframe thead th {\n",
       "        text-align: right;\n",
       "    }\n",
       "</style>\n",
       "<table border=\"1\" class=\"dataframe\">\n",
       "  <thead>\n",
       "    <tr style=\"text-align: right;\">\n",
       "      <th></th>\n",
       "      <th>Name</th>\n",
       "      <th>Platform</th>\n",
       "      <th>Year</th>\n",
       "      <th>(1980.0, 1985.0]</th>\n",
       "      <th>(1985.0, 1990.0]</th>\n",
       "      <th>(1990.0, 1995.0]</th>\n",
       "      <th>(1995.0, 2000.0]</th>\n",
       "      <th>(2000.0, 2005.0]</th>\n",
       "      <th>(2005.0, 2010.0]</th>\n",
       "      <th>(2010.0, 2015.0]</th>\n",
       "      <th>(2015.0, 2020.0]</th>\n",
       "    </tr>\n",
       "    <tr>\n",
       "      <th>Rank</th>\n",
       "      <th></th>\n",
       "      <th></th>\n",
       "      <th></th>\n",
       "      <th></th>\n",
       "      <th></th>\n",
       "      <th></th>\n",
       "      <th></th>\n",
       "      <th></th>\n",
       "      <th></th>\n",
       "      <th></th>\n",
       "      <th></th>\n",
       "    </tr>\n",
       "  </thead>\n",
       "  <tbody>\n",
       "    <tr>\n",
       "      <th>1</th>\n",
       "      <td>Wii Sports</td>\n",
       "      <td>Wii</td>\n",
       "      <td>2006.0</td>\n",
       "      <td>0</td>\n",
       "      <td>0</td>\n",
       "      <td>0</td>\n",
       "      <td>0</td>\n",
       "      <td>0</td>\n",
       "      <td>1</td>\n",
       "      <td>0</td>\n",
       "      <td>0</td>\n",
       "    </tr>\n",
       "    <tr>\n",
       "      <th>2</th>\n",
       "      <td>Super Mario Bros.</td>\n",
       "      <td>NES</td>\n",
       "      <td>1985.0</td>\n",
       "      <td>1</td>\n",
       "      <td>0</td>\n",
       "      <td>0</td>\n",
       "      <td>0</td>\n",
       "      <td>0</td>\n",
       "      <td>0</td>\n",
       "      <td>0</td>\n",
       "      <td>0</td>\n",
       "    </tr>\n",
       "    <tr>\n",
       "      <th>3</th>\n",
       "      <td>Mario Kart Wii</td>\n",
       "      <td>Wii</td>\n",
       "      <td>2008.0</td>\n",
       "      <td>0</td>\n",
       "      <td>0</td>\n",
       "      <td>0</td>\n",
       "      <td>0</td>\n",
       "      <td>0</td>\n",
       "      <td>1</td>\n",
       "      <td>0</td>\n",
       "      <td>0</td>\n",
       "    </tr>\n",
       "    <tr>\n",
       "      <th>4</th>\n",
       "      <td>Wii Sports Resort</td>\n",
       "      <td>Wii</td>\n",
       "      <td>2009.0</td>\n",
       "      <td>0</td>\n",
       "      <td>0</td>\n",
       "      <td>0</td>\n",
       "      <td>0</td>\n",
       "      <td>0</td>\n",
       "      <td>1</td>\n",
       "      <td>0</td>\n",
       "      <td>0</td>\n",
       "    </tr>\n",
       "    <tr>\n",
       "      <th>5</th>\n",
       "      <td>Pokemon Red/Pokemon Blue</td>\n",
       "      <td>GB</td>\n",
       "      <td>1996.0</td>\n",
       "      <td>0</td>\n",
       "      <td>0</td>\n",
       "      <td>0</td>\n",
       "      <td>1</td>\n",
       "      <td>0</td>\n",
       "      <td>0</td>\n",
       "      <td>0</td>\n",
       "      <td>0</td>\n",
       "    </tr>\n",
       "  </tbody>\n",
       "</table>\n",
       "</div>"
      ],
      "text/plain": [
       "                          Name Platform    Year  (1980.0, 1985.0]  \\\n",
       "Rank                                                                \n",
       "1                   Wii Sports      Wii  2006.0                 0   \n",
       "2            Super Mario Bros.      NES  1985.0                 1   \n",
       "3               Mario Kart Wii      Wii  2008.0                 0   \n",
       "4            Wii Sports Resort      Wii  2009.0                 0   \n",
       "5     Pokemon Red/Pokemon Blue       GB  1996.0                 0   \n",
       "\n",
       "      (1985.0, 1990.0]  (1990.0, 1995.0]  (1995.0, 2000.0]  (2000.0, 2005.0]  \\\n",
       "Rank                                                                           \n",
       "1                    0                 0                 0                 0   \n",
       "2                    0                 0                 0                 0   \n",
       "3                    0                 0                 0                 0   \n",
       "4                    0                 0                 0                 0   \n",
       "5                    0                 0                 1                 0   \n",
       "\n",
       "      (2005.0, 2010.0]  (2010.0, 2015.0]  (2015.0, 2020.0]  \n",
       "Rank                                                        \n",
       "1                    1                 0                 0  \n",
       "2                    0                 0                 0  \n",
       "3                    1                 0                 0  \n",
       "4                    1                 0                 0  \n",
       "5                    0                 0                 0  "
      ]
     },
     "execution_count": 42,
     "metadata": {},
     "output_type": "execute_result"
    }
   ],
   "source": [
    "# Apply pd.get_dummies to specific column in DataFrame\n",
    "pd.get_dummies(data[['Name', 'Platform', 'Year', 'Year Bin']], columns=['Year Bin'], prefix='', prefix_sep='').head()"
   ]
  },
  {
   "cell_type": "code",
   "execution_count": 43,
   "metadata": {},
   "outputs": [
    {
     "data": {
      "text/html": [
       "<div>\n",
       "<style scoped>\n",
       "    .dataframe tbody tr th:only-of-type {\n",
       "        vertical-align: middle;\n",
       "    }\n",
       "\n",
       "    .dataframe tbody tr th {\n",
       "        vertical-align: top;\n",
       "    }\n",
       "\n",
       "    .dataframe thead th {\n",
       "        text-align: right;\n",
       "    }\n",
       "</style>\n",
       "<table border=\"1\" class=\"dataframe\">\n",
       "  <thead>\n",
       "    <tr style=\"text-align: right;\">\n",
       "      <th></th>\n",
       "      <th>Name</th>\n",
       "      <th>Platform</th>\n",
       "      <th>Year</th>\n",
       "      <th>(1985.0, 1990.0]</th>\n",
       "      <th>(1990.0, 1995.0]</th>\n",
       "      <th>(1995.0, 2000.0]</th>\n",
       "      <th>(2000.0, 2005.0]</th>\n",
       "      <th>(2005.0, 2010.0]</th>\n",
       "      <th>(2010.0, 2015.0]</th>\n",
       "      <th>(2015.0, 2020.0]</th>\n",
       "    </tr>\n",
       "    <tr>\n",
       "      <th>Rank</th>\n",
       "      <th></th>\n",
       "      <th></th>\n",
       "      <th></th>\n",
       "      <th></th>\n",
       "      <th></th>\n",
       "      <th></th>\n",
       "      <th></th>\n",
       "      <th></th>\n",
       "      <th></th>\n",
       "      <th></th>\n",
       "    </tr>\n",
       "  </thead>\n",
       "  <tbody>\n",
       "    <tr>\n",
       "      <th>1</th>\n",
       "      <td>Wii Sports</td>\n",
       "      <td>Wii</td>\n",
       "      <td>2006.0</td>\n",
       "      <td>0</td>\n",
       "      <td>0</td>\n",
       "      <td>0</td>\n",
       "      <td>0</td>\n",
       "      <td>1</td>\n",
       "      <td>0</td>\n",
       "      <td>0</td>\n",
       "    </tr>\n",
       "    <tr>\n",
       "      <th>2</th>\n",
       "      <td>Super Mario Bros.</td>\n",
       "      <td>NES</td>\n",
       "      <td>1985.0</td>\n",
       "      <td>0</td>\n",
       "      <td>0</td>\n",
       "      <td>0</td>\n",
       "      <td>0</td>\n",
       "      <td>0</td>\n",
       "      <td>0</td>\n",
       "      <td>0</td>\n",
       "    </tr>\n",
       "    <tr>\n",
       "      <th>3</th>\n",
       "      <td>Mario Kart Wii</td>\n",
       "      <td>Wii</td>\n",
       "      <td>2008.0</td>\n",
       "      <td>0</td>\n",
       "      <td>0</td>\n",
       "      <td>0</td>\n",
       "      <td>0</td>\n",
       "      <td>1</td>\n",
       "      <td>0</td>\n",
       "      <td>0</td>\n",
       "    </tr>\n",
       "    <tr>\n",
       "      <th>4</th>\n",
       "      <td>Wii Sports Resort</td>\n",
       "      <td>Wii</td>\n",
       "      <td>2009.0</td>\n",
       "      <td>0</td>\n",
       "      <td>0</td>\n",
       "      <td>0</td>\n",
       "      <td>0</td>\n",
       "      <td>1</td>\n",
       "      <td>0</td>\n",
       "      <td>0</td>\n",
       "    </tr>\n",
       "    <tr>\n",
       "      <th>5</th>\n",
       "      <td>Pokemon Red/Pokemon Blue</td>\n",
       "      <td>GB</td>\n",
       "      <td>1996.0</td>\n",
       "      <td>0</td>\n",
       "      <td>0</td>\n",
       "      <td>1</td>\n",
       "      <td>0</td>\n",
       "      <td>0</td>\n",
       "      <td>0</td>\n",
       "      <td>0</td>\n",
       "    </tr>\n",
       "  </tbody>\n",
       "</table>\n",
       "</div>"
      ],
      "text/plain": [
       "                          Name Platform    Year  (1985.0, 1990.0]  \\\n",
       "Rank                                                                \n",
       "1                   Wii Sports      Wii  2006.0                 0   \n",
       "2            Super Mario Bros.      NES  1985.0                 0   \n",
       "3               Mario Kart Wii      Wii  2008.0                 0   \n",
       "4            Wii Sports Resort      Wii  2009.0                 0   \n",
       "5     Pokemon Red/Pokemon Blue       GB  1996.0                 0   \n",
       "\n",
       "      (1990.0, 1995.0]  (1995.0, 2000.0]  (2000.0, 2005.0]  (2005.0, 2010.0]  \\\n",
       "Rank                                                                           \n",
       "1                    0                 0                 0                 1   \n",
       "2                    0                 0                 0                 0   \n",
       "3                    0                 0                 0                 1   \n",
       "4                    0                 0                 0                 1   \n",
       "5                    0                 1                 0                 0   \n",
       "\n",
       "      (2010.0, 2015.0]  (2015.0, 2020.0]  \n",
       "Rank                                      \n",
       "1                    0                 0  \n",
       "2                    0                 0  \n",
       "3                    0                 0  \n",
       "4                    0                 0  \n",
       "5                    0                 0  "
      ]
     },
     "execution_count": 43,
     "metadata": {},
     "output_type": "execute_result"
    }
   ],
   "source": [
    "# Create dummy variables but drop first category (reference)\n",
    "pd.get_dummies(data[['Name', 'Platform', 'Year', 'Year Bin']], columns=['Year Bin'], prefix='', prefix_sep='', drop_first=True).head()"
   ]
  },
  {
   "cell_type": "markdown",
   "metadata": {},
   "source": [
    "# Next Time: Regular Expressions"
   ]
  }
 ],
 "metadata": {
  "anaconda-cloud": {},
  "kernelspec": {
   "display_name": "Python 3",
   "language": "python",
   "name": "python3"
  },
  "language_info": {
   "codemirror_mode": {
    "name": "ipython",
    "version": 3
   },
   "file_extension": ".py",
   "mimetype": "text/x-python",
   "name": "python",
   "nbconvert_exporter": "python",
   "pygments_lexer": "ipython3",
   "version": "3.7.3"
  }
 },
 "nbformat": 4,
 "nbformat_minor": 2
}
