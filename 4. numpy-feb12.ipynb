{
 "cells": [
  {
   "cell_type": "markdown",
   "metadata": {
    "collapsed": true
   },
   "source": [
    "# NumPy"
   ]
  },
  {
   "cell_type": "markdown",
   "metadata": {},
   "source": [
    "**NumPy**--which stands for Numerical Python--is the foundational package for performing scientific computing. In addition, it provides the primary data structure--*the n-dimensional array*--on which the **pandas** package is built. NumPy includes extensive functionality, but we will use it primarily for:\n",
    "\n",
    "* Fast (vectorized) array operations for data processing\n",
    "* Efficient descriptive statistics\n",
    "* Manipulations for merging multiple data sets\n",
    "\n",
    "Friendly reminders:\n",
    "\n",
    "* NumPy module on DataCamp is due by 11:59 p.m. tonight\n",
    "* Homework #1 is due by 11:59 p.m. tonight\n",
    "* Homework #2 is released"
   ]
  },
  {
   "cell_type": "code",
   "execution_count": 1,
   "metadata": {},
   "outputs": [],
   "source": [
    "# Import statement\n",
    "import numpy as np"
   ]
  },
  {
   "cell_type": "markdown",
   "metadata": {},
   "source": [
    "## ndarrays"
   ]
  },
  {
   "cell_type": "markdown",
   "metadata": {},
   "source": [
    "The ndarray is an n-dimensional array object, similar to a list but designed to facilitate fast computation. However, in order for arrays to be useful, they must hold a single type of object. We will mostly focus on numerical (int, float) and boolean arrays.\n",
    "\n",
    "Arrays will most likely be loaded from external data sources (later), but for now, we can create them via casting (using the np.**array** function) or using one of the following generating functions (or class of functions):\n",
    "\n",
    "* np.**arange**(*start*, *stop*, *step*) (similar to range function for lists)\n",
    "* np.**zeros**(*shape*), np.**ones**(*shape*) (where *shape* is a sequence of dimension sizes)\n",
    "* np.random.**rand**(*d0*,*d1*,...,*dn*) (where *d0*,*d1*,...,*dn* are dimension sizes)\n",
    "* np.random.**randn**(*d0*,*d1*,...,*dn*) (where *d0*,*d1*,...,*dn* are dimension sizes)"
   ]
  },
  {
   "cell_type": "code",
   "execution_count": 2,
   "metadata": {},
   "outputs": [
    {
     "ename": "NameError",
     "evalue": "name 'shape' is not defined",
     "output_type": "error",
     "traceback": [
      "\u001b[0;31m---------------------------------------------------------------------------\u001b[0m",
      "\u001b[0;31mNameError\u001b[0m                                 Traceback (most recent call last)",
      "\u001b[0;32m<ipython-input-2-f014419db966>\u001b[0m in \u001b[0;36m<module>\u001b[0;34m\u001b[0m\n\u001b[0;32m----> 1\u001b[0;31m \u001b[0mnp\u001b[0m\u001b[0;34m.\u001b[0m\u001b[0mzeros\u001b[0m\u001b[0;34m(\u001b[0m\u001b[0mshape\u001b[0m\u001b[0;34m)\u001b[0m\u001b[0;34m\u001b[0m\u001b[0;34m\u001b[0m\u001b[0m\n\u001b[0m",
      "\u001b[0;31mNameError\u001b[0m: name 'shape' is not defined"
     ]
    }
   ],
   "source": [
    "np.zeros(shape)"
   ]
  },
  {
   "cell_type": "code",
   "execution_count": 3,
   "metadata": {},
   "outputs": [
    {
     "data": {
      "text/plain": [
       "array([ 1,  5, -1,  2,  4])"
      ]
     },
     "execution_count": 3,
     "metadata": {},
     "output_type": "execute_result"
    }
   ],
   "source": [
    "# Casting from list\n",
    "np.array([1,5,-1,2,4])"
   ]
  },
  {
   "cell_type": "code",
   "execution_count": 4,
   "metadata": {},
   "outputs": [
    {
     "data": {
      "text/plain": [
       "array([0, 1, 2, 3, 4, 5, 6, 7, 8, 9])"
      ]
     },
     "execution_count": 4,
     "metadata": {},
     "output_type": "execute_result"
    }
   ],
   "source": [
    "# np.arange\n",
    "arr1d = np.arange(10)\n",
    "arr1d"
   ]
  },
  {
   "cell_type": "code",
   "execution_count": 5,
   "metadata": {},
   "outputs": [
    {
     "data": {
      "text/plain": [
       "array([[1., 1., 1., 1., 1., 1., 1., 1., 1., 1.],\n",
       "       [1., 1., 1., 1., 1., 1., 1., 1., 1., 1.],\n",
       "       [1., 1., 1., 1., 1., 1., 1., 1., 1., 1.],\n",
       "       [1., 1., 1., 1., 1., 1., 1., 1., 1., 1.],\n",
       "       [1., 1., 1., 1., 1., 1., 1., 1., 1., 1.]])"
      ]
     },
     "execution_count": 5,
     "metadata": {},
     "output_type": "execute_result"
    }
   ],
   "source": [
    "# np.ones, np.zeros ****(row,colmun)****\n",
    "np.ones((5,10))"
   ]
  },
  {
   "cell_type": "code",
   "execution_count": 6,
   "metadata": {},
   "outputs": [
    {
     "data": {
      "text/plain": [
       "array([[0.0353899 , 0.48904223, 0.16637835],\n",
       "       [0.74651292, 0.98656297, 0.40644948],\n",
       "       [0.7868014 , 0.1496109 , 0.60034595]])"
      ]
     },
     "execution_count": 6,
     "metadata": {},
     "output_type": "execute_result"
    }
   ],
   "source": [
    "# np.random.rand, np.random(normalD).randn(0-1)\n",
    "arr2d = np.random.rand(3,3)\n",
    "arr2d"
   ]
  },
  {
   "cell_type": "code",
   "execution_count": 9,
   "metadata": {},
   "outputs": [
    {
     "ename": "SyntaxError",
     "evalue": "invalid syntax (<ipython-input-9-deee388560ef>, line 1)",
     "output_type": "error",
     "traceback": [
      "\u001b[0;36m  File \u001b[0;32m\"<ipython-input-9-deee388560ef>\"\u001b[0;36m, line \u001b[0;32m1\u001b[0m\n\u001b[0;31m    arr2d. #Tab to search\u001b[0m\n\u001b[0m                         ^\u001b[0m\n\u001b[0;31mSyntaxError\u001b[0m\u001b[0;31m:\u001b[0m invalid syntax\n"
     ]
    }
   ],
   "source": [
    "arr2d. #Tab to search\n",
    "dir(arr2d)\n",
    "?arr2d"
   ]
  },
  {
   "cell_type": "code",
   "execution_count": 7,
   "metadata": {},
   "outputs": [
    {
     "name": "stdout",
     "output_type": "stream",
     "text": [
      "2\n",
      "(3, 3)\n",
      "float64\n"
     ]
    }
   ],
   "source": [
    "# Common attributes\n",
    "print(arr2d.ndim) # number of dimensions\n",
    "print(arr2d.shape) # shape of array\n",
    "print(arr2d.dtype) # data type"
   ]
  },
  {
   "cell_type": "code",
   "execution_count": 8,
   "metadata": {},
   "outputs": [
    {
     "data": {
      "text/plain": [
       "array([0., 1., 2., 3., 4., 5., 6., 7., 8., 9.])"
      ]
     },
     "execution_count": 8,
     "metadata": {},
     "output_type": "execute_result"
    }
   ],
   "source": [
    "# Casting to other dtypes\n",
    "np.arange(10).astype(float)"
   ]
  },
  {
   "cell_type": "code",
   "execution_count": 9,
   "metadata": {},
   "outputs": [
    {
     "data": {
      "text/plain": [
       "<function ndarray.all>"
      ]
     },
     "execution_count": 9,
     "metadata": {},
     "output_type": "execute_result"
    }
   ],
   "source": [
    "# Tab completion\n",
    "arr1d."
   ]
  },
  {
   "cell_type": "markdown",
   "metadata": {},
   "source": [
    "See https://docs.scipy.org/doc/numpy/reference/generated/numpy.ndarray.html for additional details on ndarray objects."
   ]
  },
  {
   "cell_type": "markdown",
   "metadata": {},
   "source": [
    "## Array Operations"
   ]
  },
  {
   "cell_type": "markdown",
   "metadata": {},
   "source": [
    "As previously stated, arrays are designed to support fast computation and comparison. The most common type of operations are:\n",
    "\n",
    "* Between arrays and scalars\n",
    "* Universal functions (np.func)\n",
    "    - Unary (performed on a single array): abs, sqrt, exp, log, ceil, floor, logical_not, and more\n",
    "    - Binary (performed between two arrays): +, -, /, *, **, min, max, mod, >, >=, <, <=, ==, !=, logical_and, logical_or, logical_xor\n",
    "* Mathematical and statistical functions - Available as NumPy functions (np.func) and array methods (arr.func)\n",
    "    - Aggregation: mean, sum, std, var, min/max, argmin/argmax\n",
    "    - Non-aggregation: cumsum, cumprod"
   ]
  },
  {
   "cell_type": "code",
   "execution_count": 10,
   "metadata": {},
   "outputs": [
    {
     "data": {
      "text/plain": [
       "array([[1.0353899 , 1.48904223, 1.16637835],\n",
       "       [1.74651292, 1.98656297, 1.40644948],\n",
       "       [1.7868014 , 1.1496109 , 1.60034595]])"
      ]
     },
     "execution_count": 10,
     "metadata": {},
     "output_type": "execute_result"
    }
   ],
   "source": [
    "# Broadcasting with a scalar\n",
    "arr2d + 1"
   ]
  },
  {
   "cell_type": "code",
   "execution_count": 11,
   "metadata": {},
   "outputs": [
    {
     "data": {
      "text/plain": [
       "array([[1.0353899 , 2.48904223, 3.16637835],\n",
       "       [1.74651292, 2.98656297, 3.40644948],\n",
       "       [1.7868014 , 2.1496109 , 3.60034595]])"
      ]
     },
     "execution_count": 11,
     "metadata": {},
     "output_type": "execute_result"
    }
   ],
   "source": [
    "# Broadcasting with 1-d array\n",
    "arr2d + [1,2,3]"
   ]
  },
  {
   "cell_type": "code",
   "execution_count": 12,
   "metadata": {},
   "outputs": [
    {
     "data": {
      "text/plain": [
       "array([[False, False, False],\n",
       "       [ True,  True, False],\n",
       "       [ True, False,  True]])"
      ]
     },
     "execution_count": 12,
     "metadata": {},
     "output_type": "execute_result"
    }
   ],
   "source": [
    "# Comparison with a scalar\n",
    "arr2d > 0.5"
   ]
  },
  {
   "cell_type": "code",
   "execution_count": 13,
   "metadata": {},
   "outputs": [
    {
     "data": {
      "text/plain": [
       "array([[0.18812202, 0.69931554, 0.40789502],\n",
       "       [0.86400979, 0.99325876, 0.63753391],\n",
       "       [0.88701826, 0.38679568, 0.77481994]])"
      ]
     },
     "execution_count": 13,
     "metadata": {},
     "output_type": "execute_result"
    }
   ],
   "source": [
    "# Unary functions\n",
    "np.sqrt(arr2d)"
   ]
  },
  {
   "cell_type": "code",
   "execution_count": 14,
   "metadata": {},
   "outputs": [
    {
     "data": {
      "text/plain": [
       "array([[0.00125244, 0.2391623 , 0.02768176],\n",
       "       [0.55728154, 0.97330649, 0.16520118],\n",
       "       [0.61905644, 0.02238342, 0.36041526]])"
      ]
     },
     "execution_count": 14,
     "metadata": {},
     "output_type": "execute_result"
    }
   ],
   "source": [
    "# Binary functions\n",
    "arr2d * arr2d"
   ]
  },
  {
   "cell_type": "code",
   "execution_count": 15,
   "metadata": {},
   "outputs": [
    {
     "name": "stdout",
     "output_type": "stream",
     "text": [
      "[0.52290141 0.5417387  0.39105793]\n",
      "[0.23027016 0.71317512 0.51225275]\n"
     ]
    }
   ],
   "source": [
    "# Aggregation function\n",
    "print(np.mean(arr2d,axis=0))#col\n",
    "print(np.mean(arr2d,axis=1))#row"
   ]
  },
  {
   "cell_type": "code",
   "execution_count": 16,
   "metadata": {},
   "outputs": [
    {
     "data": {
      "text/plain": [
       "array([0.0353899 , 0.52443212, 0.69081047, 1.4373234 , 2.42388636,\n",
       "       2.83033585, 3.61713725, 3.76674815, 4.36709409])"
      ]
     },
     "execution_count": 16,
     "metadata": {},
     "output_type": "execute_result"
    }
   ],
   "source": [
    "# Non-aggregation function\n",
    "arr2d.cumsum()"
   ]
  },
  {
   "cell_type": "markdown",
   "metadata": {},
   "source": [
    "## Arrays vs. Lists"
   ]
  },
  {
   "cell_type": "markdown",
   "metadata": {},
   "source": [
    "Arrays may seem similar to lists (e.g., they are both mutable and iterable sequences), but they are distinct data structures. Be sure to use an array whenever you are performing any large scale computations or comparisons."
   ]
  },
  {
   "cell_type": "code",
   "execution_count": 17,
   "metadata": {},
   "outputs": [
    {
     "name": "stdout",
     "output_type": "stream",
     "text": [
      "[0, 1, 2, 3, 4, 5, 6, 7, 8, 9, 0, 1, 2, 3, 4, 5, 6, 7, 8, 9]\n",
      "[0, 1, 2, 3, 4, 5, 6, 7, 8, 9, 0, 1, 2, 3, 4, 5, 6, 7, 8, 9, 0, 1, 2, 3, 4, 5, 6, 7, 8, 9]\n"
     ]
    }
   ],
   "source": [
    "# List operations\n",
    "L = list(range(10))\n",
    "print(L + L)\n",
    "print(L * 3)"
   ]
  },
  {
   "cell_type": "code",
   "execution_count": 18,
   "metadata": {},
   "outputs": [
    {
     "name": "stdout",
     "output_type": "stream",
     "text": [
      "[ 0  2  4  6  8 10 12 14 16 18]\n",
      "[ 0  3  6  9 12 15 18 21 24 27]\n"
     ]
    }
   ],
   "source": [
    "# Array operations\n",
    "arr = np.arange(10)\n",
    "print(arr + arr);\n",
    "print(arr * 3);"
   ]
  },
  {
   "cell_type": "code",
   "execution_count": 19,
   "metadata": {},
   "outputs": [
    {
     "name": "stdout",
     "output_type": "stream",
     "text": [
      "995 ns ± 129 ns per loop (mean ± std. dev. of 5 runs, 10000 loops each)\n"
     ]
    }
   ],
   "source": [
    "%%timeit -r5 -n10000\n",
    "# List computation - for loop\n",
    "squares = []\n",
    "for x in L:\n",
    "    squares.append(x)"
   ]
  },
  {
   "cell_type": "code",
   "execution_count": 20,
   "metadata": {},
   "outputs": [
    {
     "name": "stdout",
     "output_type": "stream",
     "text": [
      "198 ns ± 5.7 ns per loop (mean ± std. dev. of 5 runs, 10000 loops each)\n"
     ]
    }
   ],
   "source": [
    "# List computation - map\n",
    "lf = lambda x: x * x\n",
    "%timeit -r5 -n10000 map(lf, L)"
   ]
  },
  {
   "cell_type": "code",
   "execution_count": 21,
   "metadata": {},
   "outputs": [
    {
     "name": "stdout",
     "output_type": "stream",
     "text": [
      "749 ns ± 36.3 ns per loop (mean ± std. dev. of 5 runs, 10000 loops each)\n"
     ]
    }
   ],
   "source": [
    "# List computation - list comprehension\n",
    "%timeit -r5 -n10000 [x * x  for x in L]"
   ]
  },
  {
   "cell_type": "code",
   "execution_count": 22,
   "metadata": {},
   "outputs": [
    {
     "name": "stdout",
     "output_type": "stream",
     "text": [
      "379 ns ± 53.4 ns per loop (mean ± std. dev. of 5 runs, 10000 loops each)\n"
     ]
    }
   ],
   "source": [
    "# List computation - generator expression\n",
    "%timeit -r5 -n10000 (x * x  for x in L)"
   ]
  },
  {
   "cell_type": "code",
   "execution_count": 23,
   "metadata": {},
   "outputs": [
    {
     "name": "stdout",
     "output_type": "stream",
     "text": [
      "908 ns ± 109 ns per loop (mean ± std. dev. of 5 runs, 10000 loops each)\n",
      "1.08 µs ± 253 ns per loop (mean ± std. dev. of 5 runs, 10000 loops each)\n",
      "683 ns ± 102 ns per loop (mean ± std. dev. of 5 runs, 10000 loops each)\n"
     ]
    }
   ],
   "source": [
    "# Array computations\n",
    "%timeit -r5 -n10000 arr ** 2\n",
    "%timeit -r5 -n10000 np.square(arr)\n",
    "%timeit -r5 -n10000 arr * arr"
   ]
  },
  {
   "cell_type": "markdown",
   "metadata": {},
   "source": [
    "In addition, lists do not have restrictions on the size of nested sequences, whereas arrays have restrictions for constructing a useful form of the object."
   ]
  },
  {
   "cell_type": "code",
   "execution_count": 24,
   "metadata": {},
   "outputs": [
    {
     "data": {
      "text/plain": [
       "[[1, 2, 3], [4, 5, 6, 7], [8, 9]]"
      ]
     },
     "execution_count": 24,
     "metadata": {},
     "output_type": "execute_result"
    }
   ],
   "source": [
    "[[1,2,3],[4,5,6,7],[8,9]]"
   ]
  },
  {
   "cell_type": "code",
   "execution_count": 25,
   "metadata": {},
   "outputs": [
    {
     "data": {
      "text/plain": [
       "array([[1, 2, 3],\n",
       "       [4, 5, 6],\n",
       "       [7, 8, 9]])"
      ]
     },
     "execution_count": 25,
     "metadata": {},
     "output_type": "execute_result"
    }
   ],
   "source": [
    "np.array([[1,2,3],[4,5,6],[7,8,9]])"
   ]
  },
  {
   "cell_type": "markdown",
   "metadata": {},
   "source": [
    "## Indexing and Slicing"
   ]
  },
  {
   "cell_type": "markdown",
   "metadata": {},
   "source": [
    "Indexing and slicing arrays is similar to lists..."
   ]
  },
  {
   "cell_type": "code",
   "execution_count": 26,
   "metadata": {},
   "outputs": [
    {
     "name": "stdout",
     "output_type": "stream",
     "text": [
      "5\n",
      "9\n",
      "[5 6 7]\n",
      "[0 2 4 6 8]\n"
     ]
    }
   ],
   "source": [
    "print(arr[5])\n",
    "print(arr[-1])\n",
    "print(arr[5:8])\n",
    "print(arr[::2])"
   ]
  },
  {
   "cell_type": "markdown",
   "metadata": {},
   "source": [
    "...but unlike lists, array slices are views on the original array, so any updates to the array slice will be reflected in the original array. Consider the following example, in which we combine indexing with assignment (which also works as you would expect)."
   ]
  },
  {
   "cell_type": "code",
   "execution_count": 27,
   "metadata": {},
   "outputs": [
    {
     "name": "stdout",
     "output_type": "stream",
     "text": [
      "[-10, 6, 7] [0, 1, 2, 3, 4, 5, 6, 7, 8, 9]\n"
     ]
    }
   ],
   "source": [
    "list_slice = L[5:8]\n",
    "list_slice[0] = -10\n",
    "print(list_slice, L)"
   ]
  },
  {
   "cell_type": "code",
   "execution_count": 31,
   "metadata": {},
   "outputs": [
    {
     "name": "stdout",
     "output_type": "stream",
     "text": [
      "[-10   6   7] [  0   1   2   3   4 -10   6   7   8   9]\n"
     ]
    }
   ],
   "source": [
    "arr_slice = arr[5:8]\n",
    "arr_slice[0] = -10\n",
    "print(arr_slice, arr)"
   ]
  },
  {
   "cell_type": "markdown",
   "metadata": {},
   "source": [
    "Indexing via index and boolean arrays are convenient ways of filtering an array. In this case, these operations return a copy of the array, as opposed to a view on the original array as in the case of slicing."
   ]
  },
  {
   "cell_type": "code",
   "execution_count": 28,
   "metadata": {},
   "outputs": [
    {
     "data": {
      "text/plain": [
       "array([1, 0, 1, 3, 9, 9])"
      ]
     },
     "execution_count": 28,
     "metadata": {},
     "output_type": "execute_result"
    }
   ],
   "source": [
    "# Index arrays - Each element in the index array is replaced by the corresponding value in the array\n",
    "arr[np.array([1,0,1,3,9,-1])]"
   ]
  },
  {
   "cell_type": "code",
   "execution_count": 29,
   "metadata": {},
   "outputs": [
    {
     "data": {
      "text/plain": [
       "array([0, 5])"
      ]
     },
     "execution_count": 29,
     "metadata": {},
     "output_type": "execute_result"
    }
   ],
   "source": [
    "# Boolean arrays - Each element in the array is returned if the corresponding boolean scalar is True\n",
    "arr[np.array([True, False, False, False, False, True, False, False, False, False])]"
   ]
  },
  {
   "cell_type": "code",
   "execution_count": 30,
   "metadata": {},
   "outputs": [
    {
     "data": {
      "text/plain": [
       "array([0, 5])"
      ]
     },
     "execution_count": 30,
     "metadata": {},
     "output_type": "execute_result"
    }
   ],
   "source": [
    "# Filtering via conditional\n",
    "arr[arr % 5 == 0]"
   ]
  },
  {
   "cell_type": "markdown",
   "metadata": {},
   "source": [
    "You can also use boolean arrays to learn about your data."
   ]
  },
  {
   "cell_type": "code",
   "execution_count": 31,
   "metadata": {},
   "outputs": [
    {
     "data": {
      "text/plain": [
       "54"
      ]
     },
     "execution_count": 31,
     "metadata": {},
     "output_type": "execute_result"
    }
   ],
   "source": [
    "# How much of my data satisfies a given condition?\n",
    "arr = np.random.randn(100)\n",
    "(arr > 0).sum() #T 1 F 0"
   ]
  },
  {
   "cell_type": "code",
   "execution_count": 32,
   "metadata": {},
   "outputs": [
    {
     "data": {
      "text/plain": [
       "True"
      ]
     },
     "execution_count": 32,
     "metadata": {},
     "output_type": "execute_result"
    }
   ],
   "source": [
    "# Do any of my data satisfy a given condition?\n",
    "(arr > 3).any() #out of 3SD"
   ]
  },
  {
   "cell_type": "code",
   "execution_count": 33,
   "metadata": {},
   "outputs": [
    {
     "data": {
      "text/plain": [
       "False"
      ]
     },
     "execution_count": 33,
     "metadata": {},
     "output_type": "execute_result"
    }
   ],
   "source": [
    "# Do all of my data satisfy a given condition?\n",
    "(np.abs(arr) < 3).all()"
   ]
  },
  {
   "cell_type": "markdown",
   "metadata": {},
   "source": [
    "Indexing and slicing multi-dimensional arrays is fairly intuitive. Whereas a single dimensional array contains 0-dimensional values (scalars), a 2-dimensional array is an array of 1-d arrays, where the first dimension represents the position of each 1-d array, and the second dimension refers to a specific position within each 1-d array (where all 1-d arrays have the same length). Similarly, a 3-dimension array has 3 dimensions corresponding to the position of each 2-d array, 1-d array, and scalar value, respectively. And so on, for higher dimensions.\n",
    "\n",
    "![](https://i.stack.imgur.com/R2IDC.png \"Multi-dimensional arrays\")\n",
    "\n",
    "When indexing and slicing into an n-d array, each dimension is accessed in order, either via successive indexing or slicing operations or a sequence of dimensional indices or slices. To retain all of the elements for a particular dimension, use the ':' operator."
   ]
  },
  {
   "cell_type": "code",
   "execution_count": 34,
   "metadata": {},
   "outputs": [
    {
     "data": {
      "text/plain": [
       "array([[0.7445287 , 0.91004461, 0.88973248],\n",
       "       [0.83345694, 0.7828525 , 0.06259683],\n",
       "       [0.42542708, 0.00217241, 0.00131896]])"
      ]
     },
     "execution_count": 34,
     "metadata": {},
     "output_type": "execute_result"
    }
   ],
   "source": [
    "# 2-d array\n",
    "arr2d = np.random.rand(3,3)\n",
    "arr2d"
   ]
  },
  {
   "cell_type": "code",
   "execution_count": 35,
   "metadata": {},
   "outputs": [
    {
     "name": "stdout",
     "output_type": "stream",
     "text": [
      "0.7445287041795936\n",
      "0.7445287041795936\n"
     ]
    }
   ],
   "source": [
    "# Index specific element\n",
    "print(arr2d[0][0])\n",
    "print(arr2d[0,0])"
   ]
  },
  {
   "cell_type": "code",
   "execution_count": 36,
   "metadata": {},
   "outputs": [
    {
     "name": "stdout",
     "output_type": "stream",
     "text": [
      "[0.7445287  0.91004461 0.88973248]\n",
      "[0.7445287  0.91004461 0.88973248]\n"
     ]
    }
   ],
   "source": [
    "# Slice rows\n",
    "print(arr2d[0])\n",
    "print(arr2d[0,:])"
   ]
  },
  {
   "cell_type": "code",
   "execution_count": 37,
   "metadata": {},
   "outputs": [
    {
     "data": {
      "text/plain": [
       "array([0.7445287 , 0.83345694, 0.42542708])"
      ]
     },
     "execution_count": 37,
     "metadata": {},
     "output_type": "execute_result"
    }
   ],
   "source": [
    "# Slice columns\n",
    "arr2d[:,0]"
   ]
  },
  {
   "cell_type": "code",
   "execution_count": 38,
   "metadata": {},
   "outputs": [
    {
     "data": {
      "text/plain": [
       "array([[0.83345694, 0.7828525 ],\n",
       "       [0.42542708, 0.00217241]])"
      ]
     },
     "execution_count": 38,
     "metadata": {},
     "output_type": "execute_result"
    }
   ],
   "source": [
    "# Fancy slicing\n",
    "arr2d[1:,:2]"
   ]
  },
  {
   "cell_type": "code",
   "execution_count": 39,
   "metadata": {},
   "outputs": [
    {
     "data": {
      "text/plain": [
       "array([[[0.79760216, 0.97607183, 0.987604  ],\n",
       "        [0.95840659, 0.40380481, 0.86174602],\n",
       "        [0.3491364 , 0.95386019, 0.73008263]],\n",
       "\n",
       "       [[0.1022267 , 0.98008574, 0.26817813],\n",
       "        [0.71913232, 0.96496614, 0.28394374],\n",
       "        [0.51826844, 0.3708075 , 0.03253725]],\n",
       "\n",
       "       [[0.92544024, 0.78300607, 0.15566763],\n",
       "        [0.77804286, 0.29323666, 0.41158636],\n",
       "        [0.37001263, 0.86982771, 0.16651317]]])"
      ]
     },
     "execution_count": 39,
     "metadata": {},
     "output_type": "execute_result"
    }
   ],
   "source": [
    "# 3-d array\n",
    "arr3d = np.random.rand(3,3,3).astype(float)\n",
    "arr3d"
   ]
  },
  {
   "cell_type": "code",
   "execution_count": 40,
   "metadata": {},
   "outputs": [
    {
     "name": "stdout",
     "output_type": "stream",
     "text": [
      "[[0.1022267  0.98008574 0.26817813]\n",
      " [0.71913232 0.96496614 0.28394374]\n",
      " [0.51826844 0.3708075  0.03253725]]\n",
      "[[0.1022267  0.98008574 0.26817813]\n",
      " [0.71913232 0.96496614 0.28394374]\n",
      " [0.51826844 0.3708075  0.03253725]]\n"
     ]
    }
   ],
   "source": [
    "# Index specific 2-d array\n",
    "print(arr3d[1])\n",
    "print(arr3d[1,:,:])"
   ]
  },
  {
   "cell_type": "code",
   "execution_count": 41,
   "metadata": {},
   "outputs": [
    {
     "data": {
      "text/plain": [
       "array([[0.95840659, 0.40380481, 0.86174602],\n",
       "       [0.71913232, 0.96496614, 0.28394374],\n",
       "       [0.77804286, 0.29323666, 0.41158636]])"
      ]
     },
     "execution_count": 41,
     "metadata": {},
     "output_type": "execute_result"
    }
   ],
   "source": [
    "# Slicing 3-d array\n",
    "arr3d[:,1,:]"
   ]
  },
  {
   "cell_type": "markdown",
   "metadata": {},
   "source": [
    "## Other Important Array Methods"
   ]
  },
  {
   "cell_type": "markdown",
   "metadata": {},
   "source": [
    "### Conditional Logic"
   ]
  },
  {
   "cell_type": "markdown",
   "metadata": {},
   "source": [
    "We saw that ternary expressions were a convenient way for us to generate conditional values:\n",
    "\n",
    "*expr1* if *cond* else *expr2*\n",
    "\n",
    "There are several ways to perform this task for a list (which we could then cast to an array):\n",
    "\n",
    "1. Use a **for** loop\n",
    "2. Use **map** with a lambda function\n",
    "3. Use a list comprehension\n",
    "\n",
    "For arrays, we use the np.**where** function!"
   ]
  },
  {
   "cell_type": "code",
   "execution_count": 42,
   "metadata": {},
   "outputs": [],
   "source": [
    "np.where?"
   ]
  },
  {
   "cell_type": "code",
   "execution_count": 43,
   "metadata": {},
   "outputs": [
    {
     "data": {
      "text/plain": [
       "array(['T', 'T', 'T', 'T', 'H', 'H', 'H', 'H', 'T', 'H'], dtype='<U1')"
      ]
     },
     "execution_count": 43,
     "metadata": {},
     "output_type": "execute_result"
    }
   ],
   "source": [
    "# Flip a coin N times\n",
    "N = 10\n",
    "np.where(np.random.rand(N) > 0.5, 'H', 'T')"
   ]
  },
  {
   "cell_type": "code",
   "execution_count": 44,
   "metadata": {},
   "outputs": [
    {
     "data": {
      "text/plain": [
       "array([0., 0., 0., 0., 0., 0., 6., 0., 0., 9.])"
      ]
     },
     "execution_count": 44,
     "metadata": {},
     "output_type": "execute_result"
    }
   ],
   "source": [
    "# Select a value at random\n",
    "N = 10\n",
    "a = np.arange(N)\n",
    "b = np.zeros(N)\n",
    "np.where(np.random.rand(N) > 0.5, a, b)"
   ]
  },
  {
   "cell_type": "code",
   "execution_count": 45,
   "metadata": {},
   "outputs": [
    {
     "data": {
      "text/plain": [
       "array([ 0., -1.,  0., -1.,  0.,  0.,  1., -1.,  0., -1.])"
      ]
     },
     "execution_count": 45,
     "metadata": {},
     "output_type": "execute_result"
    }
   ],
   "source": [
    "# Nested conditions\n",
    "N = 10\n",
    "a = np.ones(N)\n",
    "b = np.zeros(N)\n",
    "c = -np.ones(N)\n",
    "np.where(np.random.rand(N) > 2/3, a, np.where(np.random.rand(N) > 1/2, b, c))"
   ]
  },
  {
   "cell_type": "markdown",
   "metadata": {},
   "source": [
    "### Sorting"
   ]
  },
  {
   "cell_type": "code",
   "execution_count": 46,
   "metadata": {},
   "outputs": [
    {
     "data": {
      "text/plain": [
       "array([0.59320004, 0.9342632 , 0.1897503 , 0.50519529, 0.33665049,\n",
       "       0.80187432, 0.67890231, 0.32672303, 0.917295  , 0.8736065 ])"
      ]
     },
     "execution_count": 46,
     "metadata": {},
     "output_type": "execute_result"
    }
   ],
   "source": [
    "arr = np.random.rand(10)\n",
    "arr"
   ]
  },
  {
   "cell_type": "code",
   "execution_count": 47,
   "metadata": {},
   "outputs": [
    {
     "data": {
      "text/plain": [
       "array([0.1897503 , 0.32672303, 0.33665049, 0.50519529, 0.59320004,\n",
       "       0.67890231, 0.80187432, 0.8736065 , 0.917295  , 0.9342632 ])"
      ]
     },
     "execution_count": 47,
     "metadata": {},
     "output_type": "execute_result"
    }
   ],
   "source": [
    "# Return a copy of sorted array\n",
    "np.sort(arr)"
   ]
  },
  {
   "cell_type": "code",
   "execution_count": 48,
   "metadata": {},
   "outputs": [
    {
     "data": {
      "text/plain": [
       "array([2, 7, 4, 3, 0, 6, 5, 9, 8, 1])"
      ]
     },
     "execution_count": 48,
     "metadata": {},
     "output_type": "execute_result"
    }
   ],
   "source": [
    "# Return sorting indices\n",
    "arr.argsort()"
   ]
  },
  {
   "cell_type": "code",
   "execution_count": 49,
   "metadata": {},
   "outputs": [
    {
     "data": {
      "text/plain": [
       "array([0.1897503 , 0.32672303, 0.33665049, 0.50519529, 0.59320004,\n",
       "       0.67890231, 0.80187432, 0.8736065 , 0.917295  , 0.9342632 ])"
      ]
     },
     "execution_count": 49,
     "metadata": {},
     "output_type": "execute_result"
    }
   ],
   "source": [
    "# Sort in place\n",
    "arr.sort()\n",
    "arr"
   ]
  },
  {
   "cell_type": "code",
   "execution_count": 50,
   "metadata": {},
   "outputs": [
    {
     "name": "stdout",
     "output_type": "stream",
     "text": [
      "0.7389429243416294 6\n"
     ]
    }
   ],
   "source": [
    "# Search sorted\n",
    "u = np.random.rand()\n",
    "print(u, arr.searchsorted(u))"
   ]
  },
  {
   "cell_type": "markdown",
   "metadata": {},
   "source": [
    "### Set Logic"
   ]
  },
  {
   "cell_type": "code",
   "execution_count": 51,
   "metadata": {},
   "outputs": [
    {
     "name": "stdout",
     "output_type": "stream",
     "text": [
      "[0 1 2 3 4 5 6 7 8 9] [20 18 16 14 12 10  8  6  4  2]\n"
     ]
    }
   ],
   "source": [
    "arr1 = np.arange(10)\n",
    "arr2 = np.arange(20,0,-2)\n",
    "print(arr1, arr2)"
   ]
  },
  {
   "cell_type": "code",
   "execution_count": 52,
   "metadata": {},
   "outputs": [
    {
     "data": {
      "text/plain": [
       "False"
      ]
     },
     "execution_count": 52,
     "metadata": {},
     "output_type": "execute_result"
    }
   ],
   "source": [
    "# Membership\n",
    "7 in arr2"
   ]
  },
  {
   "cell_type": "code",
   "execution_count": 53,
   "metadata": {},
   "outputs": [
    {
     "name": "stdout",
     "output_type": "stream",
     "text": [
      "[ 0 18 32 42 48 50 48 42 32 18] [ 0 18 32 42 48 50]\n"
     ]
    }
   ],
   "source": [
    "# Unique elements\n",
    "print(arr1 * arr2, np.unique(arr1 * arr2))"
   ]
  },
  {
   "cell_type": "code",
   "execution_count": 54,
   "metadata": {},
   "outputs": [
    {
     "data": {
      "text/plain": [
       "array([ 0,  1,  3,  5,  7,  9, 10, 12, 14, 16, 18, 20])"
      ]
     },
     "execution_count": 54,
     "metadata": {},
     "output_type": "execute_result"
    }
   ],
   "source": [
    "# Comparisons - np.intersect1d, .union1d, setdiff1d, setxor1d\n",
    "np.setxor1d(arr1, arr2)"
   ]
  },
  {
   "cell_type": "markdown",
   "metadata": {},
   "source": [
    "## Manipulating and Combining Arrays"
   ]
  },
  {
   "cell_type": "markdown",
   "metadata": {},
   "source": [
    "Sometimes, you will need to manipulate or combine multiple arrays of data prior to performing any analysis. There are a lot of built-in functions for these purposes. Very rarely will you need to develop your own code."
   ]
  },
  {
   "cell_type": "markdown",
   "metadata": {},
   "source": [
    "#### Manipulating Arrays"
   ]
  },
  {
   "cell_type": "code",
   "execution_count": 61,
   "metadata": {},
   "outputs": [
    {
     "data": {
      "text/plain": [
       "array([0, 1, 2, 3, 4, 5, 6, 7])"
      ]
     },
     "execution_count": 61,
     "metadata": {},
     "output_type": "execute_result"
    }
   ],
   "source": [
    "arr = np.arange(8)\n",
    "arr"
   ]
  },
  {
   "cell_type": "code",
   "execution_count": 62,
   "metadata": {},
   "outputs": [
    {
     "name": "stdout",
     "output_type": "stream",
     "text": [
      "[[0 1 2 3]\n",
      " [4 5 6 7]]\n",
      "[[0 1 2 3]\n",
      " [4 5 6 7]]\n"
     ]
    }
   ],
   "source": [
    "# Reshaping arrays\n",
    "print(arr.reshape((2,4)))\n",
    "print(arr.reshape((2,-1))) # automatically determines the other dimension size"
   ]
  },
  {
   "cell_type": "code",
   "execution_count": 68,
   "metadata": {},
   "outputs": [
    {
     "name": "stdout",
     "output_type": "stream",
     "text": [
      "[0 1 2 3 4 5 6 7]\n"
     ]
    },
    {
     "data": {
      "text/plain": [
       "array([[0, 4],\n",
       "       [1, 5],\n",
       "       [2, 6],\n",
       "       [3, 7]])"
      ]
     },
     "execution_count": 68,
     "metadata": {},
     "output_type": "execute_result"
    }
   ],
   "source": [
    "# Transpose\n",
    "print(arr)\n",
    "arr.reshape((2,4)).T # Our first example of chaining methods together"
   ]
  },
  {
   "cell_type": "code",
   "execution_count": 69,
   "metadata": {},
   "outputs": [
    {
     "name": "stdout",
     "output_type": "stream",
     "text": [
      "[0 1 2 3 4 5 6 7]\n",
      "[0 4 1 5 2 6 3 7]\n"
     ]
    }
   ],
   "source": [
    "# Flatten\n",
    "print(arr.reshape((2,4)).flatten('C')) # row-major\n",
    "print(arr.reshape((2,4)).flatten('F')) # column-major"
   ]
  },
  {
   "cell_type": "markdown",
   "metadata": {},
   "source": [
    "#### Combining and Splitting Arrays"
   ]
  },
  {
   "cell_type": "code",
   "execution_count": 70,
   "metadata": {},
   "outputs": [
    {
     "name": "stdout",
     "output_type": "stream",
     "text": [
      "[[0.39804676 0.09499713]\n",
      " [0.37421124 0.85041543]\n",
      " [0.53494414 0.36796021]\n",
      " [0.51560415 0.71448169]]\n",
      "[[0.77183639 0.46733144]\n",
      " [0.79038246 0.05591297]\n",
      " [0.67010196 0.88272699]\n",
      " [0.1067269  0.24695059]]\n"
     ]
    }
   ],
   "source": [
    "arr1 = np.random.rand(4,2)\n",
    "arr2 = np.random.rand(4,2)\n",
    "print(arr1)\n",
    "print(arr2)"
   ]
  },
  {
   "cell_type": "code",
   "execution_count": 71,
   "metadata": {},
   "outputs": [
    {
     "data": {
      "text/plain": [
       "array([[0.39804676, 0.09499713],\n",
       "       [0.37421124, 0.85041543],\n",
       "       [0.53494414, 0.36796021],\n",
       "       [0.51560415, 0.71448169],\n",
       "       [0.77183639, 0.46733144],\n",
       "       [0.79038246, 0.05591297],\n",
       "       [0.67010196, 0.88272699],\n",
       "       [0.1067269 , 0.24695059]])"
      ]
     },
     "execution_count": 71,
     "metadata": {},
     "output_type": "execute_result"
    }
   ],
   "source": [
    "# Concatenation by row\n",
    "np.concatenate([arr1, arr2], axis=0)"
   ]
  },
  {
   "cell_type": "code",
   "execution_count": 72,
   "metadata": {},
   "outputs": [
    {
     "data": {
      "text/plain": [
       "array([[0.39804676, 0.09499713],\n",
       "       [0.37421124, 0.85041543],\n",
       "       [0.53494414, 0.36796021],\n",
       "       [0.51560415, 0.71448169],\n",
       "       [0.77183639, 0.46733144],\n",
       "       [0.79038246, 0.05591297],\n",
       "       [0.67010196, 0.88272699],\n",
       "       [0.1067269 , 0.24695059]])"
      ]
     },
     "execution_count": 72,
     "metadata": {},
     "output_type": "execute_result"
    }
   ],
   "source": [
    "# Stacking rows\n",
    "np.vstack([arr1, arr2]) # also, np.row_stack"
   ]
  },
  {
   "cell_type": "code",
   "execution_count": 73,
   "metadata": {},
   "outputs": [
    {
     "data": {
      "text/plain": [
       "array([[0.39804676, 0.09499713, 0.77183639, 0.46733144],\n",
       "       [0.37421124, 0.85041543, 0.79038246, 0.05591297],\n",
       "       [0.53494414, 0.36796021, 0.67010196, 0.88272699],\n",
       "       [0.51560415, 0.71448169, 0.1067269 , 0.24695059]])"
      ]
     },
     "execution_count": 73,
     "metadata": {},
     "output_type": "execute_result"
    }
   ],
   "source": [
    "# Concatenate by column\n",
    "np.concatenate([arr1, arr2], axis=1)"
   ]
  },
  {
   "cell_type": "code",
   "execution_count": 74,
   "metadata": {},
   "outputs": [
    {
     "data": {
      "text/plain": [
       "array([[0.39804676, 0.09499713, 0.77183639, 0.46733144],\n",
       "       [0.37421124, 0.85041543, 0.79038246, 0.05591297],\n",
       "       [0.53494414, 0.36796021, 0.67010196, 0.88272699],\n",
       "       [0.51560415, 0.71448169, 0.1067269 , 0.24695059]])"
      ]
     },
     "execution_count": 74,
     "metadata": {},
     "output_type": "execute_result"
    }
   ],
   "source": [
    "# Stacking columns\n",
    "np.hstack([arr1, arr2]) # also, np.column_stack"
   ]
  },
  {
   "cell_type": "code",
   "execution_count": 75,
   "metadata": {},
   "outputs": [
    {
     "data": {
      "text/plain": [
       "[array([[0.39804676, 0.09499713]]),\n",
       " array([[0.37421124, 0.85041543]]),\n",
       " array([[0.53494414, 0.36796021],\n",
       "        [0.51560415, 0.71448169]])]"
      ]
     },
     "execution_count": 75,
     "metadata": {},
     "output_type": "execute_result"
    }
   ],
   "source": [
    "# Splitting arrays\n",
    "np.split(arr1, [1,2], axis=0) # also, np.hsplit, vsplit"
   ]
  },
  {
   "cell_type": "markdown",
   "metadata": {},
   "source": [
    "## File Input/Output"
   ]
  },
  {
   "cell_type": "markdown",
   "metadata": {},
   "source": [
    "There are two primary ways to save/load NumPy arrays to/from a file:\n",
    "\n",
    "* Binary format (.npy) - np.**save** and np.**load**\n",
    "* Delimited text file (.txt) - np.**savetxt** and np.**loadtxt** (also, np.**genfromtext** for files with missing data)"
   ]
  },
  {
   "cell_type": "code",
   "execution_count": 76,
   "metadata": {},
   "outputs": [
    {
     "data": {
      "text/plain": [
       "'/Users/weiyaoma/Desktop/X jupyter notebook'"
      ]
     },
     "execution_count": 76,
     "metadata": {},
     "output_type": "execute_result"
    }
   ],
   "source": [
    "# Print working directory\n",
    "%pwd"
   ]
  },
  {
   "cell_type": "code",
   "execution_count": null,
   "metadata": {},
   "outputs": [],
   "source": [
    "# Change working directory to data folder\n",
    "%cd ~/Dropbox/Teaching/Courses/BUDT758X/data/"
   ]
  },
  {
   "cell_type": "code",
   "execution_count": null,
   "metadata": {},
   "outputs": [],
   "source": [
    "# Save arr2d to binary file\n",
    "np.save('arr2d', arr2d) # function will add the .npy extension"
   ]
  },
  {
   "cell_type": "code",
   "execution_count": null,
   "metadata": {},
   "outputs": [],
   "source": [
    "# Delete arr2d and re-load from file\n",
    "del arr2d\n",
    "arr2d = np.load('arr2d.npy') # must include .npy extension\n",
    "arr2d"
   ]
  },
  {
   "cell_type": "code",
   "execution_count": null,
   "metadata": {},
   "outputs": [],
   "source": [
    "# Save arr2d to text file\n",
    "np.savetxt('arr2d.txt', arr2d, fmt='%.4f', delimiter=',')"
   ]
  },
  {
   "cell_type": "code",
   "execution_count": null,
   "metadata": {},
   "outputs": [],
   "source": [
    "# Delete arr2d and re-load from file\n",
    "del arr2d\n",
    "arr2d = np.loadtxt('arr2d.txt', delimiter=',')\n",
    "arr2d"
   ]
  },
  {
   "cell_type": "markdown",
   "metadata": {},
   "source": [
    "## Next Time: NumPy Lab"
   ]
  }
 ],
 "metadata": {
  "kernelspec": {
   "display_name": "Python 3",
   "language": "python",
   "name": "python3"
  },
  "language_info": {
   "codemirror_mode": {
    "name": "ipython",
    "version": 3
   },
   "file_extension": ".py",
   "mimetype": "text/x-python",
   "name": "python",
   "nbconvert_exporter": "python",
   "pygments_lexer": "ipython3",
   "version": "3.7.3"
  }
 },
 "nbformat": 4,
 "nbformat_minor": 2
}
